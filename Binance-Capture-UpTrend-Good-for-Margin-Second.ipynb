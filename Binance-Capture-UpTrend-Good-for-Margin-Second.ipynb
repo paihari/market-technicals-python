{
 "cells": [
  {
   "cell_type": "code",
   "execution_count": 1,
   "id": "21c6af51",
   "metadata": {},
   "outputs": [],
   "source": [
    "from tensorflow.python.keras.layers import Bidirectional, Dropout, Activation, Dense, LSTM,GRU\n",
    " \n",
    "from tensorflow.keras.models import Sequential\n",
    "from tensorflow.python.keras.callbacks import EarlyStopping\n",
    " \n",
    "from sklearn.preprocessing import MinMaxScaler\n",
    " \n",
    "from datetime import datetime\n",
    "\n",
    "from binance.client import Client\n",
    "\n",
    "from coinmarketcapapi import CoinMarketCapAPI, CoinMarketCapAPIError\n",
    "\n",
    "import matplotlib.pyplot as plt\n",
    "import numpy as np\n",
    "import pandas as pd\n",
    "import json"
   ]
  },
  {
   "cell_type": "code",
   "execution_count": 2,
   "id": "4e37b7c0",
   "metadata": {},
   "outputs": [],
   "source": [
    "client = Client('', '')"
   ]
  },
  {
   "cell_type": "code",
   "execution_count": 3,
   "id": "c9592b81",
   "metadata": {},
   "outputs": [],
   "source": [
    "cmc = CoinMarketCapAPI('  ')"
   ]
  },
  {
   "cell_type": "code",
   "execution_count": 4,
   "id": "4e5da0ed",
   "metadata": {},
   "outputs": [],
   "source": [
    "info = client.get_all_tickers()"
   ]
  },
  {
   "cell_type": "code",
   "execution_count": 5,
   "id": "77852dc4",
   "metadata": {},
   "outputs": [
    {
     "data": {
      "text/plain": [
       "'Good to check indivudual by get_symbol_info if status is trading'"
      ]
     },
     "execution_count": 5,
     "metadata": {},
     "output_type": "execute_result"
    }
   ],
   "source": [
    "'Good to check indivudual by get_symbol_info if status is trading'"
   ]
  },
  {
   "cell_type": "code",
   "execution_count": 6,
   "id": "16ca412e",
   "metadata": {},
   "outputs": [
    {
     "data": {
      "text/plain": [
       "'Filter the Info to get the list of Symbols ending with USDT'"
      ]
     },
     "execution_count": 6,
     "metadata": {},
     "output_type": "execute_result"
    }
   ],
   "source": [
    "'Filter the Info to get the list of Symbols ending with USDT'"
   ]
  },
  {
   "cell_type": "code",
   "execution_count": 7,
   "id": "f229a5ed",
   "metadata": {},
   "outputs": [],
   "source": [
    "ticker_list = [d['symbol'] for d in info if d['symbol'].endswith('USDT')]"
   ]
  },
  {
   "cell_type": "code",
   "execution_count": 8,
   "id": "39299cba",
   "metadata": {},
   "outputs": [],
   "source": [
    "rank_info = cmc.cryptocurrency_map(sort='cmc_rank').data"
   ]
  },
  {
   "cell_type": "code",
   "execution_count": 9,
   "id": "7da870b7",
   "metadata": {},
   "outputs": [],
   "source": [
    "target_rank_info = [d['symbol']+'USDT' for d in rank_info if d['rank'] >= 300 and d['rank'] <= 500]"
   ]
  },
  {
   "cell_type": "code",
   "execution_count": 10,
   "id": "1a23e1d9",
   "metadata": {},
   "outputs": [],
   "source": [
    "target_ticker_list = [d for d in ticker_list if d in target_rank_info]"
   ]
  },
  {
   "cell_type": "code",
   "execution_count": 11,
   "id": "ef4e3caa",
   "metadata": {},
   "outputs": [],
   "source": [
    "def is_candidate(filtered_klines_info, tolerable_volume):\n",
    "    context_klines_info = filtered_klines_info[:len(filtered_klines_info) -1]\n",
    "    is_candidate = False\n",
    "    trigger_kline = filtered_klines_info[-1]\n",
    "    \n",
    "    for context_kline in context_klines_info:\n",
    "        \n",
    "        volume_gate = float(context_kline[3])  <  tolerable_volume * 1.2\n",
    "        if volume_gate :\n",
    "            is_candidate = True\n",
    "        else:\n",
    "            return False\n",
    "\n",
    "\n",
    "    volume_gate = float(trigger_kline[3]  > tolerable_volume * 10)\n",
    "\n",
    "    if volume_gate:\n",
    "        is_candidate = True\n",
    "    else:\n",
    "        is_candidate = False\n",
    "\n",
    "    return is_candidate"
   ]
  },
  {
   "cell_type": "code",
   "execution_count": 12,
   "id": "8f7f8623",
   "metadata": {},
   "outputs": [],
   "source": [
    "def find_percentage_increase_or_decrease(focused_kline_array):\n",
    "    percentage_value = []\n",
    "    for kline in focused_kline_array:\n",
    "        diff = kline[2] - kline[1]\n",
    "        perc_diff = diff/kline[1]\n",
    "        percentage_value.append(perc_diff*100)\n",
    "    return percentage_value "
   ]
  },
  {
   "cell_type": "code",
   "execution_count": 13,
   "id": "1337f1eb",
   "metadata": {},
   "outputs": [],
   "source": [
    "hit_ticker_dictionary = {}"
   ]
  },
  {
   "cell_type": "code",
   "execution_count": 14,
   "id": "fd700829",
   "metadata": {},
   "outputs": [
    {
     "name": "stdout",
     "output_type": "stream",
     "text": [
      "********** SUCCESS ************************\n",
      "CTKUSDT\n",
      "20\n",
      "[1.65708360e+12 7.83000000e-01 8.52000000e-01 3.87478140e+06\n",
      " 8.81226054e+00]\n",
      "[1657083600000, '0.78300000', '0.86000000', '0.78300000', '0.85200000', '3874781.40000000', 1657087199999, '3210692.46980000', 13783, '1800085.70000000', '1488103.64990000', '0']\n",
      "********** SUCCESS ************************\n",
      "PHAUSDT\n",
      "47\n",
      "[1.65718080e+12 1.08600000e-01 1.14500000e-01 1.49206090e+07\n",
      " 5.43278085e+00]\n",
      "[1657180800000, '0.10860000', '0.12200000', '0.10860000', '0.11450000', '14920609.00000000', 1657184399999, '1748097.20570000', 5946, '9751277.00000000', '1145028.71460000', '0']\n"
     ]
    }
   ],
   "source": [
    "full_test_data_set = []\n",
    "\n",
    "for target_ticker in target_ticker_list:\n",
    "\n",
    "    klines = client.get_historical_klines(target_ticker, Client.KLINE_INTERVAL_1HOUR, \"7 day ago UTC\") \n",
    "    length = int(len(klines))\n",
    "    if(length < 24):\n",
    "        break\n",
    "    \n",
    "    array = np.array(klines, dtype=np.float64)\n",
    "    focused_kline_array = np.delete(array, [2, 3, 6, 7, 8, 9, 10, 11], 1)\n",
    "    percentage_value = find_percentage_increase_or_decrease(focused_kline_array)\n",
    "    percentage_value = np.reshape(percentage_value, (length, 1))\n",
    "    focused_kline_array = np.append(focused_kline_array, percentage_value, 1)\n",
    "    average_volume = np.mean(focused_kline_array[:,3])\n",
    "    tolerable_volume = average_volume * 1.2\n",
    "    \n",
    "   \n",
    "    for x in range(0, length):\n",
    "        \n",
    " \n",
    "        filtered_klines_info = focused_kline_array[x:x+24]\n",
    "        buy_kline_info = filtered_klines_info[-1]\n",
    "        if(len(filtered_klines_info) == 24 and is_candidate(filtered_klines_info, tolerable_volume)):\n",
    "            \n",
    "            \n",
    "            print('********** SUCCESS ************************')\n",
    "            print(target_ticker)\n",
    "            print(x)\n",
    "            print(buy_kline_info)\n",
    "            print(klines[x:x+24][-1])\n",
    "            \n",
    "            key_test_data_set = [] \n",
    "            key_test_data_set.append(buy_kline_info[0])\n",
    "            key_test_data_set.append\n",
    "            \n",
    "            \n",
    "            hit_ticker_dictionary[target_ticker] = filtered_klines_info[-1:]\n",
    "            "
   ]
  },
  {
   "cell_type": "code",
   "execution_count": null,
   "id": "a35ddf7d",
   "metadata": {},
   "outputs": [],
   "source": []
  },
  {
   "cell_type": "code",
   "execution_count": 15,
   "id": "70cf261b",
   "metadata": {},
   "outputs": [
    {
     "ename": "TypeError",
     "evalue": "Input type must be str",
     "output_type": "error",
     "traceback": [
      "\u001b[0;31m---------------------------------------------------------------------------\u001b[0m",
      "\u001b[0;31mTypeError\u001b[0m                                 Traceback (most recent call last)",
      "\u001b[0;32m/var/folders/1p/r_ctn6054p567yvtb2gkp1240000gn/T/ipykernel_42577/281376785.py\u001b[0m in \u001b[0;36m<module>\u001b[0;34m\u001b[0m\n\u001b[1;32m     10\u001b[0m     analysis_kline_list = client.get_historical_klines(symbol=key, \n\u001b[1;32m     11\u001b[0m                                                        \u001b[0minterval\u001b[0m\u001b[0;34m=\u001b[0m\u001b[0mClient\u001b[0m\u001b[0;34m.\u001b[0m\u001b[0mKLINE_INTERVAL_1HOUR\u001b[0m\u001b[0;34m,\u001b[0m\u001b[0;34m\u001b[0m\u001b[0;34m\u001b[0m\u001b[0m\n\u001b[0;32m---> 12\u001b[0;31m                                                        start_str=trigger_time_in_ms)[1:6]\n\u001b[0m\u001b[1;32m     13\u001b[0m     \u001b[0;32mfor\u001b[0m \u001b[0msell_kline\u001b[0m \u001b[0;32min\u001b[0m \u001b[0manalysis_kline_list\u001b[0m\u001b[0;34m:\u001b[0m\u001b[0;34m\u001b[0m\u001b[0;34m\u001b[0m\u001b[0m\n\u001b[1;32m     14\u001b[0m         \u001b[0mclose_price\u001b[0m \u001b[0;34m=\u001b[0m \u001b[0msell_kline\u001b[0m\u001b[0;34m[\u001b[0m\u001b[0;36m4\u001b[0m\u001b[0;34m]\u001b[0m\u001b[0;34m\u001b[0m\u001b[0;34m\u001b[0m\u001b[0m\n",
      "\u001b[0;32m/opt/anaconda3/lib/python3.7/site-packages/binance/client.py\u001b[0m in \u001b[0;36mget_historical_klines\u001b[0;34m(self, symbol, interval, start_str, end_str, limit, klines_type)\u001b[0m\n\u001b[1;32m    933\u001b[0m         \"\"\"\n\u001b[1;32m    934\u001b[0m         return self._historical_klines(\n\u001b[0;32m--> 935\u001b[0;31m             \u001b[0msymbol\u001b[0m\u001b[0;34m,\u001b[0m \u001b[0minterval\u001b[0m\u001b[0;34m,\u001b[0m \u001b[0mstart_str\u001b[0m\u001b[0;34m=\u001b[0m\u001b[0mstart_str\u001b[0m\u001b[0;34m,\u001b[0m \u001b[0mend_str\u001b[0m\u001b[0;34m=\u001b[0m\u001b[0mend_str\u001b[0m\u001b[0;34m,\u001b[0m \u001b[0mlimit\u001b[0m\u001b[0;34m=\u001b[0m\u001b[0mlimit\u001b[0m\u001b[0;34m,\u001b[0m \u001b[0mklines_type\u001b[0m\u001b[0;34m=\u001b[0m\u001b[0mklines_type\u001b[0m\u001b[0;34m\u001b[0m\u001b[0;34m\u001b[0m\u001b[0m\n\u001b[0m\u001b[1;32m    936\u001b[0m         )\n\u001b[1;32m    937\u001b[0m \u001b[0;34m\u001b[0m\u001b[0m\n",
      "\u001b[0;32m/opt/anaconda3/lib/python3.7/site-packages/binance/client.py\u001b[0m in \u001b[0;36m_historical_klines\u001b[0;34m(self, symbol, interval, start_str, end_str, limit, klines_type)\u001b[0m\n\u001b[1;32m    967\u001b[0m \u001b[0;34m\u001b[0m\u001b[0m\n\u001b[1;32m    968\u001b[0m         \u001b[0;31m# if a start time was passed convert it\u001b[0m\u001b[0;34m\u001b[0m\u001b[0;34m\u001b[0m\u001b[0;34m\u001b[0m\u001b[0m\n\u001b[0;32m--> 969\u001b[0;31m         \u001b[0mstart_ts\u001b[0m \u001b[0;34m=\u001b[0m \u001b[0mconvert_ts_str\u001b[0m\u001b[0;34m(\u001b[0m\u001b[0mstart_str\u001b[0m\u001b[0;34m)\u001b[0m\u001b[0;34m\u001b[0m\u001b[0;34m\u001b[0m\u001b[0m\n\u001b[0m\u001b[1;32m    970\u001b[0m \u001b[0;34m\u001b[0m\u001b[0m\n\u001b[1;32m    971\u001b[0m         \u001b[0;31m# establish first available start timestamp\u001b[0m\u001b[0;34m\u001b[0m\u001b[0;34m\u001b[0m\u001b[0;34m\u001b[0m\u001b[0m\n",
      "\u001b[0;32m/opt/anaconda3/lib/python3.7/site-packages/binance/helpers.py\u001b[0m in \u001b[0;36mconvert_ts_str\u001b[0;34m(ts_str)\u001b[0m\n\u001b[1;32m     74\u001b[0m     \u001b[0;32mif\u001b[0m \u001b[0mtype\u001b[0m\u001b[0;34m(\u001b[0m\u001b[0mts_str\u001b[0m\u001b[0;34m)\u001b[0m \u001b[0;34m==\u001b[0m \u001b[0mint\u001b[0m\u001b[0;34m:\u001b[0m\u001b[0;34m\u001b[0m\u001b[0;34m\u001b[0m\u001b[0m\n\u001b[1;32m     75\u001b[0m         \u001b[0;32mreturn\u001b[0m \u001b[0mts_str\u001b[0m\u001b[0;34m\u001b[0m\u001b[0;34m\u001b[0m\u001b[0m\n\u001b[0;32m---> 76\u001b[0;31m     \u001b[0;32mreturn\u001b[0m \u001b[0mdate_to_milliseconds\u001b[0m\u001b[0;34m(\u001b[0m\u001b[0mts_str\u001b[0m\u001b[0;34m)\u001b[0m\u001b[0;34m\u001b[0m\u001b[0;34m\u001b[0m\u001b[0m\n\u001b[0m",
      "\u001b[0;32m/opt/anaconda3/lib/python3.7/site-packages/binance/helpers.py\u001b[0m in \u001b[0;36mdate_to_milliseconds\u001b[0;34m(date_str)\u001b[0m\n\u001b[1;32m     22\u001b[0m     \u001b[0mepoch\u001b[0m\u001b[0;34m:\u001b[0m \u001b[0mdatetime\u001b[0m \u001b[0;34m=\u001b[0m \u001b[0mdatetime\u001b[0m\u001b[0;34m.\u001b[0m\u001b[0mutcfromtimestamp\u001b[0m\u001b[0;34m(\u001b[0m\u001b[0;36m0\u001b[0m\u001b[0;34m)\u001b[0m\u001b[0;34m.\u001b[0m\u001b[0mreplace\u001b[0m\u001b[0;34m(\u001b[0m\u001b[0mtzinfo\u001b[0m\u001b[0;34m=\u001b[0m\u001b[0mpytz\u001b[0m\u001b[0;34m.\u001b[0m\u001b[0mutc\u001b[0m\u001b[0;34m)\u001b[0m\u001b[0;34m\u001b[0m\u001b[0;34m\u001b[0m\u001b[0m\n\u001b[1;32m     23\u001b[0m     \u001b[0;31m# parse our date string\u001b[0m\u001b[0;34m\u001b[0m\u001b[0;34m\u001b[0m\u001b[0;34m\u001b[0m\u001b[0m\n\u001b[0;32m---> 24\u001b[0;31m     \u001b[0md\u001b[0m\u001b[0;34m:\u001b[0m \u001b[0mOptional\u001b[0m\u001b[0;34m[\u001b[0m\u001b[0mdatetime\u001b[0m\u001b[0;34m]\u001b[0m \u001b[0;34m=\u001b[0m \u001b[0mdateparser\u001b[0m\u001b[0;34m.\u001b[0m\u001b[0mparse\u001b[0m\u001b[0;34m(\u001b[0m\u001b[0mdate_str\u001b[0m\u001b[0;34m,\u001b[0m \u001b[0msettings\u001b[0m\u001b[0;34m=\u001b[0m\u001b[0;34m{\u001b[0m\u001b[0;34m'TIMEZONE'\u001b[0m\u001b[0;34m:\u001b[0m \u001b[0;34m\"UTC\"\u001b[0m\u001b[0;34m}\u001b[0m\u001b[0;34m)\u001b[0m\u001b[0;34m\u001b[0m\u001b[0;34m\u001b[0m\u001b[0m\n\u001b[0m\u001b[1;32m     25\u001b[0m     \u001b[0;32mif\u001b[0m \u001b[0;32mnot\u001b[0m \u001b[0md\u001b[0m\u001b[0;34m:\u001b[0m\u001b[0;34m\u001b[0m\u001b[0;34m\u001b[0m\u001b[0m\n\u001b[1;32m     26\u001b[0m         \u001b[0;32mraise\u001b[0m \u001b[0mUnknownDateFormat\u001b[0m\u001b[0;34m(\u001b[0m\u001b[0mdate_str\u001b[0m\u001b[0;34m)\u001b[0m\u001b[0;34m\u001b[0m\u001b[0;34m\u001b[0m\u001b[0m\n",
      "\u001b[0;32m/opt/anaconda3/lib/python3.7/site-packages/dateparser/conf.py\u001b[0m in \u001b[0;36mwrapper\u001b[0;34m(*args, **kwargs)\u001b[0m\n\u001b[1;32m     90\u001b[0m             \u001b[0;32mraise\u001b[0m \u001b[0mTypeError\u001b[0m\u001b[0;34m(\u001b[0m\u001b[0;34m\"settings can only be either dict or instance of Settings class\"\u001b[0m\u001b[0;34m)\u001b[0m\u001b[0;34m\u001b[0m\u001b[0;34m\u001b[0m\u001b[0m\n\u001b[1;32m     91\u001b[0m \u001b[0;34m\u001b[0m\u001b[0m\n\u001b[0;32m---> 92\u001b[0;31m         \u001b[0;32mreturn\u001b[0m \u001b[0mf\u001b[0m\u001b[0;34m(\u001b[0m\u001b[0;34m*\u001b[0m\u001b[0margs\u001b[0m\u001b[0;34m,\u001b[0m \u001b[0;34m**\u001b[0m\u001b[0mkwargs\u001b[0m\u001b[0;34m)\u001b[0m\u001b[0;34m\u001b[0m\u001b[0;34m\u001b[0m\u001b[0m\n\u001b[0m\u001b[1;32m     93\u001b[0m     \u001b[0;32mreturn\u001b[0m \u001b[0mwrapper\u001b[0m\u001b[0;34m\u001b[0m\u001b[0;34m\u001b[0m\u001b[0m\n\u001b[1;32m     94\u001b[0m \u001b[0;34m\u001b[0m\u001b[0m\n",
      "\u001b[0;32m/opt/anaconda3/lib/python3.7/site-packages/dateparser/__init__.py\u001b[0m in \u001b[0;36mparse\u001b[0;34m(date_string, date_formats, languages, locales, region, settings, detect_languages_function)\u001b[0m\n\u001b[1;32m     59\u001b[0m                                 region=region, settings=settings, detect_languages_function=detect_languages_function)\n\u001b[1;32m     60\u001b[0m \u001b[0;34m\u001b[0m\u001b[0m\n\u001b[0;32m---> 61\u001b[0;31m     \u001b[0mdata\u001b[0m \u001b[0;34m=\u001b[0m \u001b[0mparser\u001b[0m\u001b[0;34m.\u001b[0m\u001b[0mget_date_data\u001b[0m\u001b[0;34m(\u001b[0m\u001b[0mdate_string\u001b[0m\u001b[0;34m,\u001b[0m \u001b[0mdate_formats\u001b[0m\u001b[0;34m)\u001b[0m\u001b[0;34m\u001b[0m\u001b[0;34m\u001b[0m\u001b[0m\n\u001b[0m\u001b[1;32m     62\u001b[0m \u001b[0;34m\u001b[0m\u001b[0m\n\u001b[1;32m     63\u001b[0m     \u001b[0;32mif\u001b[0m \u001b[0mdata\u001b[0m\u001b[0;34m:\u001b[0m\u001b[0;34m\u001b[0m\u001b[0;34m\u001b[0m\u001b[0m\n",
      "\u001b[0;32m/opt/anaconda3/lib/python3.7/site-packages/dateparser/date.py\u001b[0m in \u001b[0;36mget_date_data\u001b[0;34m(self, date_string, date_formats)\u001b[0m\n\u001b[1;32m    417\u001b[0m         \"\"\"\n\u001b[1;32m    418\u001b[0m         \u001b[0;32mif\u001b[0m \u001b[0;32mnot\u001b[0m \u001b[0misinstance\u001b[0m\u001b[0;34m(\u001b[0m\u001b[0mdate_string\u001b[0m\u001b[0;34m,\u001b[0m \u001b[0mstr\u001b[0m\u001b[0;34m)\u001b[0m\u001b[0;34m:\u001b[0m\u001b[0;34m\u001b[0m\u001b[0;34m\u001b[0m\u001b[0m\n\u001b[0;32m--> 419\u001b[0;31m             \u001b[0;32mraise\u001b[0m \u001b[0mTypeError\u001b[0m\u001b[0;34m(\u001b[0m\u001b[0;34m'Input type must be str'\u001b[0m\u001b[0;34m)\u001b[0m\u001b[0;34m\u001b[0m\u001b[0;34m\u001b[0m\u001b[0m\n\u001b[0m\u001b[1;32m    420\u001b[0m \u001b[0;34m\u001b[0m\u001b[0m\n\u001b[1;32m    421\u001b[0m         \u001b[0mres\u001b[0m \u001b[0;34m=\u001b[0m \u001b[0mparse_with_formats\u001b[0m\u001b[0;34m(\u001b[0m\u001b[0mdate_string\u001b[0m\u001b[0;34m,\u001b[0m \u001b[0mdate_formats\u001b[0m \u001b[0;32mor\u001b[0m \u001b[0;34m[\u001b[0m\u001b[0;34m]\u001b[0m\u001b[0;34m,\u001b[0m \u001b[0mself\u001b[0m\u001b[0;34m.\u001b[0m\u001b[0m_settings\u001b[0m\u001b[0;34m)\u001b[0m\u001b[0;34m\u001b[0m\u001b[0;34m\u001b[0m\u001b[0m\n",
      "\u001b[0;31mTypeError\u001b[0m: Input type must be str"
     ]
    }
   ],
   "source": [
    "full_test_data_set = []\n",
    "\n",
    "for key in hit_ticker_dictionary.keys():\n",
    "    key_test_data_set = []\n",
    "    key_test_data_set.append(key) \n",
    "    trigger_time_in_ms = hit_ticker_dictionary[key][0][0]\n",
    "    key_test_data_set.append(trigger_time_in_ms) \n",
    "    open_price = hit_ticker_dictionary[key][0][4]\n",
    "    key_test_data_set.append(open_price)\n",
    "    analysis_kline_list = client.get_historical_klines(symbol=key, \n",
    "                                                       interval=Client.KLINE_INTERVAL_1HOUR, \n",
    "                                                       start_str=trigger_time_in_ms)[1:6]\n",
    "    for sell_kline in analysis_kline_list:\n",
    "        close_price = sell_kline[4]\n",
    "\n",
    "        key_test_data_set.append(close_price)\n",
    "        diff = (float(close_price) - float(open_price))\n",
    "        profit = diff/float(open_price) * 100\n",
    "        key_test_data_set.append(profit)\n",
    "        \n",
    "    full_test_data_set.append(key_test_data_set)\n",
    "    "
   ]
  },
  {
   "cell_type": "code",
   "execution_count": null,
   "id": "02c4c3c5",
   "metadata": {},
   "outputs": [],
   "source": [
    "full_test_data_set"
   ]
  },
  {
   "cell_type": "code",
   "execution_count": null,
   "id": "30321ea3",
   "metadata": {},
   "outputs": [],
   "source": []
  }
 ],
 "metadata": {
  "kernelspec": {
   "display_name": "Python 3 (ipykernel)",
   "language": "python",
   "name": "python3"
  },
  "language_info": {
   "codemirror_mode": {
    "name": "ipython",
    "version": 3
   },
   "file_extension": ".py",
   "mimetype": "text/x-python",
   "name": "python",
   "nbconvert_exporter": "python",
   "pygments_lexer": "ipython3",
   "version": "3.7.13"
  }
 },
 "nbformat": 4,
 "nbformat_minor": 5
}
