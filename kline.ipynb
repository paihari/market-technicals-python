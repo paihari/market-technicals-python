{
 "cells": [
  {
   "cell_type": "code",
   "execution_count": 6,
   "id": "0c14e720",
   "metadata": {},
   "outputs": [
    {
     "name": "stdout",
     "output_type": "stream",
     "text": [
      "{'e': 'kline', 'E': 1655120462931, 's': 'BNBBTC', 'k': {'t': 1655120400000, 'T': 1655120459999, 's': 'BNBBTC', 'i': '1m', 'f': 187855428, 'L': 187855505, 'o': '0.00931700', 'c': '0.00930200', 'h': '0.00931700', 'l': '0.00929900', 'v': '109.09300000', 'n': 78, 'x': True, 'q': '1.01543127', 'V': '40.93700000', 'Q': '0.38088548', 'B': '0'}}\n",
      "{'e': 'kline', 'E': 1655120465620, 's': 'BNBBTC', 'k': {'t': 1655120460000, 'T': 1655120519999, 's': 'BNBBTC', 'i': '1m', 'f': 187855506, 'L': 187855511, 'o': '0.00930500', 'c': '0.00930500', 'h': '0.00930500', 'l': '0.00930500', 'v': '20.41900000', 'n': 6, 'x': False, 'q': '0.18999878', 'V': '0.00000000', 'Q': '0.00000000', 'B': '0'}}\n",
      "{'e': 'kline', 'E': 1655120467740, 's': 'BNBBTC', 'k': {'t': 1655120460000, 'T': 1655120519999, 's': 'BNBBTC', 'i': '1m', 'f': 187855506, 'L': 187855516, 'o': '0.00930500', 'c': '0.00930500', 'h': '0.00930600', 'l': '0.00930500', 'v': '22.41500000', 'n': 11, 'x': False, 'q': '0.20857271', 'V': '1.16000000', 'Q': '0.01079496', 'B': '0'}}\n",
      "{'e': 'kline', 'E': 1655120470814, 's': 'BNBBTC', 'k': {'t': 1655120460000, 'T': 1655120519999, 's': 'BNBBTC', 'i': '1m', 'f': 187855506, 'L': 187855517, 'o': '0.00930500', 'c': '0.00930600', 'h': '0.00930600', 'l': '0.00930500', 'v': '22.46400000', 'n': 12, 'x': False, 'q': '0.20902870', 'V': '1.20900000', 'Q': '0.01125095', 'B': '0'}}\n",
      "{'e': 'kline', 'E': 1655120473647, 's': 'BNBBTC', 'k': {'t': 1655120460000, 'T': 1655120519999, 's': 'BNBBTC', 'i': '1m', 'f': 187855506, 'L': 187855521, 'o': '0.00930500', 'c': '0.00930600', 'h': '0.00930600', 'l': '0.00930500', 'v': '29.21700000', 'n': 16, 'x': False, 'q': '0.27186544', 'V': '1.29200000', 'Q': '0.01202334', 'B': '0'}}\n"
     ]
    },
    {
     "ename": "KeyboardInterrupt",
     "evalue": "",
     "output_type": "error",
     "traceback": [
      "\u001b[0;31m---------------------------------------------------------------------------\u001b[0m",
      "\u001b[0;31mKeyboardInterrupt\u001b[0m                         Traceback (most recent call last)",
      "File \u001b[0;32m/var/folders/1p/r_ctn6054p567yvtb2gkp1240000gn/T/ipykernel_31182/2364995169.py:25\u001b[0m, in \u001b[0;36m<cell line: 22>\u001b[0;34m()\u001b[0m\n\u001b[1;32m     22\u001b[0m \u001b[38;5;28;01mif\u001b[39;00m \u001b[38;5;18m__name__\u001b[39m \u001b[38;5;241m==\u001b[39m \u001b[38;5;124m\"\u001b[39m\u001b[38;5;124m__main__\u001b[39m\u001b[38;5;124m\"\u001b[39m:\n\u001b[1;32m     24\u001b[0m     loop \u001b[38;5;241m=\u001b[39m asyncio\u001b[38;5;241m.\u001b[39mget_event_loop()\n\u001b[0;32m---> 25\u001b[0m     \u001b[43mloop\u001b[49m\u001b[38;5;241;43m.\u001b[39;49m\u001b[43mrun_until_complete\u001b[49m\u001b[43m(\u001b[49m\u001b[43mmain\u001b[49m\u001b[43m(\u001b[49m\u001b[43m)\u001b[49m\u001b[43m)\u001b[49m\n",
      "File \u001b[0;32m~/opt/anaconda3/lib/python3.9/site-packages/nest_asyncio.py:83\u001b[0m, in \u001b[0;36m_patch_loop.<locals>.run_until_complete\u001b[0;34m(self, future)\u001b[0m\n\u001b[1;32m     81\u001b[0m     f\u001b[38;5;241m.\u001b[39m_log_destroy_pending \u001b[38;5;241m=\u001b[39m \u001b[38;5;28;01mFalse\u001b[39;00m\n\u001b[1;32m     82\u001b[0m \u001b[38;5;28;01mwhile\u001b[39;00m \u001b[38;5;129;01mnot\u001b[39;00m f\u001b[38;5;241m.\u001b[39mdone():\n\u001b[0;32m---> 83\u001b[0m     \u001b[38;5;28;43mself\u001b[39;49m\u001b[38;5;241;43m.\u001b[39;49m\u001b[43m_run_once\u001b[49m\u001b[43m(\u001b[49m\u001b[43m)\u001b[49m\n\u001b[1;32m     84\u001b[0m     \u001b[38;5;28;01mif\u001b[39;00m \u001b[38;5;28mself\u001b[39m\u001b[38;5;241m.\u001b[39m_stopping:\n\u001b[1;32m     85\u001b[0m         \u001b[38;5;28;01mbreak\u001b[39;00m\n",
      "File \u001b[0;32m~/opt/anaconda3/lib/python3.9/site-packages/nest_asyncio.py:106\u001b[0m, in \u001b[0;36m_patch_loop.<locals>._run_once\u001b[0;34m(self)\u001b[0m\n\u001b[1;32m     99\u001b[0m     heappop(scheduled)\n\u001b[1;32m    101\u001b[0m timeout \u001b[38;5;241m=\u001b[39m (\n\u001b[1;32m    102\u001b[0m     \u001b[38;5;241m0\u001b[39m \u001b[38;5;28;01mif\u001b[39;00m ready \u001b[38;5;129;01mor\u001b[39;00m \u001b[38;5;28mself\u001b[39m\u001b[38;5;241m.\u001b[39m_stopping\n\u001b[1;32m    103\u001b[0m     \u001b[38;5;28;01melse\u001b[39;00m \u001b[38;5;28mmin\u001b[39m(\u001b[38;5;28mmax\u001b[39m(\n\u001b[1;32m    104\u001b[0m         scheduled[\u001b[38;5;241m0\u001b[39m]\u001b[38;5;241m.\u001b[39m_when \u001b[38;5;241m-\u001b[39m \u001b[38;5;28mself\u001b[39m\u001b[38;5;241m.\u001b[39mtime(), \u001b[38;5;241m0\u001b[39m), \u001b[38;5;241m86400\u001b[39m) \u001b[38;5;28;01mif\u001b[39;00m scheduled\n\u001b[1;32m    105\u001b[0m     \u001b[38;5;28;01melse\u001b[39;00m \u001b[38;5;28;01mNone\u001b[39;00m)\n\u001b[0;32m--> 106\u001b[0m event_list \u001b[38;5;241m=\u001b[39m \u001b[38;5;28;43mself\u001b[39;49m\u001b[38;5;241;43m.\u001b[39;49m\u001b[43m_selector\u001b[49m\u001b[38;5;241;43m.\u001b[39;49m\u001b[43mselect\u001b[49m\u001b[43m(\u001b[49m\u001b[43mtimeout\u001b[49m\u001b[43m)\u001b[49m\n\u001b[1;32m    107\u001b[0m \u001b[38;5;28mself\u001b[39m\u001b[38;5;241m.\u001b[39m_process_events(event_list)\n\u001b[1;32m    109\u001b[0m end_time \u001b[38;5;241m=\u001b[39m \u001b[38;5;28mself\u001b[39m\u001b[38;5;241m.\u001b[39mtime() \u001b[38;5;241m+\u001b[39m \u001b[38;5;28mself\u001b[39m\u001b[38;5;241m.\u001b[39m_clock_resolution\n",
      "File \u001b[0;32m~/opt/anaconda3/lib/python3.9/selectors.py:562\u001b[0m, in \u001b[0;36mKqueueSelector.select\u001b[0;34m(self, timeout)\u001b[0m\n\u001b[1;32m    560\u001b[0m ready \u001b[38;5;241m=\u001b[39m []\n\u001b[1;32m    561\u001b[0m \u001b[38;5;28;01mtry\u001b[39;00m:\n\u001b[0;32m--> 562\u001b[0m     kev_list \u001b[38;5;241m=\u001b[39m \u001b[38;5;28;43mself\u001b[39;49m\u001b[38;5;241;43m.\u001b[39;49m\u001b[43m_selector\u001b[49m\u001b[38;5;241;43m.\u001b[39;49m\u001b[43mcontrol\u001b[49m\u001b[43m(\u001b[49m\u001b[38;5;28;43;01mNone\u001b[39;49;00m\u001b[43m,\u001b[49m\u001b[43m \u001b[49m\u001b[43mmax_ev\u001b[49m\u001b[43m,\u001b[49m\u001b[43m \u001b[49m\u001b[43mtimeout\u001b[49m\u001b[43m)\u001b[49m\n\u001b[1;32m    563\u001b[0m \u001b[38;5;28;01mexcept\u001b[39;00m \u001b[38;5;167;01mInterruptedError\u001b[39;00m:\n\u001b[1;32m    564\u001b[0m     \u001b[38;5;28;01mreturn\u001b[39;00m ready\n",
      "\u001b[0;31mKeyboardInterrupt\u001b[0m: "
     ]
    }
   ],
   "source": [
    "import asyncio\n",
    "import nest_asyncio\n",
    "nest_asyncio.apply()\n",
    "\n",
    "from binance import AsyncClient, BinanceSocketManager\n",
    "\n",
    "\n",
    "async def kline_listener(client):\n",
    "    bm = BinanceSocketManager(client)\n",
    "    async with bm.kline_socket(symbol='BNBBTC') as stream:\n",
    "        while True:\n",
    "            res = await stream.recv()\n",
    "            print(res)\n",
    "\n",
    "async def main():\n",
    "\n",
    "    client = await AsyncClient.create()\n",
    "    await kline_listener(client)\n",
    "    \n",
    "if __name__ == \"__main__\":\n",
    "\n",
    "    loop = asyncio.get_event_loop()\n",
    "    loop.run_until_complete(main())"
   ]
  },
  {
   "cell_type": "code",
   "execution_count": null,
   "id": "1d3cd59d",
   "metadata": {},
   "outputs": [],
   "source": []
  },
  {
   "cell_type": "code",
   "execution_count": null,
   "id": "a9273efd",
   "metadata": {},
   "outputs": [],
   "source": []
  }
 ],
 "metadata": {
  "kernelspec": {
   "display_name": "Python 3 (ipykernel)",
   "language": "python",
   "name": "python3"
  },
  "language_info": {
   "codemirror_mode": {
    "name": "ipython",
    "version": 3
   },
   "file_extension": ".py",
   "mimetype": "text/x-python",
   "name": "python",
   "nbconvert_exporter": "python",
   "pygments_lexer": "ipython3",
   "version": "3.9.12"
  }
 },
 "nbformat": 4,
 "nbformat_minor": 5
}
