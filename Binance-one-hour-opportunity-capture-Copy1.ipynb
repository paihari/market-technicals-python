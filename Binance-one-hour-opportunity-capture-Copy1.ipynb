{
 "cells": [
  {
   "cell_type": "code",
   "execution_count": 1,
   "id": "21c6af51",
   "metadata": {},
   "outputs": [],
   "source": [
    "from tensorflow.python.keras.layers import Bidirectional, Dropout, Activation, Dense, LSTM,GRU\n",
    " \n",
    "from tensorflow.keras.models import Sequential\n",
    "from tensorflow.python.keras.callbacks import EarlyStopping\n",
    " \n",
    "from sklearn.preprocessing import MinMaxScaler\n",
    " \n",
    "from datetime import datetime\n",
    "\n",
    "from binance.client import Client\n",
    "\n",
    "from coinmarketcapapi import CoinMarketCapAPI, CoinMarketCapAPIError\n",
    "\n",
    "import matplotlib.pyplot as plt\n",
    "import numpy as np\n",
    "import pandas as pd\n",
    "import json"
   ]
  },
  {
   "cell_type": "code",
   "execution_count": 2,
   "id": "4e37b7c0",
   "metadata": {},
   "outputs": [],
   "source": [
    "client = Client('', '')"
   ]
  },
  {
   "cell_type": "code",
   "execution_count": 3,
   "id": "c9592b81",
   "metadata": {},
   "outputs": [],
   "source": [
    "cmc = CoinMarketCapAPI('  ')"
   ]
  },
  {
   "cell_type": "code",
   "execution_count": 4,
   "id": "4e5da0ed",
   "metadata": {},
   "outputs": [],
   "source": [
    "info = client.get_all_tickers()"
   ]
  },
  {
   "cell_type": "code",
   "execution_count": 5,
   "id": "77852dc4",
   "metadata": {},
   "outputs": [
    {
     "data": {
      "text/plain": [
       "'Good to check indivudual by get_symbol_info if status is trading'"
      ]
     },
     "execution_count": 5,
     "metadata": {},
     "output_type": "execute_result"
    }
   ],
   "source": [
    "'Good to check indivudual by get_symbol_info if status is trading'"
   ]
  },
  {
   "cell_type": "code",
   "execution_count": 6,
   "id": "16ca412e",
   "metadata": {},
   "outputs": [
    {
     "data": {
      "text/plain": [
       "'Filter the Info to get the list of Symbols ending with USDT'"
      ]
     },
     "execution_count": 6,
     "metadata": {},
     "output_type": "execute_result"
    }
   ],
   "source": [
    "'Filter the Info to get the list of Symbols ending with USDT'"
   ]
  },
  {
   "cell_type": "code",
   "execution_count": 7,
   "id": "f229a5ed",
   "metadata": {},
   "outputs": [],
   "source": [
    "ticker_list = [d['symbol'] for d in info if d['symbol'].endswith('USDT')]"
   ]
  },
  {
   "cell_type": "code",
   "execution_count": 8,
   "id": "39299cba",
   "metadata": {},
   "outputs": [],
   "source": [
    "rank_info = cmc.cryptocurrency_map(sort='cmc_rank').data"
   ]
  },
  {
   "cell_type": "code",
   "execution_count": 9,
   "id": "7da870b7",
   "metadata": {},
   "outputs": [],
   "source": [
    "target_rank_info = [d['symbol']+'USDT' for d in rank_info if d['rank'] >= 200 and d['rank'] <= 450]"
   ]
  },
  {
   "cell_type": "code",
   "execution_count": 10,
   "id": "1a23e1d9",
   "metadata": {},
   "outputs": [],
   "source": [
    "target_ticker_list = [d for d in ticker_list if d in target_rank_info]"
   ]
  },
  {
   "cell_type": "code",
   "execution_count": 11,
   "id": "a9a1cdbc",
   "metadata": {},
   "outputs": [],
   "source": [
    "klines = client.get_historical_klines('SANDBUSD', Client.KLINE_INTERVAL_1HOUR, \"300 day ago UTC\") "
   ]
  },
  {
   "cell_type": "code",
   "execution_count": 12,
   "id": "e46330f0",
   "metadata": {},
   "outputs": [],
   "source": [
    "array = np.array(klines, dtype=np.float64)"
   ]
  },
  {
   "cell_type": "code",
   "execution_count": 13,
   "id": "83f60ceb",
   "metadata": {},
   "outputs": [],
   "source": [
    "focused_kline_array = np.delete(array, [2, 3, 6, 7, 8, 9, 10, 11], 1)"
   ]
  },
  {
   "cell_type": "code",
   "execution_count": 14,
   "id": "f8d9b850",
   "metadata": {},
   "outputs": [],
   "source": [
    "length = len(focused_kline_array)"
   ]
  },
  {
   "cell_type": "code",
   "execution_count": 15,
   "id": "51307531",
   "metadata": {},
   "outputs": [],
   "source": [
    "def find_percentage_increase_or_decrease(focused_kline_array):\n",
    "    percentage_value = []\n",
    "    for kline in focused_kline_array:\n",
    "        diff = kline[2] - kline[1]\n",
    "        perc_diff = diff/kline[1]\n",
    "        percentage_value.append(perc_diff*100)\n",
    "    return percentage_value        "
   ]
  },
  {
   "cell_type": "code",
   "execution_count": 16,
   "id": "c5955385",
   "metadata": {},
   "outputs": [],
   "source": [
    "percentage_value = find_percentage_increase_or_decrease(focused_kline_array)"
   ]
  },
  {
   "cell_type": "code",
   "execution_count": 17,
   "id": "6dc778a9",
   "metadata": {},
   "outputs": [],
   "source": [
    "percentage_value = np.reshape(percentage_value, (length, 1))"
   ]
  },
  {
   "cell_type": "code",
   "execution_count": 18,
   "id": "5bbcb686",
   "metadata": {},
   "outputs": [],
   "source": [
    "focused_kline_array = np.append(focused_kline_array, percentage_value, 1)"
   ]
  },
  {
   "cell_type": "code",
   "execution_count": 19,
   "id": "ea68945e",
   "metadata": {},
   "outputs": [],
   "source": [
    "positive_array = focused_kline_array[:,4] >= 0"
   ]
  },
  {
   "cell_type": "code",
   "execution_count": 20,
   "id": "d7d41ecb",
   "metadata": {},
   "outputs": [],
   "source": [
    "filtered_positive_array = focused_kline_array[:,4][positive_array]"
   ]
  },
  {
   "cell_type": "code",
   "execution_count": 21,
   "id": "67095a35",
   "metadata": {},
   "outputs": [],
   "source": [
    "negative_array = focused_kline_array[:,4] <= 0"
   ]
  },
  {
   "cell_type": "code",
   "execution_count": 22,
   "id": "c00e5237",
   "metadata": {},
   "outputs": [],
   "source": [
    "filtered_negative_array = focused_kline_array[:,4][negative_array]"
   ]
  },
  {
   "cell_type": "code",
   "execution_count": 23,
   "id": "5602453f",
   "metadata": {},
   "outputs": [],
   "source": [
    "average_positive_increase = np.mean(filtered_positive_array)"
   ]
  },
  {
   "cell_type": "code",
   "execution_count": 24,
   "id": "78c246c5",
   "metadata": {},
   "outputs": [],
   "source": [
    "tolerable_average_positive_increase = average_positive_increase * 2.0"
   ]
  },
  {
   "cell_type": "code",
   "execution_count": 25,
   "id": "a30ad471",
   "metadata": {},
   "outputs": [],
   "source": [
    "average_negative_increase = np.mean(filtered_negative_array)"
   ]
  },
  {
   "cell_type": "code",
   "execution_count": 26,
   "id": "e293cd72",
   "metadata": {},
   "outputs": [],
   "source": [
    "tolerable_average_negative_increase = average_negative_increase * 2.0"
   ]
  },
  {
   "cell_type": "code",
   "execution_count": 27,
   "id": "64e34412",
   "metadata": {},
   "outputs": [],
   "source": [
    "average_volume = np.mean(focused_kline_array[:,3])"
   ]
  },
  {
   "cell_type": "code",
   "execution_count": 28,
   "id": "11783440",
   "metadata": {},
   "outputs": [],
   "source": [
    "tolerable_volume = average_volume * 2"
   ]
  },
  {
   "cell_type": "code",
   "execution_count": 29,
   "id": "4584f5f0",
   "metadata": {},
   "outputs": [
    {
     "data": {
      "text/plain": [
       "856908.4763823284"
      ]
     },
     "execution_count": 29,
     "metadata": {},
     "output_type": "execute_result"
    }
   ],
   "source": [
    "tolerable_volume"
   ]
  },
  {
   "cell_type": "code",
   "execution_count": 30,
   "id": "42ff87fe",
   "metadata": {},
   "outputs": [
    {
     "data": {
      "text/plain": [
       "-2.1178675929423503"
      ]
     },
     "execution_count": 30,
     "metadata": {},
     "output_type": "execute_result"
    }
   ],
   "source": [
    "tolerable_average_negative_increase"
   ]
  },
  {
   "cell_type": "code",
   "execution_count": 31,
   "id": "ab05a73e",
   "metadata": {},
   "outputs": [
    {
     "data": {
      "text/plain": [
       "2.24912830859279"
      ]
     },
     "execution_count": 31,
     "metadata": {},
     "output_type": "execute_result"
    }
   ],
   "source": [
    "tolerable_average_positive_increase"
   ]
  },
  {
   "cell_type": "code",
   "execution_count": 32,
   "id": "6b84d127",
   "metadata": {},
   "outputs": [],
   "source": [
    "def is_candidate(filtered_klines_info):\n",
    "    red_and_volume_check_klines = filtered_klines_info[0:2]\n",
    "    green_and_volume_check_klines = filtered_klines_info[2:3]\n",
    "\n",
    "    is_candidate = False\n",
    "    for red_and_volume_check_kline in red_and_volume_check_klines:\n",
    "        if float(red_and_volume_check_kline[4]) <= 0 and float(red_and_volume_check_kline[4]) <= tolerable_average_negative_increase and float(red_and_volume_check_kline[3]) > average_volume:\n",
    "            is_candidate = True\n",
    "        \n",
    "    if is_candidate and float(green_and_volume_check_klines[0][4]) > 0 and float(green_and_volume_check_klines[0][4]) >= tolerable_average_positive_increase and float(green_and_volume_check_klines[0][4]) > average_volume:\n",
    "        is_candidate = True\n",
    "        \n",
    "        \n",
    "    return is_candidate    \n",
    "    "
   ]
  },
  {
   "cell_type": "code",
   "execution_count": 33,
   "id": "f9b120b9",
   "metadata": {},
   "outputs": [],
   "source": [
    "length = int(len(focused_kline_array))"
   ]
  },
  {
   "cell_type": "code",
   "execution_count": 34,
   "id": "704c85f0",
   "metadata": {},
   "outputs": [],
   "source": [
    "full_test_data_set = []\n",
    "\n",
    "for x in range(0, length -3) :\n",
    "\n",
    "    filtered_klines_info = focused_kline_array[x:x+4]\n",
    "    investment_in_tether = 10000\n",
    "    if(len(filtered_klines_info)) == 4 and is_candidate(filtered_klines_info):\n",
    "        key_test_data_set = [] \n",
    "        buy_kline_info = filtered_klines_info[2:3]\n",
    "        sell_kline_info = filtered_klines_info[3:4]\n",
    "        buy_quote = buy_kline_info[0][2]\n",
    "        sell_quote = sell_kline_info[0][2]\n",
    "        volume = investment_in_tether/buy_quote\n",
    " \n",
    "        \n",
    "        key_test_data_set.append(sell_kline_info[0][0])\n",
    "        \n",
    "        key_test_data_set.append(buy_quote)\n",
    "        \n",
    "        key_test_data_set.append(sell_quote)\n",
    "        \n",
    "        key_test_data_set.append(volume)\n",
    "        \n",
    "        key_test_data_set.append(investment_in_tether)\n",
    "        \n",
    "        dis_investment_in_tether = volume * sell_quote\n",
    "        key_test_data_set.append(dis_investment_in_tether)\n",
    "        key_test_data_set.append(dis_investment_in_tether - investment_in_tether)\n",
    "        full_test_data_set.append(key_test_data_set)"
   ]
  },
  {
   "cell_type": "code",
   "execution_count": 35,
   "id": "5c6c8aef",
   "metadata": {},
   "outputs": [],
   "source": [
    "full_test_data_set = np.array(full_test_data_set)"
   ]
  },
  {
   "cell_type": "code",
   "execution_count": 36,
   "id": "381758ae",
   "metadata": {},
   "outputs": [],
   "source": [
    "profit_or_loss = full_test_data_set[:, 6]"
   ]
  },
  {
   "cell_type": "code",
   "execution_count": 37,
   "id": "99786fe8",
   "metadata": {},
   "outputs": [],
   "source": [
    "overall_profit = np.sum(profit_or_loss)"
   ]
  },
  {
   "cell_type": "code",
   "execution_count": 38,
   "id": "9e150035",
   "metadata": {},
   "outputs": [
    {
     "data": {
      "text/plain": [
       "11436.913647397221"
      ]
     },
     "execution_count": 38,
     "metadata": {},
     "output_type": "execute_result"
    }
   ],
   "source": [
    "overall_profit"
   ]
  },
  {
   "cell_type": "code",
   "execution_count": null,
   "id": "91a20209",
   "metadata": {},
   "outputs": [],
   "source": []
  }
 ],
 "metadata": {
  "kernelspec": {
   "display_name": "Python 3 (ipykernel)",
   "language": "python",
   "name": "python3"
  },
  "language_info": {
   "codemirror_mode": {
    "name": "ipython",
    "version": 3
   },
   "file_extension": ".py",
   "mimetype": "text/x-python",
   "name": "python",
   "nbconvert_exporter": "python",
   "pygments_lexer": "ipython3",
   "version": "3.7.13"
  }
 },
 "nbformat": 4,
 "nbformat_minor": 5
}
