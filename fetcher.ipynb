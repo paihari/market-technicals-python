{
 "cells": [
  {
   "cell_type": "code",
   "execution_count": 1,
   "metadata": {},
   "outputs": [],
   "source": [
    "from binance.client import Client\n",
    "client = Client('', '')"
   ]
  },
  {
   "cell_type": "code",
   "execution_count": 2,
   "metadata": {},
   "outputs": [
    {
     "data": {
      "text/plain": [
       "'Python 3.7 numpy pip install numpy==1.19.5'"
      ]
     },
     "execution_count": 2,
     "metadata": {},
     "output_type": "execute_result"
    }
   ],
   "source": [
    "'Python 3.7 numpy pip install numpy==1.19.5'"
   ]
  },
  {
   "cell_type": "code",
   "execution_count": 3,
   "metadata": {},
   "outputs": [],
   "source": [
    "import numpy as np"
   ]
  },
  {
   "cell_type": "code",
   "execution_count": 4,
   "metadata": {},
   "outputs": [],
   "source": [
    "import pandas as pd"
   ]
  },
  {
   "cell_type": "code",
   "execution_count": 5,
   "metadata": {},
   "outputs": [],
   "source": [
    "from datetime import datetime"
   ]
  },
  {
   "cell_type": "code",
   "execution_count": 6,
   "metadata": {},
   "outputs": [],
   "source": [
    "usdt = 4000\n",
    "eth = 0\n",
    "no_of_eth_to_buy_sell = 4\n",
    "buy_trades = []\n",
    "sell_trades = []\n",
    "profit_loss_book = 0"
   ]
  },
  {
   "cell_type": "code",
   "execution_count": 7,
   "metadata": {},
   "outputs": [],
   "source": [
    "klines = client.get_historical_klines(\"ETHUSDT\", Client.KLINE_INTERVAL_15MINUTE, \"10 day ago UTC\")"
   ]
  },
  {
   "cell_type": "code",
   "execution_count": 8,
   "metadata": {},
   "outputs": [],
   "source": [
    "date_time = datetime.now()"
   ]
  },
  {
   "cell_type": "code",
   "execution_count": 9,
   "metadata": {},
   "outputs": [
    {
     "name": "stdout",
     "output_type": "stream",
     "text": [
      "2022-05-30 15:04:22.187440\n"
     ]
    }
   ],
   "source": [
    "print(date_time)"
   ]
  },
  {
   "cell_type": "code",
   "execution_count": 10,
   "metadata": {},
   "outputs": [],
   "source": [
    "array = np.array(klines)"
   ]
  },
  {
   "cell_type": "code",
   "execution_count": 11,
   "metadata": {},
   "outputs": [
    {
     "name": "stdout",
     "output_type": "stream",
     "text": [
      "[['1653052500000' '2039.49000000' '2053.11000000' ... '4537.05040000'\n",
      "  '9280676.84133100' '0']\n",
      " ['1653053400000' '2044.01000000' '2050.62000000' ... '8087.95000000'\n",
      "  '16486643.21346700' '0']\n",
      " ['1653054300000' '2045.57000000' '2047.33000000' ... '4630.66340000'\n",
      "  '9456132.73501600' '0']\n",
      " ...\n",
      " ['1653913800000' '1879.99000000' '1886.76000000' ... '5797.93460000'\n",
      "  '10897379.84758600' '0']\n",
      " ['1653914700000' '1881.17000000' '1894.61000000' ... '3808.63960000'\n",
      "  '7186198.77513500' '0']\n",
      " ['1653915600000' '1888.10000000' '1893.68000000' ... '1284.81380000'\n",
      "  '2428817.23183600' '0']]\n"
     ]
    }
   ],
   "source": [
    "print(array)"
   ]
  },
  {
   "cell_type": "code",
   "execution_count": 12,
   "metadata": {},
   "outputs": [],
   "source": [
    "siz = np.size(array, 0)"
   ]
  },
  {
   "cell_type": "code",
   "execution_count": 13,
   "metadata": {},
   "outputs": [],
   "source": [
    "df = pd.DataFrame.from_records(array)"
   ]
  },
  {
   "cell_type": "code",
   "execution_count": 14,
   "metadata": {},
   "outputs": [],
   "source": [
    "df.columns = ['Open Time', 'Open', \n",
    "              'High', 'Low', 'Close', \n",
    "              'Volume', 'Close Time', \n",
    "              'Quote asset volume', 'Number of trades', \n",
    "              'Taken buy base asset volume', 'Taken buy quote asset volume', \n",
    "              'Can be ignored']\n",
    "df.drop(['High', 'Low', 'Quote asset volume', 'Number of trades', \n",
    "              'Taken buy base asset volume', 'Taken buy quote asset volume', \n",
    "              'Can be ignored'], axis=1, inplace=True)\n",
    "\n",
    "df['Open Time'] = pd.to_numeric(df['Open Time'])\n",
    "df['Close Time'] = pd.to_numeric(df['Close Time'])\n",
    "df['Open'] = pd.to_numeric(df['Open'])\n",
    "df['Close'] = pd.to_numeric(df['Close'])\n",
    "df['Volume'] = pd.to_numeric(df['Volume'])\n",
    "\n",
    "df['Is Green'] = df['Close'] > df['Open']\n",
    "\n",
    "\n",
    "df['Difference'] = np.abs(df['Open'] - df['Close'])\n"
   ]
  },
  {
   "cell_type": "code",
   "execution_count": 15,
   "metadata": {},
   "outputs": [
    {
     "name": "stdout",
     "output_type": "stream",
     "text": [
      "         Open Time     Open    Close      Volume     Close Time  Is Green  \\\n",
      "0    1653052500000  2039.49  2044.00   8532.6859  1653053399999      True   \n",
      "1    1653053400000  2044.01  2045.57  17572.1685  1653054299999      True   \n",
      "2    1653054300000  2045.57  2044.38   9177.9572  1653055199999     False   \n",
      "3    1653055200000  2044.38  2027.45  10425.9855  1653056099999     False   \n",
      "4    1653056100000  2027.45  2011.58  15800.1671  1653056999999     False   \n",
      "..             ...      ...      ...         ...            ...       ...   \n",
      "955  1653912000000  1902.65  1903.13   9151.8657  1653912899999      True   \n",
      "956  1653912900000  1903.13  1880.00  15768.7133  1653913799999     False   \n",
      "957  1653913800000  1879.99  1881.17  13306.4433  1653914699999      True   \n",
      "958  1653914700000  1881.17  1888.10   7112.3449  1653915599999      True   \n",
      "959  1653915600000  1888.10  1889.19   2409.7650  1653916499999      True   \n",
      "\n",
      "     Difference  \n",
      "0          4.51  \n",
      "1          1.56  \n",
      "2          1.19  \n",
      "3         16.93  \n",
      "4         15.87  \n",
      "..          ...  \n",
      "955        0.48  \n",
      "956       23.13  \n",
      "957        1.18  \n",
      "958        6.93  \n",
      "959        1.09  \n",
      "\n",
      "[960 rows x 7 columns]\n"
     ]
    }
   ],
   "source": [
    "print(df)"
   ]
  },
  {
   "cell_type": "code",
   "execution_count": 16,
   "metadata": {},
   "outputs": [],
   "source": [
    "def book_profit():\n",
    "    global usdt\n",
    "    global profit_loss_book\n",
    "    size_of_sell_trade = len(sell_trades)\n",
    "    sell_price = sell_trades[size_of_sell_trade -1]\n",
    "    buy_price = buy_trades[size_of_sell_trade  - 1]\n",
    "    profit = sell_price - buy_price\n",
    "    profit_loss_book = profit_loss_book + profit\n",
    "    usdt = usdt - profit    "
   ]
  },
  {
   "cell_type": "code",
   "execution_count": 17,
   "metadata": {},
   "outputs": [],
   "source": [
    "def do_trade(typ, price, time):\n",
    "    global usdt\n",
    "    global eth\n",
    "    global buy_trades\n",
    "    global sell_trades\n",
    "    \n",
    "    date_time = datetime.fromtimestamp(time/1000.0)\n",
    "    \n",
    "    if(typ == 'BUY'):\n",
    "        buy_cost = no_of_eth_to_buy_sell * price\n",
    "        delta = usdt - buy_cost\n",
    "        if(delta >= 0):\n",
    "            usdt = usdt - buy_cost\n",
    "            eth = eth + no_of_eth_to_buy_sell\n",
    "            buy_trades.append(price)\n",
    "            print('The Ticker price {} and Type {} remaining USDT {} ETH {} Time {}'.format(price, typ, usdt, eth, date_time))\n",
    "        else:\n",
    "            print('No USDT to buy ETH')\n",
    "    else:\n",
    "        delta = eth - no_of_eth_to_buy_sell\n",
    "        if(delta >= 0):\n",
    "            sell_cost = no_of_eth_to_buy_sell * price\n",
    "            usdt = usdt + sell_cost\n",
    "            eth = eth - no_of_eth_to_buy_sell\n",
    "            sell_trades.append(price)\n",
    "            book_profit()\n",
    "            print('The Ticker price {} and Type {} remaining USDT {} ETH {} Time {} '.format(price, typ, usdt, eth, date_time))\n",
    "        else:\n",
    "            print('No ETH to Sell')\n",
    "    \n"
   ]
  },
  {
   "cell_type": "code",
   "execution_count": 18,
   "metadata": {},
   "outputs": [],
   "source": [
    "def my_func(sliceDataFrame):\n",
    "    \n",
    "    no_of_records = sliceDataFrame.shape[0]\n",
    "    last_candle = sliceDataFrame[-1:]\n",
    "    focus_candle_frame  = sliceDataFrame.drop(sliceDataFrame.index[len(sliceDataFrame)-1])\n",
    "    \n",
    "    green_candles = focus_candle_frame[focus_candle_frame['Is Green'] == True]\n",
    "    red_candles = focus_candle_frame[focus_candle_frame['Is Green'] == False]\n",
    "    \n",
    "    average_drop_of_red_candles = red_candles.nlargest(20, 'Difference')['Difference'].mean()\n",
    "    average_raise_of_green_candles = green_candles.nlargest(20, 'Difference')['Difference'].mean()\n",
    "    average_volume_of_red_candles = red_candles.nlargest(20, 'Volume')['Volume'].mean()\n",
    "    average_volume_of_green_candles = green_candles.nlargest(20, 'Volume')['Volume'].mean()\n",
    "    \n",
    "    if last_candle['Is Green'].bool():\n",
    "        if ((average_volume_of_green_candles < last_candle['Volume'].item()) & \n",
    "            (average_raise_of_green_candles < last_candle['Difference'].item()) &\n",
    "            (average_raise_of_green_candles > average_drop_of_red_candles) & \n",
    "            (average_volume_of_green_candles > average_volume_of_red_candles)):\n",
    "            sell_price = np.array(last_candle['Close'])[0]\n",
    "            sell_time = np.array(last_candle['Close Time'])[0]\n",
    "            print('Average raise Green candles {} Average Volume of Green candles {}'.format(average_raise_of_green_candles, average_volume_of_green_candles))\n",
    "            do_trade('SELL', sell_price, sell_time)\n",
    "\n",
    "    else:\n",
    "        if ((average_volume_of_red_candles < last_candle['Volume'].item()) & \n",
    "            (average_drop_of_red_candles < last_candle['Difference'].item()) &\n",
    "            (average_drop_of_red_candles > average_raise_of_green_candles) &\n",
    "            (average_volume_of_red_candles > average_volume_of_green_candles)):\n",
    "            buy_price = np.array(last_candle['Close'])[0]\n",
    "            buy_time = np.array(last_candle['Close Time'])[0]\n",
    "            print('Average drop of Red candles {} Average Volume of Red candles {}'.format(average_drop_of_red_candles, average_volume_of_red_candles))\n",
    "            do_trade('BUY', buy_price, buy_time)\n",
    " \n"
   ]
  },
  {
   "cell_type": "code",
   "execution_count": 19,
   "metadata": {},
   "outputs": [
    {
     "name": "stdout",
     "output_type": "stream",
     "text": [
      "Average drop of Red candles 16.371500000000005 Average Volume of Red candles 18416.137649999997\n",
      "No USDT to buy ETH\n",
      "Average drop of Red candles 17.028499999999998 Average Volume of Red candles 22214.2885035\n",
      "No USDT to buy ETH\n"
     ]
    }
   ],
   "source": [
    "j = 480\n",
    "while j <= siz:\n",
    "    sliceDataFrame = df[j-480: j]\n",
    "    my_func(sliceDataFrame)\n",
    "    j = j+1\n",
    "    "
   ]
  },
  {
   "cell_type": "code",
   "execution_count": 20,
   "metadata": {},
   "outputs": [
    {
     "data": {
      "text/plain": [
       "0"
      ]
     },
     "execution_count": 20,
     "metadata": {},
     "output_type": "execute_result"
    }
   ],
   "source": [
    "profit_loss_book"
   ]
  },
  {
   "cell_type": "code",
   "execution_count": 21,
   "metadata": {},
   "outputs": [
    {
     "data": {
      "text/plain": [
       "0"
      ]
     },
     "execution_count": 21,
     "metadata": {},
     "output_type": "execute_result"
    }
   ],
   "source": [
    "eth"
   ]
  },
  {
   "cell_type": "code",
   "execution_count": 22,
   "metadata": {},
   "outputs": [
    {
     "data": {
      "text/plain": [
       "4000"
      ]
     },
     "execution_count": 22,
     "metadata": {},
     "output_type": "execute_result"
    }
   ],
   "source": [
    "usdt"
   ]
  },
  {
   "cell_type": "code",
   "execution_count": null,
   "metadata": {},
   "outputs": [],
   "source": []
  }
 ],
 "metadata": {
  "kernelspec": {
   "display_name": "Python 3 (ipykernel)",
   "language": "python",
   "name": "python3"
  },
  "language_info": {
   "codemirror_mode": {
    "name": "ipython",
    "version": 3
   },
   "file_extension": ".py",
   "mimetype": "text/x-python",
   "name": "python",
   "nbconvert_exporter": "python",
   "pygments_lexer": "ipython3",
   "version": "3.7.13"
  }
 },
 "nbformat": 4,
 "nbformat_minor": 2
}
