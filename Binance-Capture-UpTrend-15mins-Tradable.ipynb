{
 "cells": [
  {
   "cell_type": "code",
   "execution_count": 1,
   "id": "21c6af51",
   "metadata": {},
   "outputs": [],
   "source": [
    "from tensorflow.python.keras.layers import Bidirectional, Dropout, Activation, Dense, LSTM,GRU\n",
    " \n",
    "from tensorflow.keras.models import Sequential\n",
    "from tensorflow.python.keras.callbacks import EarlyStopping\n",
    " \n",
    "from sklearn.preprocessing import MinMaxScaler\n",
    " \n",
    "from datetime import datetime\n",
    "\n",
    "from binance.client import Client\n",
    "from binance.enums import *\n",
    "\n",
    "from coinmarketcapapi import CoinMarketCapAPI, CoinMarketCapAPIError\n",
    "\n",
    "import matplotlib.pyplot as plt\n",
    "import numpy as np\n",
    "import pandas as pd\n",
    "import json\n",
    "import time\n"
   ]
  },
  {
   "cell_type": "code",
   "execution_count": 2,
   "id": "4e37b7c0",
   "metadata": {},
   "outputs": [],
   "source": [
    "client = Client('   ', '  ')"
   ]
  },
  {
   "cell_type": "code",
   "execution_count": 3,
   "id": "c9592b81",
   "metadata": {},
   "outputs": [],
   "source": [
    "cmc = CoinMarketCapAPI('  ')"
   ]
  },
  {
   "cell_type": "code",
   "execution_count": 4,
   "id": "e8a0faea",
   "metadata": {},
   "outputs": [],
   "source": [
    "klines = client.get_historical_klines('BNBUSDT', Client.KLINE_INTERVAL_15MINUTE, \"10 day ago UTC\") "
   ]
  },
  {
   "cell_type": "code",
   "execution_count": 5,
   "id": "3da032cd",
   "metadata": {},
   "outputs": [
    {
     "data": {
      "text/plain": [
       "960"
      ]
     },
     "execution_count": 5,
     "metadata": {},
     "output_type": "execute_result"
    }
   ],
   "source": [
    "len(klines)"
   ]
  },
  {
   "cell_type": "code",
   "execution_count": 6,
   "id": "4e5da0ed",
   "metadata": {},
   "outputs": [],
   "source": [
    "info = client.get_all_tickers()"
   ]
  },
  {
   "cell_type": "code",
   "execution_count": 7,
   "id": "f8e53638",
   "metadata": {},
   "outputs": [],
   "source": [
    "quote_ccy = 'USDT'"
   ]
  },
  {
   "cell_type": "code",
   "execution_count": 8,
   "id": "f229a5ed",
   "metadata": {},
   "outputs": [],
   "source": [
    "ticker_list = [d['symbol'] for d in info if d['symbol'].endswith(quote_ccy)]"
   ]
  },
  {
   "cell_type": "code",
   "execution_count": 9,
   "id": "39299cba",
   "metadata": {},
   "outputs": [],
   "source": [
    "rank_info = cmc.cryptocurrency_map(sort='cmc_rank').data"
   ]
  },
  {
   "cell_type": "code",
   "execution_count": 10,
   "id": "7da870b7",
   "metadata": {},
   "outputs": [],
   "source": [
    "target_rank_info = [d['symbol']+quote_ccy for d in rank_info if d['rank'] >= 300 and d['rank'] <= 500]"
   ]
  },
  {
   "cell_type": "code",
   "execution_count": 11,
   "id": "1a23e1d9",
   "metadata": {},
   "outputs": [],
   "source": [
    "target_ticker_list = [d for d in ticker_list if d in target_rank_info]"
   ]
  },
  {
   "cell_type": "code",
   "execution_count": 12,
   "id": "ef4e3caa",
   "metadata": {},
   "outputs": [],
   "source": [
    "def is_candidate(filtered_klines_info, tolerable_volume):\n",
    "    context_klines_info = filtered_klines_info[:len(filtered_klines_info) -1]\n",
    "    is_candidate = False\n",
    "    \n",
    "    trigger_kline = filtered_klines_info[-1]\n",
    "    \n",
    "    for context_kline in context_klines_info:\n",
    "        kontext_tol_val = tolerable_volume * 1.75\n",
    "        \n",
    "        volume_gate = float(context_kline[3])  <  kontext_tol_val\n",
    "        if volume_gate :\n",
    "            is_candidate = True\n",
    "        else:\n",
    "            return False\n",
    "\n",
    "\n",
    "    trigger_gate = float(trigger_kline[3]  > tolerable_volume * 10) and (trigger_kline[-1] < 9 ) and (trigger_kline[-1] > 5 ) \n",
    "    \n",
    "    \n",
    "\n",
    "    if trigger_gate:\n",
    "        is_candidate = True\n",
    "    else:\n",
    "        is_candidate = False\n",
    "\n",
    "    return is_candidate"
   ]
  },
  {
   "cell_type": "code",
   "execution_count": 13,
   "id": "8f7f8623",
   "metadata": {},
   "outputs": [],
   "source": [
    "def find_percentage_increase_or_decrease(focused_kline_array):\n",
    "    percentage_value = []\n",
    "    for kline in focused_kline_array:\n",
    "        diff = kline[2] - kline[1]\n",
    "        perc_diff = diff/kline[1]\n",
    "        percentage_value.append(perc_diff*100)\n",
    "    return percentage_value "
   ]
  },
  {
   "cell_type": "code",
   "execution_count": 14,
   "id": "fd700829",
   "metadata": {},
   "outputs": [
    {
     "name": "stdout",
     "output_type": "stream",
     "text": [
      "Analyzing Hourly Started \n",
      "FETUSDT\n",
      "********** SUCCESS ************************\n",
      "FETUSDT\n",
      "Buy Price\n",
      "0.0775\n",
      "Kline TS\n",
      "1656750600000.0\n",
      "Quantity\n",
      "129.03225806451613\n",
      "129.03\n",
      "Analyzing Hourly Started \n",
      "DUSKUSDT\n",
      "Analyzing Hourly Started \n",
      "COCOSUSDT\n",
      "Analyzing Hourly Started \n",
      "TOMOUSDT\n",
      "Analyzing Hourly Started \n",
      "MFTUSDT\n",
      "Analyzing Hourly Started \n",
      "WANUSDT\n",
      "Analyzing Hourly Started \n",
      "BANDUSDT\n",
      "Analyzing Hourly Started \n",
      "NKNUSDT\n",
      "Analyzing Hourly Started \n",
      "ARPAUSDT\n",
      "Analyzing Hourly Started \n",
      "TROYUSDT\n",
      "Analyzing Hourly Started \n",
      "BTSUSDT\n",
      "Analyzing Hourly Started \n",
      "LTOUSDT\n",
      "Analyzing Hourly Started \n",
      "MBLUSDT\n",
      "Analyzing Hourly Started \n",
      "VTHOUSDT\n",
      "Analyzing Hourly Started \n",
      "BLZUSDT\n",
      "Analyzing Hourly Started \n",
      "ANTUSDT\n",
      "Analyzing Hourly Started \n",
      "YFIIUSDT\n",
      "Analyzing Hourly Started \n",
      "DIAUSDT\n",
      "Analyzing Hourly Started \n",
      "BELUSDT\n",
      "Analyzing Hourly Started \n",
      "SUNUSDT\n",
      "Analyzing Hourly Started \n",
      "FLMUSDT\n",
      "********** SUCCESS ************************\n",
      "FLMUSDT\n",
      "Buy Price\n",
      "0.1299\n",
      "Kline TS\n",
      "1655722800000.0\n",
      "Quantity\n",
      "76.98229407236336\n",
      "76.98\n",
      "Analyzing Hourly Started \n",
      "ORNUSDT\n",
      "Analyzing Hourly Started \n",
      "UTKUSDT\n",
      "Analyzing Hourly Started \n",
      "XVSUSDT\n",
      "Analyzing Hourly Started \n",
      "ALPHAUSDT\n",
      "Analyzing Hourly Started \n",
      "CTKUSDT\n",
      "Analyzing Hourly Started \n",
      "UNFIUSDT\n",
      "Analyzing Hourly Started \n",
      "REEFUSDT\n",
      "Analyzing Hourly Started \n",
      "RIFUSDT\n",
      "Analyzing Hourly Started \n",
      "TRUUSDT\n",
      "Analyzing Hourly Started \n",
      "LITUSDT\n",
      "Analyzing Hourly Started \n",
      "SFPUSDT\n",
      "Analyzing Hourly Started \n",
      "BADGERUSDT\n",
      "Analyzing Hourly Started \n",
      "PONDUSDT\n",
      "********** SUCCESS ************************\n",
      "PONDUSDT\n",
      "Buy Price\n",
      "0.01009\n",
      "Kline TS\n",
      "1656749700000.0\n",
      "Quantity\n",
      "991.0802775024777\n",
      "991.08\n",
      "Analyzing Hourly Started \n",
      "ALICEUSDT\n",
      "Analyzing Hourly Started \n",
      "LINAUSDT\n",
      "Analyzing Hourly Started \n",
      "PERPUSDT\n",
      "********** SUCCESS ************************\n",
      "PERPUSDT\n",
      "Buy Price\n",
      "0.745\n",
      "Kline TS\n",
      "1657463400000.0\n",
      "Quantity\n",
      "13.422818791946309\n",
      "13.42\n",
      "Analyzing Hourly Started \n",
      "SUPERUSDT\n",
      "Analyzing Hourly Started \n",
      "TKOUSDT\n",
      "Analyzing Hourly Started \n",
      "FORTHUSDT\n",
      "********** SUCCESS ************************\n",
      "FORTHUSDT\n",
      "Buy Price\n",
      "3.19\n",
      "Kline TS\n",
      "1656011700000.0\n",
      "Quantity\n",
      "3.134796238244514\n",
      "3.13\n",
      "Analyzing Hourly Started \n",
      "BAKEUSDT\n",
      "Analyzing Hourly Started \n",
      "BURGERUSDT\n",
      "Analyzing Hourly Started \n",
      "POLSUSDT\n",
      "********** SUCCESS ************************\n",
      "POLSUSDT\n",
      "Buy Price\n",
      "0.515\n",
      "Kline TS\n",
      "1656835200000.0\n",
      "Quantity\n",
      "19.41747572815534\n",
      "19.42\n",
      "Analyzing Hourly Started \n",
      "MASKUSDT\n",
      "Analyzing Hourly Started \n",
      "XVGUSDT\n",
      "Analyzing Hourly Started \n",
      "ATAUSDT\n",
      "Analyzing Hourly Started \n",
      "GTCUSDT\n",
      "Analyzing Hourly Started \n",
      "PHAUSDT\n",
      "Analyzing Hourly Started \n",
      "MLNUSDT\n",
      "Analyzing Hourly Started \n",
      "CLVUSDT\n",
      "Analyzing Hourly Started \n",
      "TVKUSDT\n",
      "Analyzing Hourly Started \n",
      "FARMUSDT\n",
      "Analyzing Hourly Started \n",
      "ALPACAUSDT\n",
      "********** SUCCESS ************************\n",
      "ALPACAUSDT\n",
      "Buy Price\n",
      "0.2202\n",
      "Kline TS\n",
      "1656748800000.0\n",
      "Quantity\n",
      "45.41326067211626\n",
      "45.41\n",
      "Analyzing Hourly Started \n",
      "MBOXUSDT\n",
      "Analyzing Hourly Started \n",
      "GHSTUSDT\n",
      "Analyzing Hourly Started \n",
      "IDEXUSDT\n",
      "Analyzing Hourly Started \n",
      "ILVUSDT\n",
      "Analyzing Hourly Started \n",
      "RADUSDT\n",
      "Analyzing Hourly Started \n",
      "BETAUSDT\n",
      "Analyzing Hourly Started \n",
      "DARUSDT\n",
      "Analyzing Hourly Started \n",
      "RGTUSDT\n"
     ]
    }
   ],
   "source": [
    "for target_ticker in target_ticker_list:\n",
    "    \n",
    "    print('Analyzing Hourly Started ')\n",
    "    print(target_ticker)\n",
    "\n",
    "    klines = client.get_historical_klines(target_ticker, Client.KLINE_INTERVAL_15MINUTE, \"30 day ago UTC\") \n",
    "    length = int(len(klines))\n",
    "    if(length < 96):\n",
    "        break\n",
    "    \n",
    "    array = np.array(klines, dtype=np.float64)\n",
    "    focused_kline_array = np.delete(array, [2, 3, 6, 7, 8, 9, 10, 11], 1)\n",
    "    percentage_value = find_percentage_increase_or_decrease(focused_kline_array)\n",
    "    percentage_value = np.reshape(percentage_value, (length, 1))\n",
    "    focused_kline_array = np.append(focused_kline_array, percentage_value, 1)\n",
    "    average_volume = np.mean(focused_kline_array[:,3])\n",
    "    tolerable_volume = average_volume * 1.2\n",
    "    \n",
    "\n",
    "    for x in range(0, length):\n",
    "        \n",
    "\n",
    "        filtered_klines_info = focused_kline_array[x:x+96]\n",
    "        buy_kline_info = filtered_klines_info[-1]\n",
    "        if(len(filtered_klines_info) == 96 and is_candidate(filtered_klines_info, tolerable_volume)):\n",
    "            \n",
    "            print('********** SUCCESS ************************')\n",
    "            print(target_ticker)\n",
    "            print('Buy Price')\n",
    "            print(buy_kline_info[2])\n",
    "            print('Kline TS')\n",
    "            print(str(buy_kline_info[0]))\n",
    "            \n",
    "\n",
    "            busd = 10\n",
    "            \n",
    "            quantity = busd/ buy_kline_info[2]\n",
    "            print('Quantity')\n",
    "            print(quantity)\n",
    "            quantity_str = \"{:0.0{}f}\".format(quantity, 2)\n",
    "            print(quantity_str)\n",
    "            \n",
    "            \"\"\"\n",
    "            order = client.create_test_order(symbol=target_ticker, side=SIDE_BUY, type='MARKET', quoteOrderQty=busd)\n",
    "            time.sleep(5)\n",
    "            order_id = order['orderId'] \n",
    "            '''order_id = client.get_all_orders(symbol=target_ticker)[0]['orderId'] '''\n",
    "   \n",
    "            buy_price = order['fills'][0]['price']\n",
    "            buy_qty = order['executedQty']\n",
    "            sell_price = buy_price * 1.03\n",
    "            \n",
    "            \n",
    "            \n",
    "            while client.get_order(symbol=target_ticker, orderId=order_id)['status'] != 'FILLED':\n",
    "                time.sleep(10)\n",
    "                \n",
    "            if client.get_order(symbol=target_ticker, orderId=order_id)['status'] == 'FILLED':\n",
    "                asset = target_ticker.split(\"USDT\")[0]\n",
    "                balance = client.get_asset_balance(asset=asset)\n",
    "                free_to_trade = balance['free']\n",
    "                sell_price_str = \"{:0.0{}f}\".format(sell_price, 2)\n",
    "                \n",
    "                order = client.create_test_order(symbol=target_ticker, side=SIDE_SELL, type='LIMIT', quantity=float(balance['free']), price=sell_price_str, timeInForce=TIME_IN_FORCE_GTC)\n",
    "                print('********** SELL ORDER SET ************************')\n",
    "                \n",
    "                \"\"\"\n"
   ]
  },
  {
   "cell_type": "code",
   "execution_count": 15,
   "id": "34aeb919",
   "metadata": {},
   "outputs": [],
   "source": [
    "order = client.create_test_order(symbol='RADUSDT', side=SIDE_BUY, type='MARKET', quoteOrderQty=10)"
   ]
  },
  {
   "cell_type": "code",
   "execution_count": 16,
   "id": "adb94d11",
   "metadata": {},
   "outputs": [
    {
     "data": {
      "text/plain": [
       "{}"
      ]
     },
     "execution_count": 16,
     "metadata": {},
     "output_type": "execute_result"
    }
   ],
   "source": [
    "order"
   ]
  },
  {
   "cell_type": "code",
   "execution_count": 17,
   "id": "a35ddf7d",
   "metadata": {},
   "outputs": [
    {
     "ename": "KeyError",
     "evalue": "'fills'",
     "output_type": "error",
     "traceback": [
      "\u001b[0;31m---------------------------------------------------------------------------\u001b[0m",
      "\u001b[0;31mKeyError\u001b[0m                                  Traceback (most recent call last)",
      "\u001b[0;32m/var/folders/1p/r_ctn6054p567yvtb2gkp1240000gn/T/ipykernel_1637/2582698912.py\u001b[0m in \u001b[0;36m<module>\u001b[0;34m\u001b[0m\n\u001b[0;32m----> 1\u001b[0;31m \u001b[0msell_price\u001b[0m \u001b[0;34m=\u001b[0m \u001b[0mfloat\u001b[0m\u001b[0;34m(\u001b[0m\u001b[0morder\u001b[0m\u001b[0;34m[\u001b[0m\u001b[0;34m'fills'\u001b[0m\u001b[0;34m]\u001b[0m\u001b[0;34m[\u001b[0m\u001b[0;36m0\u001b[0m\u001b[0;34m]\u001b[0m\u001b[0;34m[\u001b[0m\u001b[0;34m'price'\u001b[0m\u001b[0;34m]\u001b[0m\u001b[0;34m)\u001b[0m \u001b[0;34m*\u001b[0m \u001b[0;36m1.03\u001b[0m\u001b[0;34m\u001b[0m\u001b[0;34m\u001b[0m\u001b[0m\n\u001b[0m",
      "\u001b[0;31mKeyError\u001b[0m: 'fills'"
     ]
    }
   ],
   "source": [
    "sell_price = float(order['fills'][0]['price']) * 1.03"
   ]
  },
  {
   "cell_type": "code",
   "execution_count": null,
   "id": "42069b97",
   "metadata": {},
   "outputs": [],
   "source": [
    "sell_price_str = \"{:0.0{}f}\".format(sell_price, 2)"
   ]
  },
  {
   "cell_type": "code",
   "execution_count": null,
   "id": "7d751ebe",
   "metadata": {},
   "outputs": [],
   "source": [
    "sell_price_str"
   ]
  },
  {
   "cell_type": "code",
   "execution_count": null,
   "id": "872a5191",
   "metadata": {},
   "outputs": [],
   "source": [
    "order['status']"
   ]
  },
  {
   "cell_type": "code",
   "execution_count": null,
   "id": "03b26739",
   "metadata": {},
   "outputs": [],
   "source": [
    "client.get_order(symbol='RADUSDT', orderId='66488231')"
   ]
  },
  {
   "cell_type": "code",
   "execution_count": null,
   "id": "1b3c5a1e",
   "metadata": {},
   "outputs": [],
   "source": [
    "order"
   ]
  },
  {
   "cell_type": "code",
   "execution_count": null,
   "id": "ca2ace57",
   "metadata": {},
   "outputs": [],
   "source": [
    "symbol = 'RADUSDT'"
   ]
  },
  {
   "cell_type": "code",
   "execution_count": null,
   "id": "f6a5fd08",
   "metadata": {},
   "outputs": [],
   "source": [
    "symbol.split(\"USDT\")[0]"
   ]
  },
  {
   "cell_type": "code",
   "execution_count": null,
   "id": "b0c11a55",
   "metadata": {},
   "outputs": [],
   "source": [
    "balance = client.get_asset_balance(asset='RAD')"
   ]
  },
  {
   "cell_type": "code",
   "execution_count": null,
   "id": "ab9f2790",
   "metadata": {},
   "outputs": [],
   "source": [
    "float(balance['free'])"
   ]
  },
  {
   "cell_type": "code",
   "execution_count": null,
   "id": "ee0246cb",
   "metadata": {},
   "outputs": [],
   "source": [
    "order = client.create_order(symbol='RADUSDT', side=SIDE_SELL, type='LIMIT', quantity=float(balance['free']), price=sell_price_str, timeInForce=TIME_IN_FORCE_GTC)"
   ]
  },
  {
   "cell_type": "code",
   "execution_count": null,
   "id": "05276400",
   "metadata": {},
   "outputs": [],
   "source": []
  },
  {
   "cell_type": "code",
   "execution_count": null,
   "id": "45576f6b",
   "metadata": {},
   "outputs": [],
   "source": []
  },
  {
   "cell_type": "code",
   "execution_count": null,
   "id": "70cf261b",
   "metadata": {},
   "outputs": [],
   "source": [
    "full_test_data_set = []\n",
    "\n",
    "for key in hit_ticker_dictionary.keys():\n",
    "    key_test_data_set = []\n",
    "    key_test_data_set.append(key) \n",
    "    trigger_time_in_ms = hit_ticker_dictionary[key][0][0]\n",
    "    key_test_data_set.append(trigger_time_in_ms) \n",
    "    open_price = hit_ticker_dictionary[key][0][4]\n",
    "    key_test_data_set.append(open_price)\n",
    "    analysis_kline_list = client.get_historical_klines(symbol=key, \n",
    "                                                       interval=Client.KLINE_INTERVAL_1HOUR, \n",
    "                                                       start_str=trigger_time_in_ms)[1:6]\n",
    "    for sell_kline in analysis_kline_list:\n",
    "        close_price = sell_kline[4]\n",
    "\n",
    "        key_test_data_set.append(close_price)\n",
    "        diff = (float(close_price) - float(open_price))\n",
    "        profit = diff/float(open_price) * 100\n",
    "        key_test_data_set.append(profit)\n",
    "        \n",
    "    full_test_data_set.append(key_test_data_set)\n",
    "    "
   ]
  },
  {
   "cell_type": "code",
   "execution_count": null,
   "id": "02c4c3c5",
   "metadata": {},
   "outputs": [],
   "source": [
    "full_test_data_set"
   ]
  },
  {
   "cell_type": "code",
   "execution_count": null,
   "id": "30321ea3",
   "metadata": {},
   "outputs": [],
   "source": []
  }
 ],
 "metadata": {
  "kernelspec": {
   "display_name": "Python 3 (ipykernel)",
   "language": "python",
   "name": "python3"
  },
  "language_info": {
   "codemirror_mode": {
    "name": "ipython",
    "version": 3
   },
   "file_extension": ".py",
   "mimetype": "text/x-python",
   "name": "python",
   "nbconvert_exporter": "python",
   "pygments_lexer": "ipython3",
   "version": "3.7.13"
  }
 },
 "nbformat": 4,
 "nbformat_minor": 5
}
