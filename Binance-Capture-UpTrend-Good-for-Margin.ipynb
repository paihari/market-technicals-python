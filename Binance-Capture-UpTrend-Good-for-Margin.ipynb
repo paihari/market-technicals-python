{
 "cells": [
  {
   "cell_type": "code",
   "execution_count": 1,
   "id": "21c6af51",
   "metadata": {},
   "outputs": [],
   "source": [
    "from tensorflow.python.keras.layers import Bidirectional, Dropout, Activation, Dense, LSTM,GRU\n",
    " \n",
    "from tensorflow.keras.models import Sequential\n",
    "from tensorflow.python.keras.callbacks import EarlyStopping\n",
    " \n",
    "from sklearn.preprocessing import MinMaxScaler\n",
    " \n",
    "from datetime import datetime\n",
    "\n",
    "from binance.client import Client\n",
    "\n",
    "from coinmarketcapapi import CoinMarketCapAPI, CoinMarketCapAPIError\n",
    "\n",
    "import matplotlib.pyplot as plt\n",
    "import numpy as np\n",
    "import pandas as pd\n",
    "import json"
   ]
  },
  {
   "cell_type": "code",
   "execution_count": 2,
   "id": "4e37b7c0",
   "metadata": {},
   "outputs": [],
   "source": [
    "client = Client('', '')"
   ]
  },
  {
   "cell_type": "code",
   "execution_count": 3,
   "id": "c9592b81",
   "metadata": {},
   "outputs": [],
   "source": [
    "cmc = CoinMarketCapAPI('  ')"
   ]
  },
  {
   "cell_type": "code",
   "execution_count": 4,
   "id": "4e5da0ed",
   "metadata": {},
   "outputs": [],
   "source": [
    "info = client.get_all_tickers()"
   ]
  },
  {
   "cell_type": "code",
   "execution_count": 5,
   "id": "77852dc4",
   "metadata": {},
   "outputs": [
    {
     "data": {
      "text/plain": [
       "'Good to check indivudual by get_symbol_info if status is trading'"
      ]
     },
     "execution_count": 5,
     "metadata": {},
     "output_type": "execute_result"
    }
   ],
   "source": [
    "'Good to check indivudual by get_symbol_info if status is trading'"
   ]
  },
  {
   "cell_type": "code",
   "execution_count": 6,
   "id": "16ca412e",
   "metadata": {},
   "outputs": [
    {
     "data": {
      "text/plain": [
       "'Filter the Info to get the list of Symbols ending with USDT'"
      ]
     },
     "execution_count": 6,
     "metadata": {},
     "output_type": "execute_result"
    }
   ],
   "source": [
    "'Filter the Info to get the list of Symbols ending with USDT'"
   ]
  },
  {
   "cell_type": "code",
   "execution_count": 7,
   "id": "f229a5ed",
   "metadata": {},
   "outputs": [],
   "source": [
    "ticker_list = [d['symbol'] for d in info if d['symbol'].endswith('USDT')]"
   ]
  },
  {
   "cell_type": "code",
   "execution_count": 8,
   "id": "39299cba",
   "metadata": {},
   "outputs": [],
   "source": [
    "rank_info = cmc.cryptocurrency_map(sort='cmc_rank').data"
   ]
  },
  {
   "cell_type": "code",
   "execution_count": 9,
   "id": "7da870b7",
   "metadata": {},
   "outputs": [],
   "source": [
    "target_rank_info = [d['symbol']+'USDT' for d in rank_info if d['rank'] >= 300 and d['rank'] <= 500]"
   ]
  },
  {
   "cell_type": "code",
   "execution_count": 10,
   "id": "1a23e1d9",
   "metadata": {},
   "outputs": [],
   "source": [
    "target_ticker_list = [d for d in ticker_list if d in target_rank_info]"
   ]
  },
  {
   "cell_type": "code",
   "execution_count": 11,
   "id": "a316edf6",
   "metadata": {},
   "outputs": [
    {
     "data": {
      "text/plain": [
       "['FETUSDT',\n",
       " 'DUSKUSDT',\n",
       " 'COCOSUSDT',\n",
       " 'TOMOUSDT',\n",
       " 'MFTUSDT',\n",
       " 'WANUSDT',\n",
       " 'BANDUSDT',\n",
       " 'NKNUSDT',\n",
       " 'ARPAUSDT',\n",
       " 'TROYUSDT',\n",
       " 'BTSUSDT',\n",
       " 'LTOUSDT',\n",
       " 'MBLUSDT',\n",
       " 'VTHOUSDT',\n",
       " 'BLZUSDT',\n",
       " 'KMDUSDT',\n",
       " 'ANTUSDT',\n",
       " 'WNXMUSDT',\n",
       " 'YFIIUSDT',\n",
       " 'DIAUSDT',\n",
       " 'BELUSDT',\n",
       " 'SUNUSDT',\n",
       " 'FLMUSDT',\n",
       " 'ORNUSDT',\n",
       " 'UTKUSDT',\n",
       " 'XVSUSDT',\n",
       " 'ALPHAUSDT',\n",
       " 'CTKUSDT',\n",
       " 'DNTUSDT',\n",
       " 'AVAUSDT',\n",
       " 'REEFUSDT',\n",
       " 'RIFUSDT',\n",
       " 'TRUUSDT',\n",
       " 'LITUSDT',\n",
       " 'SFPUSDT',\n",
       " 'BADGERUSDT',\n",
       " 'PONDUSDT',\n",
       " 'LINAUSDT',\n",
       " 'PERPUSDT',\n",
       " 'SUPERUSDT',\n",
       " 'TKOUSDT',\n",
       " 'FORTHUSDT',\n",
       " 'BAKEUSDT',\n",
       " 'BURGERUSDT',\n",
       " 'POLSUSDT',\n",
       " 'MASKUSDT',\n",
       " 'XVGUSDT',\n",
       " 'ATAUSDT',\n",
       " 'GTCUSDT',\n",
       " 'PHAUSDT',\n",
       " 'MLNUSDT',\n",
       " 'CLVUSDT',\n",
       " 'TVKUSDT',\n",
       " 'FARMUSDT',\n",
       " 'ALPACAUSDT',\n",
       " 'MBOXUSDT',\n",
       " 'GHSTUSDT',\n",
       " 'TRIBEUSDT',\n",
       " 'IDEXUSDT',\n",
       " 'RADUSDT',\n",
       " 'BETAUSDT',\n",
       " 'DARUSDT',\n",
       " 'RGTUSDT',\n",
       " 'MOVRUSDT',\n",
       " 'VGXUSDT',\n",
       " 'JASMYUSDT',\n",
       " 'PYRUSDT',\n",
       " 'ALCXUSDT',\n",
       " 'MCUSDT',\n",
       " 'ACHUSDT',\n",
       " 'ANCUSDT',\n",
       " 'BIFIUSDT',\n",
       " 'REIUSDT']"
      ]
     },
     "execution_count": 11,
     "metadata": {},
     "output_type": "execute_result"
    }
   ],
   "source": [
    "target_ticker_list"
   ]
  },
  {
   "cell_type": "code",
   "execution_count": null,
   "id": "ef4e3caa",
   "metadata": {},
   "outputs": [],
   "source": [
    "def is_candidate(filtered_klines_info):\n",
    "    context_klines_info = filtered_klines_info[0:3]\n",
    "    is_candidate = True\n",
    "    for context_kline in context_klines_info:\n",
    "        \n",
    "        volume_gate = float(context_kline[5]) * float(context_kline[4]) < 200000\n",
    "        percentage_gate = (float(context_kline[1]) - float(context_kline[4]))/float(context_kline[1]) * 100 < 1\n",
    "\n",
    "        'Get the Volume and check less than 500K Volume * Close Price' \n",
    "        'The percentage inrease in context candle should not be more than 3 percentage'\n",
    "        if is_candidate and volume_gate and percentage_gate:\n",
    "            is_candidate = True\n",
    "        else:\n",
    "            is_candidate = False\n",
    "    \n",
    "    trigger_kline = filtered_klines_info[-1:]\n",
    "    volume_gate = float(trigger_kline[0][5]) * float(trigger_kline[0][4]) > 1200000\n",
    "    percentage_gate = (7 <= (float(trigger_kline[0][4]) - \n",
    "                       float(trigger_kline[0][1]))/float(trigger_kline[0][1]) * 100 <= 14)\n",
    "    if is_candidate and volume_gate and percentage_gate:\n",
    "        is_candidate = True\n",
    "    else:\n",
    "        is_candidate = False\n",
    "\n",
    "    return is_candidate"
   ]
  },
  {
   "cell_type": "code",
   "execution_count": null,
   "id": "1337f1eb",
   "metadata": {},
   "outputs": [],
   "source": [
    "hit_ticker_dictionary = {}"
   ]
  },
  {
   "cell_type": "code",
   "execution_count": null,
   "id": "fd700829",
   "metadata": {},
   "outputs": [],
   "source": [
    "for target_ticker in target_ticker_list:\n",
    "\n",
    "    klines = client.get_historical_klines(target_ticker, Client.KLINE_INTERVAL_1HOUR, \"30 day ago UTC\") \n",
    "    length = int(len(klines))\n",
    "    for x in range(0, length, 4):\n",
    "        filtered_klines_info = klines[x:x+4]\n",
    "        if(len(filtered_klines_info) == 4 and is_candidate(filtered_klines_info)):\n",
    "            print('********** SUCCESS ************************')\n",
    "            print(target_ticker)\n",
    "            hit_ticker_dictionary[target_ticker] = filtered_klines_info[-1:]\n",
    "            "
   ]
  },
  {
   "cell_type": "code",
   "execution_count": null,
   "id": "70cf261b",
   "metadata": {},
   "outputs": [],
   "source": [
    "full_test_data_set = []\n",
    "\n",
    "for key in hit_ticker_dictionary.keys():\n",
    "    key_test_data_set = []\n",
    "    key_test_data_set.append(key) \n",
    "    trigger_time_in_ms = hit_ticker_dictionary[key][0][0]\n",
    "    key_test_data_set.append(trigger_time_in_ms) \n",
    "    open_price = hit_ticker_dictionary[key][0][4]\n",
    "    key_test_data_set.append(open_price)\n",
    "    analysis_kline_list = client.get_historical_klines(symbol=key, \n",
    "                                                       interval=Client.KLINE_INTERVAL_1HOUR, \n",
    "                                                       start_str=trigger_time_in_ms)[1:6]\n",
    "    for sell_kline in analysis_kline_list:\n",
    "        close_price = sell_kline[4]\n",
    "\n",
    "        key_test_data_set.append(close_price)\n",
    "        diff = (float(close_price) - float(open_price))\n",
    "        profit = diff/float(open_price) * 100\n",
    "        key_test_data_set.append(profit)\n",
    "        \n",
    "    full_test_data_set.append(key_test_data_set)\n",
    "    "
   ]
  },
  {
   "cell_type": "code",
   "execution_count": null,
   "id": "02c4c3c5",
   "metadata": {},
   "outputs": [],
   "source": [
    "full_test_data_set"
   ]
  },
  {
   "cell_type": "code",
   "execution_count": null,
   "id": "30321ea3",
   "metadata": {},
   "outputs": [],
   "source": []
  }
 ],
 "metadata": {
  "kernelspec": {
   "display_name": "Python 3 (ipykernel)",
   "language": "python",
   "name": "python3"
  },
  "language_info": {
   "codemirror_mode": {
    "name": "ipython",
    "version": 3
   },
   "file_extension": ".py",
   "mimetype": "text/x-python",
   "name": "python",
   "nbconvert_exporter": "python",
   "pygments_lexer": "ipython3",
   "version": "3.7.13"
  }
 },
 "nbformat": 4,
 "nbformat_minor": 5
}
