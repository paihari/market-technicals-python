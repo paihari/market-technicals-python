{
 "cells": [
  {
   "cell_type": "code",
   "execution_count": 1,
   "id": "21c6af51",
   "metadata": {},
   "outputs": [],
   "source": [
    "from tensorflow.python.keras.layers import Bidirectional, Dropout, Activation, Dense, LSTM,GRU\n",
    " \n",
    "from tensorflow.keras.models import Sequential\n",
    "from tensorflow.python.keras.callbacks import EarlyStopping\n",
    " \n",
    "from sklearn.preprocessing import MinMaxScaler\n",
    " \n",
    "from datetime import datetime\n",
    "\n",
    "from binance.client import Client\n",
    "\n",
    "import matplotlib.pyplot as plt\n",
    "import numpy as np\n",
    "import pandas as pd\n"
   ]
  },
  {
   "cell_type": "code",
   "execution_count": 2,
   "id": "4e37b7c0",
   "metadata": {},
   "outputs": [],
   "source": [
    "client = Client('', '')"
   ]
  },
  {
   "cell_type": "code",
   "execution_count": 3,
   "id": "7494b635",
   "metadata": {},
   "outputs": [],
   "source": [
    "klines = client.get_historical_klines(\"BTCUSDT\", Client.KLINE_INTERVAL_30MINUTE, \"150 day ago UTC\")"
   ]
  },
  {
   "cell_type": "code",
   "execution_count": 4,
   "id": "7979f3e0",
   "metadata": {},
   "outputs": [],
   "source": [
    "array = np.array(klines)"
   ]
  },
  {
   "cell_type": "code",
   "execution_count": 5,
   "id": "c25bbfec",
   "metadata": {},
   "outputs": [],
   "source": [
    "siz = np.size(array, 0)"
   ]
  },
  {
   "cell_type": "code",
   "execution_count": 6,
   "id": "97b29aa7",
   "metadata": {},
   "outputs": [],
   "source": [
    "df = pd.DataFrame.from_records(array)"
   ]
  },
  {
   "cell_type": "code",
   "execution_count": 7,
   "id": "f7219c1f",
   "metadata": {},
   "outputs": [],
   "source": [
    "df.columns = ['Open Time', 'Open', \n",
    "              'High', 'Low', 'Close', \n",
    "              'Volume', 'Close Time', \n",
    "              'Quote asset volume', 'Number of trades', \n",
    "              'Taken buy base asset volume', 'Taken buy quote asset volume', \n",
    "              'Can be ignored']"
   ]
  },
  {
   "cell_type": "code",
   "execution_count": 8,
   "id": "36b2cd41",
   "metadata": {},
   "outputs": [],
   "source": [
    "df.drop(['Close Time', 'Can be ignored'], axis=1, inplace=True)"
   ]
  },
  {
   "cell_type": "code",
   "execution_count": 9,
   "id": "e4b7584f",
   "metadata": {},
   "outputs": [],
   "source": [
    "df['Open Time'] = pd.to_numeric(df['Open Time'])/1000"
   ]
  },
  {
   "cell_type": "code",
   "execution_count": 10,
   "id": "84633b86",
   "metadata": {},
   "outputs": [],
   "source": [
    "df['Open'] = pd.to_numeric(df['Open'])\n",
    "df['High'] = pd.to_numeric(df['High'])\n",
    "df['Low'] = pd.to_numeric(df['Low'])\n",
    "df['Close'] = pd.to_numeric(df['Close'])\n",
    "df['Volume'] = pd.to_numeric(df['Volume'])\n",
    "df['Quote asset volume'] = pd.to_numeric(df['Quote asset volume'])\n",
    "df['Number of trades'] = pd.to_numeric(df['Number of trades'])\n",
    "df['Taken buy base asset volume'] = pd.to_numeric(df['Taken buy base asset volume'])\n",
    "df['Taken buy quote asset volume'] = pd.to_numeric(df['Taken buy quote asset volume'])"
   ]
  },
  {
   "cell_type": "code",
   "execution_count": 11,
   "id": "4f473b58",
   "metadata": {},
   "outputs": [],
   "source": [
    "df['Date'] = pd.to_datetime(df['Open Time'], unit='s').dt.date"
   ]
  },
  {
   "cell_type": "code",
   "execution_count": 12,
   "id": "e9e99532",
   "metadata": {},
   "outputs": [],
   "source": [
    "group = df.groupby('Date') "
   ]
  },
  {
   "cell_type": "code",
   "execution_count": 13,
   "id": "07df3eb2",
   "metadata": {},
   "outputs": [
    {
     "name": "stdout",
     "output_type": "stream",
     "text": [
      "<class 'pandas.core.frame.DataFrame'>\n",
      "Index: 7200 entries, 2022-02-03 to 2022-07-03\n",
      "Data columns (total 11 columns):\n",
      " #   Column                        Non-Null Count  Dtype  \n",
      "---  ------                        --------------  -----  \n",
      " 0   Open Time                     7200 non-null   float64\n",
      " 1   Open                          7200 non-null   float64\n",
      " 2   High                          7200 non-null   float64\n",
      " 3   Low                           7200 non-null   float64\n",
      " 4   Close                         7200 non-null   float64\n",
      " 5   Volume                        7200 non-null   float64\n",
      " 6   Quote asset volume            7200 non-null   float64\n",
      " 7   Number of trades              7200 non-null   int64  \n",
      " 8   Taken buy base asset volume   7200 non-null   float64\n",
      " 9   Taken buy quote asset volume  7200 non-null   float64\n",
      " 10  Date                          7200 non-null   object \n",
      "dtypes: float64(9), int64(1), object(1)\n",
      "memory usage: 675.0+ KB\n"
     ]
    }
   ],
   "source": [
    "df.index = df['Date']\n",
    "df.info()"
   ]
  },
  {
   "cell_type": "code",
   "execution_count": 14,
   "id": "0c5f1f45",
   "metadata": {},
   "outputs": [],
   "source": [
    "day_price = group['Close'].mean()"
   ]
  },
  {
   "cell_type": "code",
   "execution_count": 15,
   "id": "f5b9b07b",
   "metadata": {},
   "outputs": [],
   "source": [
    "date1 = df['Date'][0]"
   ]
  },
  {
   "cell_type": "code",
   "execution_count": 16,
   "id": "353149aa",
   "metadata": {},
   "outputs": [],
   "source": [
    "date2 = df['Date'].iloc[-1]"
   ]
  },
  {
   "cell_type": "code",
   "execution_count": 17,
   "id": "1db0c485",
   "metadata": {},
   "outputs": [],
   "source": [
    "delta = date2 - date1\n",
    "\n",
    "days_look = delta.days + 1 "
   ]
  },
  {
   "cell_type": "code",
   "execution_count": 18,
   "id": "a1ee3062",
   "metadata": {},
   "outputs": [],
   "source": [
    "data = day_price[len(day_price) - days_look:len(day_price)]\n",
    "scl = MinMaxScaler()"
   ]
  },
  {
   "cell_type": "code",
   "execution_count": 19,
   "id": "04eb96e7",
   "metadata": {},
   "outputs": [],
   "source": [
    "data = data.values.reshape(data.shape[0], 1)"
   ]
  },
  {
   "cell_type": "code",
   "execution_count": 20,
   "id": "dacbb4ed",
   "metadata": {},
   "outputs": [],
   "source": [
    "scale_data = scl.fit_transform(data)"
   ]
  },
  {
   "cell_type": "code",
   "execution_count": 21,
   "id": "cb5b7e64",
   "metadata": {},
   "outputs": [],
   "source": [
    "SEQ_LEN = 50\n",
    "WINDOW_SIZE = SEQ_LEN - 1\n",
    " \n",
    "BATCH_SIZE=64\n",
    " \n",
    "DROPOUT = 0.2\n",
    "\n",
    "def load_data(data_raw, seq_len):\n",
    "    \n",
    "    data = []\n",
    "    for index in range(len(data_raw) - seq_len):\n",
    "        data.append(data_raw[index: index + seq_len])\n",
    " \n",
    "    data = np.array(data)\n",
    "    train_split = 0.8\n",
    " \n",
    "    num_data = data.shape[0]\n",
    "\n",
    "    \n",
    " \n",
    "    num_train = int(train_split * num_data)\n",
    " \n",
    "    data = np.array(data);\n",
    " \n",
    "    x_train = data[:num_train, :-1, :]\n",
    "\n",
    " \n",
    "    y_train = data[:num_train, -1, :]\n",
    "\n",
    " \n",
    "    x_test = data[num_train:, :-1, :]\n",
    "    y_test = data[num_train:, -1, :]\n",
    "    return [x_train, y_train, x_test, y_test]"
   ]
  },
  {
   "cell_type": "code",
   "execution_count": 22,
   "id": "0636e957",
   "metadata": {},
   "outputs": [],
   "source": [
    "x_train, y_train, x_test, y_test = load_data(scale_data, SEQ_LEN)"
   ]
  },
  {
   "cell_type": "code",
   "execution_count": 23,
   "id": "c28f9797",
   "metadata": {},
   "outputs": [],
   "source": [
    "model = Sequential()"
   ]
  },
  {
   "cell_type": "code",
   "execution_count": 24,
   "id": "43ac8a3b",
   "metadata": {},
   "outputs": [],
   "source": [
    "bi = Bidirectional(LSTM(WINDOW_SIZE, return_sequences=True),\n",
    "                        input_shape=(WINDOW_SIZE, x_train.shape[-1]))"
   ]
  },
  {
   "cell_type": "code",
   "execution_count": 25,
   "id": "63adb611",
   "metadata": {},
   "outputs": [
    {
     "name": "stderr",
     "output_type": "stream",
     "text": [
      "2022-07-03 18:58:21.933955: I tensorflow/core/platform/cpu_feature_guard.cc:145] This TensorFlow binary is optimized with Intel(R) MKL-DNN to use the following CPU instructions in performance critical operations:  SSE4.1 SSE4.2\n",
      "To enable them in non-MKL-DNN operations, rebuild TensorFlow with the appropriate compiler flags.\n",
      "2022-07-03 18:58:21.935425: I tensorflow/core/common_runtime/process_util.cc:115] Creating new thread pool with default inter op setting: 8. Tune using inter_op_parallelism_threads for best performance.\n"
     ]
    }
   ],
   "source": [
    "model.add(bi)"
   ]
  },
  {
   "cell_type": "code",
   "execution_count": 26,
   "id": "0a281606",
   "metadata": {},
   "outputs": [],
   "source": [
    "model.add(Dropout(DROPOUT))"
   ]
  },
  {
   "cell_type": "code",
   "execution_count": 27,
   "id": "a56e4592",
   "metadata": {},
   "outputs": [],
   "source": [
    "# Second Layer\n",
    "model.add(Bidirectional(LSTM((WINDOW_SIZE * 2), return_sequences=True)))\n",
    "model.add(Dropout(DROPOUT))"
   ]
  },
  {
   "cell_type": "code",
   "execution_count": 28,
   "id": "8d03e53e",
   "metadata": {},
   "outputs": [],
   "source": [
    "# Third Layer\n",
    "model.add(Bidirectional(LSTM(WINDOW_SIZE, return_sequences=False)))\n",
    "model.add(Dense(units=1))"
   ]
  },
  {
   "cell_type": "code",
   "execution_count": 29,
   "id": "39852319",
   "metadata": {},
   "outputs": [],
   "source": [
    "# Set activation function\n",
    "model.add(Activation('linear'))\n",
    "model.compile(loss='mean_squared_error', optimizer='adam')"
   ]
  },
  {
   "cell_type": "code",
   "execution_count": 30,
   "id": "0706ee1a",
   "metadata": {},
   "outputs": [
    {
     "name": "stdout",
     "output_type": "stream",
     "text": [
      "Model: \"sequential\"\n",
      "_________________________________________________________________\n",
      "Layer (type)                 Output Shape              Param #   \n",
      "=================================================================\n",
      "bidirectional (Bidirectional (None, 49, 98)            19992     \n",
      "_________________________________________________________________\n",
      "dropout (Dropout)            (None, 49, 98)            0         \n",
      "_________________________________________________________________\n",
      "bidirectional_1 (Bidirection (None, 49, 196)           154448    \n",
      "_________________________________________________________________\n",
      "dropout_1 (Dropout)          (None, 49, 196)           0         \n",
      "_________________________________________________________________\n",
      "bidirectional_2 (Bidirection (None, 98)                96432     \n",
      "_________________________________________________________________\n",
      "dense (Dense)                (None, 1)                 99        \n",
      "_________________________________________________________________\n",
      "activation (Activation)      (None, 1)                 0         \n",
      "=================================================================\n",
      "Total params: 270,971\n",
      "Trainable params: 270,971\n",
      "Non-trainable params: 0\n",
      "_________________________________________________________________\n",
      "None\n"
     ]
    }
   ],
   "source": [
    "print(model.summary())"
   ]
  },
  {
   "cell_type": "code",
   "execution_count": 31,
   "id": "8765d86b",
   "metadata": {},
   "outputs": [
    {
     "name": "stdout",
     "output_type": "stream",
     "text": [
      "Train on 80 samples, validate on 21 samples\n",
      "Epoch 1/100\n",
      "80/80 [==============================] - 18s 230ms/sample - loss: 0.3771 - val_loss: 0.0325\n",
      "Epoch 2/100\n",
      "80/80 [==============================] - 2s 25ms/sample - loss: 0.0778 - val_loss: 0.1528\n",
      "Epoch 3/100\n",
      "80/80 [==============================] - 2s 27ms/sample - loss: 0.0602 - val_loss: 0.1150\n",
      "Epoch 4/100\n",
      "80/80 [==============================] - 2s 25ms/sample - loss: 0.0324 - val_loss: 0.0577\n",
      "Epoch 5/100\n",
      "80/80 [==============================] - 2s 27ms/sample - loss: 0.0342 - val_loss: 0.0357\n",
      "Epoch 6/100\n",
      "80/80 [==============================] - 2s 26ms/sample - loss: 0.0530 - val_loss: 0.0330\n",
      "Epoch 7/100\n",
      "80/80 [==============================] - 2s 25ms/sample - loss: 0.0519 - val_loss: 0.0413\n",
      "Epoch 8/100\n",
      "80/80 [==============================] - 2s 25ms/sample - loss: 0.0347 - val_loss: 0.0575\n",
      "Epoch 9/100\n",
      "80/80 [==============================] - 2s 25ms/sample - loss: 0.0232 - val_loss: 0.0742\n",
      "Epoch 10/100\n",
      "80/80 [==============================] - 2s 25ms/sample - loss: 0.0211 - val_loss: 0.0759\n",
      "Epoch 11/100\n",
      "80/80 [==============================] - 2s 26ms/sample - loss: 0.0214 - val_loss: 0.0603\n",
      "Epoch 12/100\n",
      "80/80 [==============================] - 2s 25ms/sample - loss: 0.0165 - val_loss: 0.0427\n",
      "Epoch 13/100\n",
      "80/80 [==============================] - 2s 24ms/sample - loss: 0.0163 - val_loss: 0.0323\n",
      "Epoch 14/100\n",
      "80/80 [==============================] - 2s 25ms/sample - loss: 0.0204 - val_loss: 0.0291\n",
      "Epoch 15/100\n",
      "80/80 [==============================] - 2s 26ms/sample - loss: 0.0182 - val_loss: 0.0313\n",
      "Epoch 16/100\n",
      "80/80 [==============================] - 2s 27ms/sample - loss: 0.0138 - val_loss: 0.0356\n",
      "Epoch 17/100\n",
      "80/80 [==============================] - 2s 26ms/sample - loss: 0.0111 - val_loss: 0.0363\n",
      "Epoch 18/100\n",
      "80/80 [==============================] - 2s 26ms/sample - loss: 0.0130 - val_loss: 0.0290\n",
      "Epoch 19/100\n",
      "80/80 [==============================] - 2s 24ms/sample - loss: 0.0103 - val_loss: 0.0213\n",
      "Epoch 20/100\n",
      "80/80 [==============================] - 2s 25ms/sample - loss: 0.0094 - val_loss: 0.0180\n",
      "Epoch 21/100\n",
      "80/80 [==============================] - 2s 25ms/sample - loss: 0.0093 - val_loss: 0.0185\n",
      "Epoch 22/100\n",
      "80/80 [==============================] - 2s 28ms/sample - loss: 0.0075 - val_loss: 0.0207\n",
      "Epoch 23/100\n",
      "80/80 [==============================] - 2s 27ms/sample - loss: 0.0090 - val_loss: 0.0200\n",
      "Epoch 24/100\n",
      "80/80 [==============================] - 2s 27ms/sample - loss: 0.0092 - val_loss: 0.0166\n",
      "Epoch 25/100\n",
      "80/80 [==============================] - 2s 28ms/sample - loss: 0.0078 - val_loss: 0.0150\n",
      "Epoch 26/100\n",
      "80/80 [==============================] - 2s 26ms/sample - loss: 0.0075 - val_loss: 0.0165\n",
      "Epoch 27/100\n",
      "80/80 [==============================] - 2s 27ms/sample - loss: 0.0072 - val_loss: 0.0183\n",
      "Epoch 28/100\n",
      "80/80 [==============================] - 2s 25ms/sample - loss: 0.0078 - val_loss: 0.0189\n",
      "Epoch 29/100\n",
      "80/80 [==============================] - 2s 28ms/sample - loss: 0.0078 - val_loss: 0.0175\n",
      "Epoch 30/100\n",
      "80/80 [==============================] - 2s 25ms/sample - loss: 0.0065 - val_loss: 0.0171\n",
      "Epoch 31/100\n",
      "80/80 [==============================] - 2s 26ms/sample - loss: 0.0074 - val_loss: 0.0185\n",
      "Epoch 32/100\n",
      "80/80 [==============================] - 2s 26ms/sample - loss: 0.0065 - val_loss: 0.0201\n",
      "Epoch 33/100\n",
      "80/80 [==============================] - 2s 25ms/sample - loss: 0.0071 - val_loss: 0.0206\n",
      "Epoch 34/100\n",
      "80/80 [==============================] - 2s 25ms/sample - loss: 0.0068 - val_loss: 0.0196\n",
      "Epoch 35/100\n",
      "80/80 [==============================] - 2s 28ms/sample - loss: 0.0069 - val_loss: 0.0188\n",
      "Epoch 36/100\n",
      "80/80 [==============================] - 2s 25ms/sample - loss: 0.0063 - val_loss: 0.0195\n",
      "Epoch 37/100\n",
      "80/80 [==============================] - 2s 24ms/sample - loss: 0.0058 - val_loss: 0.0202\n",
      "Epoch 38/100\n",
      "80/80 [==============================] - 2s 25ms/sample - loss: 0.0059 - val_loss: 0.0199\n",
      "Epoch 39/100\n",
      "80/80 [==============================] - 2s 26ms/sample - loss: 0.0060 - val_loss: 0.0187\n",
      "Epoch 40/100\n",
      "80/80 [==============================] - 2s 28ms/sample - loss: 0.0055 - val_loss: 0.0188\n",
      "Epoch 41/100\n",
      "80/80 [==============================] - 2s 28ms/sample - loss: 0.0053 - val_loss: 0.0188\n",
      "Epoch 42/100\n",
      "80/80 [==============================] - 2s 26ms/sample - loss: 0.0052 - val_loss: 0.0175\n",
      "Epoch 43/100\n",
      "80/80 [==============================] - 2s 25ms/sample - loss: 0.0059 - val_loss: 0.0169\n",
      "Epoch 44/100\n",
      "80/80 [==============================] - 2s 25ms/sample - loss: 0.0054 - val_loss: 0.0177\n",
      "Epoch 45/100\n",
      "80/80 [==============================] - 2s 26ms/sample - loss: 0.0055 - val_loss: 0.0179\n",
      "Epoch 00045: early stopping\n"
     ]
    }
   ],
   "source": [
    "history = model.fit(x_train, y_train, epochs=100, batch_size=BATCH_SIZE, shuffle=False,\n",
    "                    validation_data=(x_test, y_test),\n",
    "                    callbacks=[EarlyStopping(monitor='val_loss', min_delta=7e-7, patience=20, verbose=1)])\n"
   ]
  },
  {
   "cell_type": "code",
   "execution_count": 32,
   "id": "b27a0875",
   "metadata": {},
   "outputs": [
    {
     "data": {
      "image/png": "[encoded data removed]",
      "text/plain": [
       "<Figure size 1152x576 with 1 Axes>"
      ]
     },
     "metadata": {
      "needs_background": "light"
     },
     "output_type": "display_data"
    }
   ],
   "source": [
    "predict_prices = model.predict(x_test)\n",
    "\n",
    "plt.figure(figsize=(16,8))\n",
    "plt.plot(scl.inverse_transform(y_test), label=\"Actual Values\", color='green')\n",
    "plt.plot(scl.inverse_transform(predict_prices), label=\"Predicted Values\", color='red')\n",
    " \n",
    "plt.title('ETH price Prediction')\n",
    "plt.xlabel('time [days]')\n",
    "plt.ylabel('Price')\n",
    "plt.legend(loc='best')\n",
    " \n",
    "plt.show()"
   ]
  },
  {
   "cell_type": "code",
   "execution_count": null,
   "id": "45db235c",
   "metadata": {},
   "outputs": [],
   "source": []
  }
 ],
 "metadata": {
  "kernelspec": {
   "display_name": "Python 3 (ipykernel)",
   "language": "python",
   "name": "python3"
  },
  "language_info": {
   "codemirror_mode": {
    "name": "ipython",
    "version": 3
   },
   "file_extension": ".py",
   "mimetype": "text/x-python",
   "name": "python",
   "nbconvert_exporter": "python",
   "pygments_lexer": "ipython3",
   "version": "3.7.13"
  }
 },
 "nbformat": 4,
 "nbformat_minor": 5
}
