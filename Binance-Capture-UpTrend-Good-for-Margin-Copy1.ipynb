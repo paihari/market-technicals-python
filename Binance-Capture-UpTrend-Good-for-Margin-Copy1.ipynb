{
 "cells": [
  {
   "cell_type": "code",
   "execution_count": 1,
   "id": "21c6af51",
   "metadata": {},
   "outputs": [],
   "source": [
    "from tensorflow.python.keras.layers import Bidirectional, Dropout, Activation, Dense, LSTM,GRU\n",
    " \n",
    "from tensorflow.keras.models import Sequential\n",
    "from tensorflow.python.keras.callbacks import EarlyStopping\n",
    " \n",
    "from sklearn.preprocessing import MinMaxScaler\n",
    " \n",
    "from datetime import datetime\n",
    "\n",
    "from binance.client import Client\n",
    "\n",
    "from coinmarketcapapi import CoinMarketCapAPI, CoinMarketCapAPIError\n",
    "\n",
    "import matplotlib.pyplot as plt\n",
    "import numpy as np\n",
    "import pandas as pd\n",
    "import json"
   ]
  },
  {
   "cell_type": "code",
   "execution_count": 2,
   "id": "4e37b7c0",
   "metadata": {},
   "outputs": [],
   "source": [
    "client = Client('', '')"
   ]
  },
  {
   "cell_type": "code",
   "execution_count": 3,
   "id": "c9592b81",
   "metadata": {},
   "outputs": [],
   "source": [
    "cmc = CoinMarketCapAPI('  ')"
   ]
  },
  {
   "cell_type": "code",
   "execution_count": 4,
   "id": "4e5da0ed",
   "metadata": {},
   "outputs": [],
   "source": [
    "info = client.get_all_tickers()"
   ]
  },
  {
   "cell_type": "code",
   "execution_count": 5,
   "id": "77852dc4",
   "metadata": {},
   "outputs": [
    {
     "data": {
      "text/plain": [
       "'Good to check indivudual by get_symbol_info if status is trading'"
      ]
     },
     "execution_count": 5,
     "metadata": {},
     "output_type": "execute_result"
    }
   ],
   "source": [
    "'Good to check indivudual by get_symbol_info if status is trading'"
   ]
  },
  {
   "cell_type": "code",
   "execution_count": 6,
   "id": "16ca412e",
   "metadata": {},
   "outputs": [
    {
     "data": {
      "text/plain": [
       "'Filter the Info to get the list of Symbols ending with USDT'"
      ]
     },
     "execution_count": 6,
     "metadata": {},
     "output_type": "execute_result"
    }
   ],
   "source": [
    "'Filter the Info to get the list of Symbols ending with USDT'"
   ]
  },
  {
   "cell_type": "code",
   "execution_count": 7,
   "id": "f229a5ed",
   "metadata": {},
   "outputs": [],
   "source": [
    "ticker_list = [d['symbol'] for d in info if d['symbol'].endswith('USDT')]"
   ]
  },
  {
   "cell_type": "code",
   "execution_count": 8,
   "id": "39299cba",
   "metadata": {},
   "outputs": [],
   "source": [
    "rank_info = cmc.cryptocurrency_map(sort='cmc_rank').data"
   ]
  },
  {
   "cell_type": "code",
   "execution_count": 9,
   "id": "7da870b7",
   "metadata": {},
   "outputs": [],
   "source": [
    "target_rank_info = [d['symbol']+'USDT' for d in rank_info if d['rank'] >= 1 and d['rank'] <= 400]"
   ]
  },
  {
   "cell_type": "code",
   "execution_count": 10,
   "id": "1a23e1d9",
   "metadata": {},
   "outputs": [],
   "source": [
    "target_ticker_list = [d for d in ticker_list if d in target_rank_info]"
   ]
  },
  {
   "cell_type": "code",
   "execution_count": 11,
   "id": "ef4e3caa",
   "metadata": {},
   "outputs": [],
   "source": [
    "def is_candidate(filtered_klines_info):\n",
    "    context_klines_info = filtered_klines_info[0:3]\n",
    "    is_candidate = True\n",
    "    for context_kline in context_klines_info:\n",
    "        \n",
    "        volume_gate = float(context_kline[5]) * float(context_kline[4]) < 200000\n",
    "        percentage_gate = (float(context_kline[1]) - float(context_kline[4]))/float(context_kline[1]) * 100 < 1\n",
    "\n",
    "        'Get the Volume and check less than 500K Volume * Close Price' \n",
    "        'The percentage inrease in context candle should not be more than 3 percentage'\n",
    "        if is_candidate and volume_gate and percentage_gate:\n",
    "            is_candidate = True\n",
    "        else:\n",
    "            is_candidate = False\n",
    "    \n",
    "    trigger_kline = filtered_klines_info[-1:]\n",
    "    volume_gate = float(trigger_kline[0][5]) * float(trigger_kline[0][4]) > 1000000\n",
    "    percentage_gate = (5 <= (float(trigger_kline[0][4]) - \n",
    "                       float(trigger_kline[0][1]))/float(trigger_kline[0][1]) * 100 <= 20)\n",
    "    if is_candidate and volume_gate and percentage_gate:\n",
    "        print(trigger_kline)\n",
    "        is_candidate = True\n",
    "    else:\n",
    "        is_candidate = False\n",
    "\n",
    "    return is_candidate"
   ]
  },
  {
   "cell_type": "code",
   "execution_count": 12,
   "id": "fd700829",
   "metadata": {},
   "outputs": [
    {
     "name": "stdout",
     "output_type": "stream",
     "text": [
      "Fetch Data BTCUSDT\n",
      "Fetch Data ETHUSDT\n",
      "Fetch Data BNBUSDT\n",
      "Fetch Data NEOUSDT\n",
      "Fetch Data LTCUSDT\n",
      "Fetch Data QTUMUSDT\n",
      "Fetch Data ADAUSDT\n",
      "Fetch Data XRPUSDT\n",
      "Fetch Data EOSUSDT\n",
      "Fetch Data TUSDUSDT\n",
      "Fetch Data XLMUSDT\n",
      "Fetch Data ONTUSDT\n",
      "[[1654164000000, '0.29200000', '0.32760000', '0.28950000', '0.31440000', '8272608.00000000', 1654167599999, '2576702.48000000', 18777, '4090749.00000000', '1275578.23030000', '0']]\n",
      "********** SUCCESS ************************\n",
      "ONTUSDT\n",
      "Fetch Data TRXUSDT\n",
      "Fetch Data ETCUSDT\n",
      "Fetch Data ICXUSDT\n",
      "Fetch Data VETUSDT\n",
      "Fetch Data USDCUSDT\n",
      "Fetch Data LINKUSDT\n",
      "Fetch Data WAVESUSDT\n",
      "Fetch Data BTTUSDT\n",
      "Fetch Data ONGUSDT\n",
      "Fetch Data HOTUSDT\n",
      "Fetch Data ZILUSDT\n",
      "Fetch Data ZRXUSDT\n",
      "Fetch Data FETUSDT\n",
      "Fetch Data BATUSDT\n",
      "Fetch Data XMRUSDT\n",
      "Fetch Data ZECUSDT\n",
      "Fetch Data IOSTUSDT\n",
      "Fetch Data CELRUSDT\n",
      "Fetch Data DASHUSDT\n",
      "Fetch Data OMGUSDT\n",
      "Fetch Data THETAUSDT\n",
      "Fetch Data ENJUSDT\n",
      "Fetch Data MATICUSDT\n",
      "Fetch Data ATOMUSDT\n",
      "Fetch Data TFUELUSDT\n",
      "Fetch Data ONEUSDT\n",
      "Fetch Data FTMUSDT\n",
      "Fetch Data ALGOUSDT\n",
      "Fetch Data DOGEUSDT\n",
      "Fetch Data DUSKUSDT\n",
      "Fetch Data ANKRUSDT\n",
      "Fetch Data WINUSDT\n",
      "Fetch Data COCOSUSDT\n",
      "Fetch Data MTLUSDT\n",
      "Fetch Data DENTUSDT\n",
      "Fetch Data FUNUSDT\n",
      "Fetch Data CVCUSDT\n",
      "Fetch Data CHZUSDT\n",
      "Fetch Data BANDUSDT\n",
      "Fetch Data BUSDUSDT\n",
      "Fetch Data XTZUSDT\n",
      "Fetch Data RENUSDT\n",
      "[[1656223200000, '0.12210000', '0.14000000', '0.12100000', '0.13510000', '13823053.00000000', 1656226799999, '1829657.98140000', 9849, '6996692.00000000', '928894.87750000', '0']]\n",
      "********** SUCCESS ************************\n",
      "RENUSDT\n",
      "Fetch Data RVNUSDT\n",
      "Fetch Data HBARUSDT\n",
      "Fetch Data NKNUSDT\n",
      "Fetch Data STXUSDT\n",
      "Fetch Data KAVAUSDT\n",
      "Fetch Data ARPAUSDT\n",
      "Fetch Data IOTXUSDT\n",
      "Fetch Data RLCUSDT\n",
      "Fetch Data BCHUSDT\n",
      "Fetch Data FTTUSDT\n",
      "Fetch Data OGNUSDT\n",
      "Fetch Data WRXUSDT\n",
      "Fetch Data LSKUSDT\n",
      "Fetch Data BNTUSDT\n",
      "Fetch Data COTIUSDT\n",
      "Fetch Data STPTUSDT\n",
      "Fetch Data SOLUSDT\n",
      "Fetch Data CTSIUSDT\n",
      "Fetch Data HIVEUSDT\n",
      "[[1656540000000, '0.57640000', '0.63150000', '0.57640000', '0.62390000', '2155011.00000000', 1656543599999, '1320701.70460000', 5489, '1096062.00000000', '671003.08030000', '0']]\n",
      "********** SUCCESS ************************\n",
      "HIVEUSDT\n",
      "Fetch Data CHRUSDT\n",
      "Fetch Data ARDRUSDT\n",
      "Fetch Data STMXUSDT\n",
      "Fetch Data KNCUSDT\n",
      "Fetch Data REPUSDT\n",
      "Fetch Data LRCUSDT\n",
      "Fetch Data COMPUSDT\n",
      "Fetch Data SCUSDT\n",
      "Fetch Data ZENUSDT\n",
      "Fetch Data SNXUSDT\n",
      "Fetch Data VTHOUSDT\n",
      "Fetch Data DGBUSDT\n",
      "Fetch Data SXPUSDT\n",
      "Fetch Data MKRUSDT\n",
      "Fetch Data DAIUSDT\n",
      "Fetch Data DCRUSDT\n",
      "Fetch Data STORJUSDT\n",
      "Fetch Data MANAUSDT\n",
      "Fetch Data YFIUSDT\n",
      "Fetch Data BALUSDT\n",
      "Fetch Data JSTUSDT\n",
      "Fetch Data SRMUSDT\n",
      "Fetch Data ANTUSDT\n",
      "Fetch Data CRVUSDT\n",
      "Fetch Data SANDUSDT\n",
      "Fetch Data OCEANUSDT\n",
      "Fetch Data NMRUSDT\n",
      "Fetch Data DOTUSDT\n",
      "Fetch Data LUNAUSDT\n",
      "Fetch Data RSRUSDT\n",
      "Fetch Data PAXGUSDT\n",
      "Fetch Data SUSHIUSDT\n",
      "Fetch Data KSMUSDT\n",
      "Fetch Data EGLDUSDT\n",
      "Fetch Data RUNEUSDT\n",
      "Fetch Data UMAUSDT\n",
      "Fetch Data UNIUSDT\n",
      "Fetch Data OXTUSDT\n",
      "Fetch Data SUNUSDT\n",
      "Fetch Data AVAXUSDT\n",
      "Fetch Data HNTUSDT\n",
      "Fetch Data ORNUSDT\n",
      "Fetch Data UTKUSDT\n",
      "Fetch Data XVSUSDT\n",
      "Fetch Data ALPHAUSDT\n",
      "Fetch Data AAVEUSDT\n",
      "Fetch Data NEARUSDT\n",
      "Fetch Data FILUSDT\n",
      "Fetch Data INJUSDT\n",
      "[[1654840800000, '2.01900000', '2.22600000', '2.01900000', '2.15300000', '1011365.80000000', 1654844399999, '2167622.51620000', 8739, '562471.40000000', '1206455.25150000', '0']]\n",
      "********** SUCCESS ************************\n",
      "INJUSDT\n",
      "Fetch Data AUDIOUSDT\n",
      "[[1656367200000, '0.36800000', '0.41200000', '0.36700000', '0.39900000', '5342878.60000000', 1656370799999, '2129379.83190000', 7122, '2787271.90000000', '1111863.23660000', '0']]\n",
      "********** SUCCESS ************************\n",
      "AUDIOUSDT\n",
      "Fetch Data CTKUSDT\n",
      "Fetch Data AXSUSDT\n",
      "Fetch Data STRAXUSDT\n",
      "Fetch Data ROSEUSDT\n",
      "Fetch Data XEMUSDT\n",
      "Fetch Data SKLUSDT\n",
      "Fetch Data SUSDUSDT\n",
      "Fetch Data GRTUSDT\n",
      "Fetch Data 1INCHUSDT\n",
      "Fetch Data REEFUSDT\n",
      "Fetch Data CELOUSDT\n",
      "Fetch Data RIFUSDT\n",
      "Fetch Data BTCSTUSDT\n",
      "Fetch Data CKBUSDT\n",
      "Fetch Data TWTUSDT\n",
      "[[1656151200000, '0.87300000', '0.94980000', '0.87110000', '0.91710000', '1914063.00000000', 1656154799999, '1758110.63990000', 6352, '993950.00000000', '912943.61640000', '0']]\n",
      "********** SUCCESS ************************\n",
      "TWTUSDT\n",
      "Fetch Data CAKEUSDT\n",
      "Fetch Data ALICEUSDT\n",
      "Fetch Data PERPUSDT\n",
      "Fetch Data SUPERUSDT\n",
      "[[1656669600000, '0.12250000', '0.14600000', '0.12140000', '0.13570000', '10211527.00000000', 1656673199999, '1382628.73790000', 7597, '5426721.00000000', '736949.60560000', '0']]\n",
      "********** SUCCESS ************************\n",
      "SUPERUSDT\n",
      "Fetch Data CFXUSDT\n",
      "Fetch Data EPSUSDT\n",
      "Fetch Data PUNDIXUSDT\n",
      "Fetch Data TLMUSDT\n",
      "[[1656237600000, '0.02860000', '0.03100000', '0.02850000', '0.03070000', '71928810.00000000', 1656241199999, '2166543.14780000', 7541, '41659453.00000000', '1253867.32840000', '0']]\n",
      "********** SUCCESS ************************\n",
      "TLMUSDT\n",
      "Fetch Data BTGUSDT\n",
      "Fetch Data FORTHUSDT\n",
      "Fetch Data BAKEUSDT\n",
      "Fetch Data SLPUSDT\n",
      "Fetch Data SHIBUSDT\n",
      "Fetch Data ICPUSDT\n",
      "Fetch Data ARUSDT\n",
      "Fetch Data POLSUSDT\n",
      "Fetch Data MDXUSDT\n",
      "Fetch Data MASKUSDT\n",
      "Fetch Data LPTUSDT\n",
      "Fetch Data NUUSDT\n",
      "Fetch Data XVGUSDT\n",
      "[[1655834400000, '0.00310000', '0.00429000', '0.00310000', '0.00365000', '621172689.00000000', 1655837999999, '2338364.51078000', 11885, '334944071.00000000', '1256756.26905000', '0']]\n",
      "********** SUCCESS ************************\n",
      "XVGUSDT\n",
      "Fetch Data KEEPUSDT\n",
      "Fetch Data KLAYUSDT\n",
      "Fetch Data MLNUSDT\n",
      "[[1655805600000, '22.10000000', '29.50000000', '21.90000000', '26.00000000', '140879.50900000', 1655809199999, '3739913.64440000', 12429, '69288.23700000', '1831750.99650000', '0']]\n",
      "********** SUCCESS ************************\n",
      "MLNUSDT\n",
      "Fetch Data C98USDT\n",
      "Fetch Data QNTUSDT\n",
      "Fetch Data FLOWUSDT\n",
      "Fetch Data MINAUSDT\n",
      "Fetch Data RAYUSDT\n",
      "Fetch Data MBOXUSDT\n",
      "Fetch Data REQUSDT\n",
      "Fetch Data GHSTUSDT\n",
      "Fetch Data WAXPUSDT\n",
      "Fetch Data TRIBEUSDT\n",
      "Fetch Data GNOUSDT\n",
      "Fetch Data XECUSDT\n",
      "Fetch Data ELFUSDT\n",
      "[[1656612000000, '0.15050000', '0.19910000', '0.15010000', '0.16240000', '16689936.30000000', 1656615599999, '2984884.94764000', 14415, '8947630.80000000', '1605871.72145000', '0']]\n",
      "********** SUCCESS ************************\n",
      "ELFUSDT\n",
      "Fetch Data DYDXUSDT\n",
      "Fetch Data POLYUSDT\n",
      "Fetch Data IDEXUSDT\n",
      "Fetch Data USDPUSDT\n",
      "Fetch Data GALAUSDT\n",
      "Fetch Data ILVUSDT\n",
      "Fetch Data YGGUSDT\n",
      "Fetch Data SYSUSDT\n",
      "Fetch Data RADUSDT\n",
      "Fetch Data BETAUSDT\n",
      "Fetch Data DARUSDT\n",
      "Fetch Data BNXUSDT\n",
      "Fetch Data RGTUSDT\n",
      "Fetch Data MOVRUSDT\n",
      "[[1656093600000, '11.80000000', '16.80000000', '11.80000000', '12.70000000', '178285.25000000', 1656097199999, '2476061.51820000', 9120, '87975.63700000', '1224638.49300000', '0']]\n",
      "********** SUCCESS ************************\n",
      "MOVRUSDT\n",
      "Fetch Data ENSUSDT\n",
      "Fetch Data POWRUSDT\n",
      "Fetch Data VGXUSDT\n",
      "Fetch Data JASMYUSDT\n",
      "Fetch Data AMPUSDT\n",
      "Fetch Data PLAUSDT\n",
      "Fetch Data PYRUSDT\n",
      "Fetch Data RNDRUSDT\n",
      "Fetch Data ANYUSDT\n",
      "Fetch Data BICOUSDT\n",
      "Fetch Data FLUXUSDT\n",
      "Fetch Data FXSUSDT\n",
      "Fetch Data CVXUSDT\n",
      "Fetch Data PEOPLEUSDT\n",
      "Fetch Data SPELLUSDT\n",
      "[[1655100000000, '0.00084000', '0.00123000', '0.00083000', '0.00097000', '4624717584.00000000', 1655103599999, '4660812.85062000', 18357, '2250074109.00000000', '2283643.00077000', '0']]\n",
      "********** SUCCESS ************************\n",
      "SPELLUSDT\n",
      "Fetch Data JOEUSDT\n",
      "Fetch Data ACHUSDT\n",
      "Fetch Data IMXUSDT\n",
      "Fetch Data GLMRUSDT\n",
      "Fetch Data SCRTUSDT\n",
      "Fetch Data API3USDT\n",
      "Fetch Data ACAUSDT\n",
      "Fetch Data ANCUSDT\n",
      "Fetch Data XNOUSDT\n",
      "Fetch Data WOOUSDT\n",
      "Fetch Data TUSDT\n",
      "Fetch Data ASTRUSDT\n",
      "Fetch Data GMTUSDT\n",
      "Fetch Data KDAUSDT\n",
      "Fetch Data APEUSDT\n",
      "Fetch Data BSWUSDT\n",
      "Fetch Data STEEMUSDT\n",
      "Fetch Data MOBUSDT\n",
      "Fetch Data NEXOUSDT\n",
      "Fetch Data GALUSDT\n",
      "Fetch Data LDOUSDT\n"
     ]
    }
   ],
   "source": [
    "for target_ticker in target_ticker_list:\n",
    "    print('Fetch Data ' + target_ticker)\n",
    "    klines = client.get_historical_klines(target_ticker, Client.KLINE_INTERVAL_1HOUR, \"30 day ago UTC\") \n",
    "    \n",
    "    length = int(len(klines))\n",
    "    if()\n",
    "    for x in range(0, length, 4):\n",
    "        filtered_klines_info = klines[x:x+4]\n",
    "        if(len(filtered_klines_info) == 4 and is_candidate(filtered_klines_info)):\n",
    "            print('********** SUCCESS ************************')\n",
    "            print(target_ticker)"
   ]
  },
  {
   "cell_type": "code",
   "execution_count": null,
   "id": "d5abcd9c",
   "metadata": {},
   "outputs": [],
   "source": []
  },
  {
   "cell_type": "code",
   "execution_count": null,
   "id": "c3a79f3e",
   "metadata": {},
   "outputs": [],
   "source": []
  },
  {
   "cell_type": "code",
   "execution_count": null,
   "id": "bb5bdeb4",
   "metadata": {},
   "outputs": [],
   "source": []
  },
  {
   "cell_type": "code",
   "execution_count": null,
   "id": "ccdc2410",
   "metadata": {},
   "outputs": [],
   "source": []
  },
  {
   "cell_type": "code",
   "execution_count": null,
   "id": "a829176d",
   "metadata": {},
   "outputs": [],
   "source": [
    "klines = client.get_historical_klines('BNBUSDT', Client.KLINE_INTERVAL_1HOUR, \"2 day ago UTC\")"
   ]
  },
  {
   "cell_type": "code",
   "execution_count": null,
   "id": "f9cb0dd8",
   "metadata": {},
   "outputs": [],
   "source": [
    "length = int(len(klines))"
   ]
  },
  {
   "cell_type": "code",
   "execution_count": null,
   "id": "9895e48e",
   "metadata": {},
   "outputs": [],
   "source": [
    "for x in range(0, length, 4):\n",
    "    print('Iterating')\n",
    "    filtered_klines_info = klines[x:x+4]\n",
    "    if(len(filtered_klines_info) == 4 and is_candidate(filtered_klines_info)):\n",
    "        print(target_ticker)\n",
    "    \n",
    "    "
   ]
  },
  {
   "cell_type": "code",
   "execution_count": null,
   "id": "3d72597c",
   "metadata": {},
   "outputs": [],
   "source": [
    "klines = client.get_historical_klines('ANCUSDT', Client.KLINE_INTERVAL_1HOUR, 1655532000000) "
   ]
  },
  {
   "cell_type": "code",
   "execution_count": null,
   "id": "737adf0d",
   "metadata": {},
   "outputs": [],
   "source": [
    "klines[0]"
   ]
  },
  {
   "cell_type": "code",
   "execution_count": null,
   "id": "d68a78c2",
   "metadata": {},
   "outputs": [],
   "source": [
    "volume_gate = float(klines[0][5]) * float(klines[0][4]) > 1000000\n",
    "percentage_gate = (5 <= (float(klines[0][4]) - \n",
    "                       float(klines[0][1]))/float(klines[0][1]) * 100 <= 10)"
   ]
  },
  {
   "cell_type": "code",
   "execution_count": null,
   "id": "3c4268b7",
   "metadata": {},
   "outputs": [],
   "source": [
    "volume_gate"
   ]
  },
  {
   "cell_type": "code",
   "execution_count": null,
   "id": "7304d103",
   "metadata": {},
   "outputs": [],
   "source": [
    "percentage_gate"
   ]
  },
  {
   "cell_type": "code",
   "execution_count": null,
   "id": "4249ba3e",
   "metadata": {},
   "outputs": [],
   "source": [
    "float(klines[0][1])"
   ]
  },
  {
   "cell_type": "code",
   "execution_count": null,
   "id": "6eceeb66",
   "metadata": {},
   "outputs": [],
   "source": [
    "float(klines[0][4])"
   ]
  },
  {
   "cell_type": "code",
   "execution_count": null,
   "id": "30321ea3",
   "metadata": {},
   "outputs": [],
   "source": []
  }
 ],
 "metadata": {
  "kernelspec": {
   "display_name": "Python 3 (ipykernel)",
   "language": "python",
   "name": "python3"
  },
  "language_info": {
   "codemirror_mode": {
    "name": "ipython",
    "version": 3
   },
   "file_extension": ".py",
   "mimetype": "text/x-python",
   "name": "python",
   "nbconvert_exporter": "python",
   "pygments_lexer": "ipython3",
   "version": "3.7.13"
  }
 },
 "nbformat": 4,
 "nbformat_minor": 5
}
