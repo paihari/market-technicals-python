{
 "cells": [
  {
   "cell_type": "code",
   "execution_count": 1,
   "id": "21c6af51",
   "metadata": {},
   "outputs": [],
   "source": [
    "from tensorflow.python.keras.layers import Bidirectional, Dropout, Activation, Dense, LSTM,GRU\n",
    " \n",
    "from tensorflow.keras.models import Sequential\n",
    "from tensorflow.python.keras.callbacks import EarlyStopping\n",
    " \n",
    "from sklearn.preprocessing import MinMaxScaler\n",
    " \n",
    "from datetime import datetime\n",
    "\n",
    "from binance.client import Client\n",
    "\n",
    "import matplotlib.pyplot as plt\n",
    "import numpy as np\n",
    "import pandas as pd\n"
   ]
  },
  {
   "cell_type": "code",
   "execution_count": 2,
   "id": "4e37b7c0",
   "metadata": {},
   "outputs": [],
   "source": [
    "client = Client('', '')"
   ]
  },
  {
   "cell_type": "code",
   "execution_count": 3,
   "id": "7494b635",
   "metadata": {},
   "outputs": [],
   "source": [
    "klines = client.get_historical_klines(\"MATICUSDT\", Client.KLINE_INTERVAL_2HOUR, \"360 day ago UTC\")"
   ]
  },
  {
   "cell_type": "code",
   "execution_count": 4,
   "id": "7979f3e0",
   "metadata": {},
   "outputs": [],
   "source": [
    "array = np.array(klines)"
   ]
  },
  {
   "cell_type": "code",
   "execution_count": 5,
   "id": "c25bbfec",
   "metadata": {},
   "outputs": [],
   "source": [
    "siz = np.size(array, 0)"
   ]
  },
  {
   "cell_type": "code",
   "execution_count": 6,
   "id": "97b29aa7",
   "metadata": {},
   "outputs": [],
   "source": [
    "df = pd.DataFrame.from_records(array)"
   ]
  },
  {
   "cell_type": "code",
   "execution_count": 7,
   "id": "f7219c1f",
   "metadata": {},
   "outputs": [],
   "source": [
    "df.columns = ['Open Time', 'Open', \n",
    "              'High', 'Low', 'Close', \n",
    "              'Volume', 'Close Time', \n",
    "              'Quote asset volume', 'Number of trades', \n",
    "              'Taken buy base asset volume', 'Taken buy quote asset volume', \n",
    "              'Can be ignored']"
   ]
  },
  {
   "cell_type": "code",
   "execution_count": 8,
   "id": "36b2cd41",
   "metadata": {},
   "outputs": [],
   "source": [
    "df.drop(['Close Time', 'Can be ignored'], axis=1, inplace=True)"
   ]
  },
  {
   "cell_type": "code",
   "execution_count": 9,
   "id": "e4b7584f",
   "metadata": {},
   "outputs": [],
   "source": [
    "df['Open Time'] = pd.to_numeric(df['Open Time'])/1000"
   ]
  },
  {
   "cell_type": "code",
   "execution_count": 10,
   "id": "84633b86",
   "metadata": {},
   "outputs": [],
   "source": [
    "df['Open'] = pd.to_numeric(df['Open'])\n",
    "df['High'] = pd.to_numeric(df['High'])\n",
    "df['Low'] = pd.to_numeric(df['Low'])\n",
    "df['Close'] = pd.to_numeric(df['Close'])\n",
    "df['Volume'] = pd.to_numeric(df['Volume'])\n",
    "df['Quote asset volume'] = pd.to_numeric(df['Quote asset volume'])\n",
    "df['Number of trades'] = pd.to_numeric(df['Number of trades'])\n",
    "df['Taken buy base asset volume'] = pd.to_numeric(df['Taken buy base asset volume'])\n",
    "df['Taken buy quote asset volume'] = pd.to_numeric(df['Taken buy quote asset volume'])"
   ]
  },
  {
   "cell_type": "code",
   "execution_count": 11,
   "id": "4f473b58",
   "metadata": {},
   "outputs": [],
   "source": [
    "df['Date'] = pd.to_datetime(df['Open Time'], unit='s').dt.date"
   ]
  },
  {
   "cell_type": "code",
   "execution_count": 12,
   "id": "e9e99532",
   "metadata": {},
   "outputs": [],
   "source": [
    "group = df.groupby('Date') "
   ]
  },
  {
   "cell_type": "code",
   "execution_count": 13,
   "id": "07df3eb2",
   "metadata": {},
   "outputs": [
    {
     "name": "stdout",
     "output_type": "stream",
     "text": [
      "<class 'pandas.core.frame.DataFrame'>\n",
      "Index: 4318 entries, 2021-07-05 to 2022-06-30\n",
      "Data columns (total 11 columns):\n",
      " #   Column                        Non-Null Count  Dtype  \n",
      "---  ------                        --------------  -----  \n",
      " 0   Open Time                     4318 non-null   float64\n",
      " 1   Open                          4318 non-null   float64\n",
      " 2   High                          4318 non-null   float64\n",
      " 3   Low                           4318 non-null   float64\n",
      " 4   Close                         4318 non-null   float64\n",
      " 5   Volume                        4318 non-null   float64\n",
      " 6   Quote asset volume            4318 non-null   float64\n",
      " 7   Number of trades              4318 non-null   int64  \n",
      " 8   Taken buy base asset volume   4318 non-null   float64\n",
      " 9   Taken buy quote asset volume  4318 non-null   float64\n",
      " 10  Date                          4318 non-null   object \n",
      "dtypes: float64(9), int64(1), object(1)\n",
      "memory usage: 404.8+ KB\n"
     ]
    }
   ],
   "source": [
    "df.index = df['Date']\n",
    "df.info()"
   ]
  },
  {
   "cell_type": "code",
   "execution_count": 14,
   "id": "0c5f1f45",
   "metadata": {},
   "outputs": [],
   "source": [
    "day_price = group['Close'].mean()"
   ]
  },
  {
   "cell_type": "code",
   "execution_count": 15,
   "id": "b507f668",
   "metadata": {},
   "outputs": [],
   "source": [
    "day_volume = group['Volume'].mean()"
   ]
  },
  {
   "cell_type": "code",
   "execution_count": 16,
   "id": "f5b9b07b",
   "metadata": {},
   "outputs": [],
   "source": [
    "date1 = df['Date'][0]"
   ]
  },
  {
   "cell_type": "code",
   "execution_count": 17,
   "id": "353149aa",
   "metadata": {},
   "outputs": [],
   "source": [
    "date2 = df['Date'].iloc[-1]"
   ]
  },
  {
   "cell_type": "code",
   "execution_count": 18,
   "id": "1db0c485",
   "metadata": {},
   "outputs": [],
   "source": [
    "delta = date2 - date1\n",
    "\n",
    "days_look = delta.days + 1 "
   ]
  },
  {
   "cell_type": "code",
   "execution_count": 19,
   "id": "a1ee3062",
   "metadata": {},
   "outputs": [],
   "source": [
    "data_price = day_price[len(day_price) - days_look:len(day_price)]\n"
   ]
  },
  {
   "cell_type": "code",
   "execution_count": 20,
   "id": "6e141710",
   "metadata": {},
   "outputs": [],
   "source": [
    "scl_price = MinMaxScaler()"
   ]
  },
  {
   "cell_type": "code",
   "execution_count": 21,
   "id": "66aac849",
   "metadata": {},
   "outputs": [],
   "source": [
    "scl_volume = MinMaxScaler()"
   ]
  },
  {
   "cell_type": "code",
   "execution_count": 22,
   "id": "04eb96e7",
   "metadata": {},
   "outputs": [],
   "source": [
    "data_price = data_price.values.reshape(data_price.shape[0], 1)"
   ]
  },
  {
   "cell_type": "code",
   "execution_count": 23,
   "id": "1c0c4382",
   "metadata": {},
   "outputs": [],
   "source": [
    "data_volume = day_volume[len(day_volume) - days_look:len(day_volume)]"
   ]
  },
  {
   "cell_type": "code",
   "execution_count": 24,
   "id": "8f675de4",
   "metadata": {},
   "outputs": [],
   "source": [
    "data_volume = data_volume.values.reshape(data_volume.shape[0], 1)"
   ]
  },
  {
   "cell_type": "code",
   "execution_count": 25,
   "id": "dacbb4ed",
   "metadata": {},
   "outputs": [],
   "source": [
    "scale_data_price = scl_price.fit_transform(data_price)"
   ]
  },
  {
   "cell_type": "code",
   "execution_count": 26,
   "id": "8a60c6de",
   "metadata": {},
   "outputs": [],
   "source": [
    "scale_data_volume = scl_volume.fit_transform(data_volume)"
   ]
  },
  {
   "cell_type": "code",
   "execution_count": 27,
   "id": "cb5b7e64",
   "metadata": {},
   "outputs": [],
   "source": [
    "SEQ_LEN = 50\n",
    "WINDOW_SIZE = SEQ_LEN - 1\n",
    " \n",
    "BATCH_SIZE=64\n",
    " \n",
    "DROPOUT = 0.2\n",
    "\n",
    "def load_data(data_raw_price, data_raw_volume, seq_len):\n",
    "    \n",
    "    data_price = []\n",
    "    for index in range(len(data_raw_price) - seq_len):\n",
    "        data_price.append(data_raw_price[index: index + seq_len])\n",
    "    \n",
    "    data_volume = []\n",
    "    for index in range(len(data_raw_volume) - seq_len):\n",
    "        data_volume.append(data_raw_volume[index: index + seq_len])\n",
    "        \n",
    " \n",
    "    data_price = np.array(data_price)\n",
    "    data_volume = np.array(data_volume)\n",
    "    \n",
    "    train_split = 0.8\n",
    " \n",
    "    num_data_price = data_price.shape[0]\n",
    "    \n",
    "    num_data_volume = data_volume.shape[0]\n",
    "\n",
    "    \n",
    " \n",
    "    num_train = int(train_split * num_data_price)\n",
    "    \n",
    "    print('Num Train')\n",
    "    print(num_train)\n",
    "    print('Num of Data')\n",
    "    print(num_data_price)\n",
    "    \n",
    " \n",
    "    data_price = np.array(data_price)\n",
    "    data_volume = np.array(data_volume)\n",
    " \n",
    "    x_train_volume = data_volume[:num_train, :-1, :]\n",
    "    y_train_price = data_price[:num_train, -1, :]\n",
    "    \n",
    "    x_test_volume = data_volume[num_train:, :-1, :]\n",
    "    y_test_price = data_price[num_train:, -1, :]\n",
    "    \n",
    "    p_test_volume = data_volume[num_train:, -1, :]\n",
    "    \n",
    "    return [x_train_volume, y_train_price, x_test_volume, y_test_price, p_test_volume]"
   ]
  },
  {
   "cell_type": "code",
   "execution_count": 28,
   "id": "0636e957",
   "metadata": {},
   "outputs": [
    {
     "name": "stdout",
     "output_type": "stream",
     "text": [
      "Num Train\n",
      "248\n",
      "Num of Data\n",
      "311\n"
     ]
    }
   ],
   "source": [
    "x_train_volume, y_train_price, x_test_volume, y_test_price, p_test_volume = load_data(scale_data_price, scale_data_volume, SEQ_LEN)"
   ]
  },
  {
   "cell_type": "code",
   "execution_count": 29,
   "id": "c28f9797",
   "metadata": {},
   "outputs": [],
   "source": [
    "model = Sequential()"
   ]
  },
  {
   "cell_type": "code",
   "execution_count": 30,
   "id": "43ac8a3b",
   "metadata": {},
   "outputs": [],
   "source": [
    "bi = Bidirectional(LSTM(WINDOW_SIZE, return_sequences=True),\n",
    "                        input_shape=(WINDOW_SIZE, x_train_volume.shape[-1]))"
   ]
  },
  {
   "cell_type": "code",
   "execution_count": 31,
   "id": "63adb611",
   "metadata": {},
   "outputs": [
    {
     "name": "stderr",
     "output_type": "stream",
     "text": [
      "2022-06-30 23:12:37.593597: I tensorflow/core/platform/cpu_feature_guard.cc:145] This TensorFlow binary is optimized with Intel(R) MKL-DNN to use the following CPU instructions in performance critical operations:  SSE4.1 SSE4.2\n",
      "To enable them in non-MKL-DNN operations, rebuild TensorFlow with the appropriate compiler flags.\n",
      "2022-06-30 23:12:37.594142: I tensorflow/core/common_runtime/process_util.cc:115] Creating new thread pool with default inter op setting: 8. Tune using inter_op_parallelism_threads for best performance.\n"
     ]
    }
   ],
   "source": [
    "model.add(bi)"
   ]
  },
  {
   "cell_type": "code",
   "execution_count": 32,
   "id": "0a281606",
   "metadata": {},
   "outputs": [],
   "source": [
    "model.add(Dropout(DROPOUT))"
   ]
  },
  {
   "cell_type": "code",
   "execution_count": 33,
   "id": "a56e4592",
   "metadata": {},
   "outputs": [],
   "source": [
    "# Second Layer\n",
    "model.add(Bidirectional(LSTM((WINDOW_SIZE * 2), return_sequences=True)))\n",
    "model.add(Dropout(DROPOUT))"
   ]
  },
  {
   "cell_type": "code",
   "execution_count": 34,
   "id": "8d03e53e",
   "metadata": {},
   "outputs": [],
   "source": [
    "# Third Layer\n",
    "model.add(Bidirectional(LSTM(WINDOW_SIZE, return_sequences=False)))\n",
    "model.add(Dense(units=1))"
   ]
  },
  {
   "cell_type": "code",
   "execution_count": 35,
   "id": "39852319",
   "metadata": {},
   "outputs": [],
   "source": [
    "# Set activation function\n",
    "model.add(Activation('linear'))\n",
    "model.compile(loss='mean_squared_error', optimizer='adam')"
   ]
  },
  {
   "cell_type": "code",
   "execution_count": 36,
   "id": "0706ee1a",
   "metadata": {},
   "outputs": [
    {
     "name": "stdout",
     "output_type": "stream",
     "text": [
      "Model: \"sequential\"\n",
      "_________________________________________________________________\n",
      "Layer (type)                 Output Shape              Param #   \n",
      "=================================================================\n",
      "bidirectional (Bidirectional (None, 49, 98)            19992     \n",
      "_________________________________________________________________\n",
      "dropout (Dropout)            (None, 49, 98)            0         \n",
      "_________________________________________________________________\n",
      "bidirectional_1 (Bidirection (None, 49, 196)           154448    \n",
      "_________________________________________________________________\n",
      "dropout_1 (Dropout)          (None, 49, 196)           0         \n",
      "_________________________________________________________________\n",
      "bidirectional_2 (Bidirection (None, 98)                96432     \n",
      "_________________________________________________________________\n",
      "dense (Dense)                (None, 1)                 99        \n",
      "_________________________________________________________________\n",
      "activation (Activation)      (None, 1)                 0         \n",
      "=================================================================\n",
      "Total params: 270,971\n",
      "Trainable params: 270,971\n",
      "Non-trainable params: 0\n",
      "_________________________________________________________________\n",
      "None\n"
     ]
    }
   ],
   "source": [
    "print(model.summary())"
   ]
  },
  {
   "cell_type": "code",
   "execution_count": 37,
   "id": "8765d86b",
   "metadata": {},
   "outputs": [
    {
     "name": "stdout",
     "output_type": "stream",
     "text": [
      "Train on 248 samples, validate on 63 samples\n",
      "Epoch 1/10\n",
      "248/248 [==============================] - 28s 114ms/sample - loss: 0.2432 - val_loss: 0.0197\n",
      "Epoch 2/10\n",
      "248/248 [==============================] - 10s 42ms/sample - loss: 0.0300 - val_loss: 0.3903\n",
      "Epoch 3/10\n",
      "248/248 [==============================] - 10s 41ms/sample - loss: 0.1640 - val_loss: 0.0807\n",
      "Epoch 4/10\n",
      "248/248 [==============================] - 10s 42ms/sample - loss: 0.0530 - val_loss: 0.0338\n",
      "Epoch 5/10\n",
      "248/248 [==============================] - 11s 44ms/sample - loss: 0.0648 - val_loss: 0.0366\n",
      "Epoch 6/10\n",
      "248/248 [==============================] - 11s 43ms/sample - loss: 0.0501 - val_loss: 0.0635\n",
      "Epoch 7/10\n",
      "248/248 [==============================] - 10s 42ms/sample - loss: 0.0273 - val_loss: 0.1197\n",
      "Epoch 8/10\n",
      "248/248 [==============================] - 10s 42ms/sample - loss: 0.0225 - val_loss: 0.1726\n",
      "Epoch 9/10\n",
      "248/248 [==============================] - 10s 42ms/sample - loss: 0.0311 - val_loss: 0.1641\n",
      "Epoch 10/10\n",
      "248/248 [==============================] - 10s 42ms/sample - loss: 0.0293 - val_loss: 0.1296\n"
     ]
    }
   ],
   "source": [
    "history = model.fit(x_train_volume, y_train_price, epochs=10, batch_size=BATCH_SIZE, shuffle=False,\n",
    "                    validation_data=(x_test_volume, y_test_price),\n",
    "                    callbacks=[EarlyStopping(monitor='val_loss', min_delta=5e-5, patience=20, verbose=1)])\n"
   ]
  },
  {
   "cell_type": "code",
   "execution_count": 38,
   "id": "b27a0875",
   "metadata": {},
   "outputs": [
    {
     "data": {
      "image/png": "[encoded data removed]",
      "text/plain": [
       "<Figure size 1152x576 with 1 Axes>"
      ]
     },
     "metadata": {
      "needs_background": "light"
     },
     "output_type": "display_data"
    }
   ],
   "source": [
    "predict_prices = model.predict(x_test_volume)\n",
    "\n",
    "plt.figure(figsize=(16,8))\n",
    "\n",
    "plt.plot(scl_price.inverse_transform(y_test_price), label=\"Actual Values\", color='green')\n",
    "plt.plot(scl_price.inverse_transform(predict_prices), label=\"Predicted Values\", color='red')\n",
    "\n",
    "\n",
    "plt.title('ETH price Prediction')\n",
    "plt.xlabel('time [days]')\n",
    "plt.ylabel('Price')\n",
    "plt.legend(loc='best')\n",
    " \n",
    "plt.show()"
   ]
  },
  {
   "cell_type": "code",
   "execution_count": 39,
   "id": "bec89e57",
   "metadata": {},
   "outputs": [
    {
     "data": {
      "text/plain": [
       "array([[0.41713122],\n",
       "       [0.41646487],\n",
       "       [0.41729847],\n",
       "       [0.4187359 ],\n",
       "       [0.42073417],\n",
       "       [0.4220844 ],\n",
       "       [0.422822  ],\n",
       "       [0.42388055],\n",
       "       [0.42587712],\n",
       "       [0.42812425],\n",
       "       [0.4297049 ],\n",
       "       [0.43085787],\n",
       "       [0.43458408],\n",
       "       [0.44382495],\n",
       "       [0.45990843],\n",
       "       [0.47529033],\n",
       "       [0.4874974 ],\n",
       "       [0.49491733],\n",
       "       [0.49818358],\n",
       "       [0.49990174],\n",
       "       [0.49958298],\n",
       "       [0.49743062],\n",
       "       [0.49452627],\n",
       "       [0.49026525],\n",
       "       [0.48414457],\n",
       "       [0.47805402],\n",
       "       [0.47326005],\n",
       "       [0.46861032],\n",
       "       [0.46376944],\n",
       "       [0.4621187 ],\n",
       "       [0.4608184 ],\n",
       "       [0.45842588],\n",
       "       [0.4557789 ],\n",
       "       [0.45423356],\n",
       "       [0.4537924 ],\n",
       "       [0.4545107 ],\n",
       "       [0.45451415],\n",
       "       [0.45410073],\n",
       "       [0.45280376],\n",
       "       [0.45100302],\n",
       "       [0.45033783],\n",
       "       [0.45023972],\n",
       "       [0.45017004],\n",
       "       [0.45018607],\n",
       "       [0.45126835],\n",
       "       [0.4543953 ],\n",
       "       [0.4588824 ],\n",
       "       [0.46771526],\n",
       "       [0.47690067],\n",
       "       [0.48752403],\n",
       "       [0.4952427 ],\n",
       "       [0.50009   ],\n",
       "       [0.5071957 ],\n",
       "       [0.5130741 ],\n",
       "       [0.51878947],\n",
       "       [0.52546245],\n",
       "       [0.53141886],\n",
       "       [0.5434541 ],\n",
       "       [0.55281687],\n",
       "       [0.55641145],\n",
       "       [0.5550277 ],\n",
       "       [0.55025506],\n",
       "       [0.54476994]], dtype=float32)"
      ]
     },
     "execution_count": 39,
     "metadata": {},
     "output_type": "execute_result"
    }
   ],
   "source": [
    "predict_prices"
   ]
  },
  {
   "cell_type": "code",
   "execution_count": null,
   "id": "46bb4395",
   "metadata": {},
   "outputs": [],
   "source": []
  }
 ],
 "metadata": {
  "kernelspec": {
   "display_name": "Python 3 (ipykernel)",
   "language": "python",
   "name": "python3"
  },
  "language_info": {
   "codemirror_mode": {
    "name": "ipython",
    "version": 3
   },
   "file_extension": ".py",
   "mimetype": "text/x-python",
   "name": "python",
   "nbconvert_exporter": "python",
   "pygments_lexer": "ipython3",
   "version": "3.7.13"
  }
 },
 "nbformat": 4,
 "nbformat_minor": 5
}
