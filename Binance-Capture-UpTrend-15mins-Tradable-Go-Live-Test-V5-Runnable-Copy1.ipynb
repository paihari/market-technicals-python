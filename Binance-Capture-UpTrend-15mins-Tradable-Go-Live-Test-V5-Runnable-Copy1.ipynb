{
 "cells": [
  {
   "cell_type": "code",
   "execution_count": 1,
   "id": "21c6af51",
   "metadata": {},
   "outputs": [],
   "source": [
    "from datetime import datetime\n",
    "\n",
    "from binance.client import Client\n",
    "from binance.enums import *\n",
    "from binance.helpers import round_step_size\n",
    "\n",
    "from coinmarketcapapi import CoinMarketCapAPI, CoinMarketCapAPIError\n",
    "\n",
    "from datetime import datetime\n",
    "from pprint import pformat\n",
    "from binance.helpers import round_step_size\n",
    "\n",
    "import numpy as np\n",
    "import pandas as pd\n",
    "import json\n",
    "import time\n",
    "import math\n",
    "\n",
    "import schedule\n"
   ]
  },
  {
   "cell_type": "code",
   "execution_count": 2,
   "id": "4e37b7c0",
   "metadata": {},
   "outputs": [],
   "source": [
    "client = Client('   ', '  ')"
   ]
  },
  {
   "cell_type": "code",
   "execution_count": 3,
   "id": "c9592b81",
   "metadata": {},
   "outputs": [],
   "source": [
    "cmc = CoinMarketCapAPI('  ')"
   ]
  },
  {
   "cell_type": "code",
   "execution_count": 4,
   "id": "4e5da0ed",
   "metadata": {},
   "outputs": [],
   "source": [
    "info = client.get_all_tickers()"
   ]
  },
  {
   "cell_type": "code",
   "execution_count": 5,
   "id": "f8e53638",
   "metadata": {},
   "outputs": [],
   "source": [
    "quote_ccy = 'USDT'"
   ]
  },
  {
   "cell_type": "code",
   "execution_count": 6,
   "id": "f229a5ed",
   "metadata": {},
   "outputs": [],
   "source": [
    "ticker_list = [d['symbol'] for d in info if d['symbol'].endswith(quote_ccy)]"
   ]
  },
  {
   "cell_type": "code",
   "execution_count": 7,
   "id": "39299cba",
   "metadata": {},
   "outputs": [],
   "source": [
    "rank_info = cmc.cryptocurrency_map(sort='cmc_rank').data"
   ]
  },
  {
   "cell_type": "code",
   "execution_count": 8,
   "id": "7da870b7",
   "metadata": {},
   "outputs": [],
   "source": [
    "target_rank_info = [d['symbol']+quote_ccy for d in rank_info if d['rank'] >= 100 and d['rank'] <= 500]"
   ]
  },
  {
   "cell_type": "code",
   "execution_count": 9,
   "id": "1a23e1d9",
   "metadata": {},
   "outputs": [],
   "source": [
    "target_ticker_list = [d for d in ticker_list if d in target_rank_info]"
   ]
  },
  {
   "cell_type": "code",
   "execution_count": 10,
   "id": "4b48ade7",
   "metadata": {},
   "outputs": [],
   "source": [
    "# target_ticker_list = ['FLMUSDT']"
   ]
  },
  {
   "cell_type": "code",
   "execution_count": null,
   "id": "24ef5da0",
   "metadata": {},
   "outputs": [],
   "source": [
    "global client;"
   ]
  },
  {
   "cell_type": "code",
   "execution_count": null,
   "id": "bad2ad92",
   "metadata": {},
   "outputs": [],
   "source": [
    "global target_ticker_list"
   ]
  },
  {
   "cell_type": "code",
   "execution_count": null,
   "id": "6002b0c2",
   "metadata": {},
   "outputs": [],
   "source": [
    "def init():\n",
    "    global client\n",
    "    client = Client('   ', '  ')\n",
    "    cmc = CoinMarketCapAPI('  ')\n",
    "    info_all_tickers  = client.get_all_tickers()\n",
    "    quote_ccy = 'USDT'\n",
    "    ticker_list = [d['symbol'] for d in info_all_tickers if d['symbol'].endswith(quote_ccy)]\n",
    "    rank_info = cmc.cryptocurrency_map(sort='cmc_rank').data\n",
    "    target_rank_info = [d['symbol']+quote_ccy for d in rank_info if d['rank'] >= 100 and d['rank'] <= 500]\n",
    "    global target_ticker_list\n",
    "    target_ticker_list = [d for d in ticker_list if d in target_rank_info]\n",
    "    #target_ticker_list = ['VGXUSDT', 'FORTHUSDT']\n",
    "    return target_ticker_list\n"
   ]
  },
  {
   "cell_type": "code",
   "execution_count": 11,
   "id": "ef4e3caa",
   "metadata": {},
   "outputs": [],
   "source": [
    "def is_candidate(filtered_klines_info): \n",
    "    is_candidate = False\n",
    "    \n",
    "    buy_kline_info = filtered_klines_info[0]\n",
    "    buy_kline_average_volume = buy_kline_info[5]\n",
    "\n",
    "    \n",
    "    strong_context_kline_info = filtered_klines_info[1:len(filtered_klines_info)]\n",
    "\n",
    "\n",
    "    \n",
    "    strong_context_kline_average_volume = np.mean(strong_context_kline_info[:,5])\n",
    "    \n",
    "    for strong_context_kline in strong_context_kline_info:\n",
    "        perc_change = strong_context_kline[-1]\n",
    "        perc_volume = strong_context_kline[5] / buy_kline_average_volume\n",
    "\n",
    "        if perc_change > 2 or perc_volume > 0.20:\n",
    "            return False\n",
    "        \n",
    "        drop_from_high_gate =   1.15 > buy_kline_info[2]/buy_kline_info[4] > 1.10\n",
    "        trigger_gate = 15 > buy_kline_info[-1] > 7\n",
    "\n",
    "\n",
    "        if drop_from_high_gate and trigger_gate: \n",
    "            is_candidate = True\n",
    "        else:\n",
    "            is_candidate = False\n",
    "\n",
    "        return is_candidate"
   ]
  },
  {
   "cell_type": "code",
   "execution_count": 12,
   "id": "8f7f8623",
   "metadata": {},
   "outputs": [],
   "source": [
    "def find_percentage_increase_or_decrease(focused_kline_array):\n",
    "    percentage_value = []\n",
    "    for kline in focused_kline_array:\n",
    "        diff = kline[4] - kline[1]\n",
    "        perc_diff = diff/kline[1]\n",
    "        percentage_value.append(perc_diff*100)\n",
    "    return percentage_value "
   ]
  },
  {
   "cell_type": "code",
   "execution_count": 13,
   "id": "2a76d147",
   "metadata": {},
   "outputs": [],
   "source": [
    "def adjust_price(target_ticker, price):\n",
    "    info = client.get_symbol_info(target_ticker)\n",
    "    tick_size = info['filters'][0]['tickSize']\n",
    "    adjusted_price = round_step_size(price, tick_size)\n",
    "    return adjusted_price\n",
    "    "
   ]
  },
  {
   "cell_type": "code",
   "execution_count": 14,
   "id": "25af9928",
   "metadata": {},
   "outputs": [],
   "source": [
    "def trade_candidate(target_ticker, buy_kline_info) :\n",
    "    \n",
    "    usdt = 1000\n",
    "    order = client.create_order(symbol=target_ticker, side=SIDE_BUY, type='MARKET', quoteOrderQty=usdt)\n",
    "    \n",
    "    time.sleep(5)\n",
    "    order_id = order['orderId'] \n",
    "    while client.get_order(symbol=target_ticker, orderId=order_id)['status'] != 'FILLED':\n",
    "        time.sleep(10)\n",
    "        \n",
    "    buy_price = order['fills'][0]['price']\n",
    "    buy_qty = order['executedQty']\n",
    "    sell_price = float(buy_price) * 1.10\n",
    "    \n",
    "    adjusted_sell_price = str(adjust_price(target_ticker, sell_price))\n",
    "    \n",
    "    print('Order ID')\n",
    "    print(order_id)\n",
    "    print('Buy Price')\n",
    "    print(buy_price)\n",
    "    print('Buy Qty')\n",
    "    print(buy_qty)\n",
    "    print('Sell Price')\n",
    "    print(sell_price)\n",
    "    \n",
    "    if client.get_order(symbol=target_ticker, orderId=order_id)['status'] == 'FILLED':\n",
    "        asset = target_ticker.split(\"USDT\")[0]\n",
    "        balance = client.get_asset_balance(asset=asset)\n",
    "        free_to_trade = balance['free']\n",
    "\n",
    "        order = client.create_order(symbol=target_ticker, side=SIDE_SELL, type='LIMIT', quantity=float(buy_qty), price=adjusted_sell_price, timeInForce=TIME_IN_FORCE_GTC)\n",
    "        print('********** SELL ORDER SET ************************')\n",
    "\n",
    "    "
   ]
  },
  {
   "cell_type": "code",
   "execution_count": 15,
   "id": "fd700829",
   "metadata": {},
   "outputs": [],
   "source": [
    "def trade_tickers():\n",
    "    try: \n",
    "        \n",
    "        for target_ticker in target_ticker_list:\n",
    "\n",
    "            klines = client.get_historical_klines(target_ticker, Client.KLINE_INTERVAL_1HOUR, \"1 day ago UTC\") \n",
    "            length = int(len(klines))\n",
    "\n",
    "            if(length < 24):\n",
    "                continue\n",
    "\n",
    "            array = np.array(klines, dtype=np.float64)\n",
    "            focused_kline_array = np.delete(array, [6, 7, 8, 9, 10, 11], 1)\n",
    "            percentage_value = find_percentage_increase_or_decrease(focused_kline_array)\n",
    "            percentage_value = np.reshape(percentage_value, (length, 1))\n",
    "            focused_kline_array = np.append(focused_kline_array, percentage_value, 1)\n",
    "\n",
    "            focused_reverse_kline_array = focused_kline_array[::-1]\n",
    "            \n",
    "            filtered_klines_info = focused_reverse_kline_array[0:5]\n",
    "            if(len(filtered_klines_info) == 5):\n",
    "                if(is_candidate(filtered_klines_info)):\n",
    "                    buy_kline_info = filtered_klines_info[0]\n",
    "                    trade_candidate(target_ticker, buy_kline_info)\n",
    "                \n",
    "    except BinanceAPIException as e:\n",
    "        print(e.status_code)\n",
    "        print(e.message)\n",
    "\n"
   ]
  },
  {
   "cell_type": "code",
   "execution_count": 16,
   "id": "b59b03f6",
   "metadata": {},
   "outputs": [],
   "source": [
    "def liquidate_tickers():\n",
    "    try: \n",
    "        open_orders = client.get_open_orders()\n",
    "        for open_order in open_orders:\n",
    "            order_time = open_order['time']\n",
    "            symbol = open_order['symbol']\n",
    "            quantity = open_order['origQty']\n",
    "            orderId = open_order['orderId']\n",
    "            now_time_stamp = math.floor(time.time() * 1000)\n",
    "            diff_in_time_now_to_buy_time = now_time_stamp - order_time\n",
    "\n",
    "            if diff_in_time_now_to_buy_time > 10200000:\n",
    "                client.cancel_order(symbol=symbol, orderId=orderId)\n",
    "                time.sleep(5)\n",
    "                client.order_market_sell(symbol=symbol,quantity=quantity)\n",
    "\n",
    "    \n",
    "    except BinanceAPIException as e:\n",
    "        print(e.status_code)\n",
    "        print(e.message)"
   ]
  },
  {
   "cell_type": "code",
   "execution_count": 17,
   "id": "e71252e2",
   "metadata": {},
   "outputs": [],
   "source": [
    "def job():\n",
    "    \n",
    "    now = datetime.now()\n",
    "    dt_string = now.strftime(\"%d/%m/%Y %H:%M:%S\")\n",
    "    print(\"Start Date and time =\", dt_string)\n",
    "    \n",
    "    init()\n",
    "    \n",
    "    print('Job Run Trade Tickers')\n",
    "    trade_tickers()\n",
    "    \n",
    "    print('Job Run Liquidate Tickers')\n",
    "    liquidate_tickers()\n",
    "    \n",
    "    now = datetime.now()\n",
    "    dt_string = now.strftime(\"%d/%m/%Y %H:%M:%S\")\n",
    "    print(\"End Date and time =\", dt_string)\n",
    "    "
   ]
  },
  {
   "cell_type": "code",
   "execution_count": 18,
   "id": "d15d711e",
   "metadata": {},
   "outputs": [
    {
     "data": {
      "text/plain": [
       "Every 1 hour at 00:55:00 do job() (last run: [never], next run: 2022-07-31 19:55:00)"
      ]
     },
     "execution_count": 18,
     "metadata": {},
     "output_type": "execute_result"
    }
   ],
   "source": [
    "schedule.every().hour.at(\":55\").do(job)"
   ]
  },
  {
   "cell_type": "code",
   "execution_count": null,
   "id": "c76acf60",
   "metadata": {},
   "outputs": [
    {
     "name": "stdout",
     "output_type": "stream",
     "text": [
      "Start Date and time = 31/07/2022 19:55:00\n",
      "Job Run Trade Tickers\n",
      "Job Run Liquidate Tickers\n",
      "End Date and time = 31/07/2022 19:56:39\n"
     ]
    }
   ],
   "source": [
    "while True:\n",
    "    schedule.run_pending()\n",
    "    time.sleep(1)"
   ]
  }
 ],
 "metadata": {
  "kernelspec": {
   "display_name": "Python 3 (ipykernel)",
   "language": "python",
   "name": "python3"
  },
  "language_info": {
   "codemirror_mode": {
    "name": "ipython",
    "version": 3
   },
   "file_extension": ".py",
   "mimetype": "text/x-python",
   "name": "python",
   "nbconvert_exporter": "python",
   "pygments_lexer": "ipython3",
   "version": "3.7.13"
  }
 },
 "nbformat": 4,
 "nbformat_minor": 5
}
