{
 "cells": [
  {
   "cell_type": "code",
   "execution_count": 1,
   "id": "21c6af51",
   "metadata": {},
   "outputs": [],
   "source": [
    "from datetime import datetime\n",
    "\n",
    "from binance.client import Client\n",
    "from binance.enums import *\n",
    "\n",
    "from coinmarketcapapi import CoinMarketCapAPI, CoinMarketCapAPIError\n",
    "\n",
    "from datetime import datetime\n",
    "\n",
    "import numpy as np\n",
    "import pandas as pd\n",
    "import json\n",
    "import time\n"
   ]
  },
  {
   "cell_type": "code",
   "execution_count": 2,
   "id": "4e37b7c0",
   "metadata": {},
   "outputs": [],
   "source": [
    "client = Client('   ', '  ')"
   ]
  },
  {
   "cell_type": "code",
   "execution_count": 3,
   "id": "c9592b81",
   "metadata": {},
   "outputs": [],
   "source": [
    "cmc = CoinMarketCapAPI('  ')"
   ]
  },
  {
   "cell_type": "code",
   "execution_count": 4,
   "id": "4e5da0ed",
   "metadata": {},
   "outputs": [],
   "source": [
    "info = client.get_all_tickers()"
   ]
  },
  {
   "cell_type": "code",
   "execution_count": 5,
   "id": "f8e53638",
   "metadata": {},
   "outputs": [],
   "source": [
    "quote_ccy = 'USDT'"
   ]
  },
  {
   "cell_type": "code",
   "execution_count": 6,
   "id": "f229a5ed",
   "metadata": {},
   "outputs": [],
   "source": [
    "ticker_list = [d['symbol'] for d in info if d['symbol'].endswith(quote_ccy)]"
   ]
  },
  {
   "cell_type": "code",
   "execution_count": 7,
   "id": "39299cba",
   "metadata": {},
   "outputs": [],
   "source": [
    "rank_info = cmc.cryptocurrency_map(sort='cmc_rank').data"
   ]
  },
  {
   "cell_type": "code",
   "execution_count": 8,
   "id": "7da870b7",
   "metadata": {},
   "outputs": [],
   "source": [
    "target_rank_info = [d['symbol']+quote_ccy for d in rank_info if d['rank'] >= 300 and d['rank'] <= 350]"
   ]
  },
  {
   "cell_type": "code",
   "execution_count": 9,
   "id": "1a23e1d9",
   "metadata": {},
   "outputs": [],
   "source": [
    "target_ticker_list = [d for d in ticker_list if d in target_rank_info]"
   ]
  },
  {
   "cell_type": "code",
   "execution_count": 10,
   "id": "22ee3225",
   "metadata": {},
   "outputs": [
    {
     "data": {
      "text/plain": [
       "['FETUSDT',\n",
       " 'MBLUSDT',\n",
       " 'STPTUSDT',\n",
       " 'ANTUSDT',\n",
       " 'SUNUSDT',\n",
       " 'UTKUSDT',\n",
       " 'XVSUSDT',\n",
       " 'ALPHAUSDT',\n",
       " 'CTKUSDT',\n",
       " 'REEFUSDT',\n",
       " 'ALICEUSDT',\n",
       " 'PERPUSDT',\n",
       " 'TLMUSDT',\n",
       " 'BAKEUSDT',\n",
       " 'POLSUSDT',\n",
       " 'XVGUSDT',\n",
       " 'GHSTUSDT',\n",
       " 'TRIBEUSDT',\n",
       " 'DARUSDT',\n",
       " 'RGTUSDT',\n",
       " 'MOVRUSDT',\n",
       " 'ACHUSDT']"
      ]
     },
     "execution_count": 10,
     "metadata": {},
     "output_type": "execute_result"
    }
   ],
   "source": [
    "target_ticker_list"
   ]
  },
  {
   "cell_type": "code",
   "execution_count": 11,
   "id": "4b48ade7",
   "metadata": {},
   "outputs": [],
   "source": [
    "# target_ticker_list = ['FIROUSDT']"
   ]
  },
  {
   "cell_type": "code",
   "execution_count": 12,
   "id": "ef4e3caa",
   "metadata": {},
   "outputs": [],
   "source": [
    "def is_candidate(filtered_klines_info, tolerable_volume): \n",
    "    context_klines_info = filtered_klines_info[:len(filtered_klines_info) -1]\n",
    "    is_candidate = False\n",
    "    \n",
    "    trigger_kline = filtered_klines_info[-1]\n",
    "\n",
    "    \n",
    "    for context_kline in context_klines_info:\n",
    "        kontext_tol_val = tolerable_volume * 2\n",
    "        \n",
    "        volume_gate = float(context_kline[5])  <  kontext_tol_val\n",
    "        if volume_gate :\n",
    "            is_candidate = True\n",
    "        else:\n",
    "            is_candidate = True\n",
    "            \n",
    "\n",
    "    #trigger_gate = float(trigger_kline[5]  > tolerable_volume * 10) and (trigger_kline[-1] < 10 ) and (trigger_kline[-1] > 7 ) \n",
    "    \n",
    "    drop_from_high_gate = trigger_kline[2]/trigger_kline[4] < 1.05\n",
    "    trigger_gate = trigger_kline[-1] > 10 \n",
    "    \n",
    "\n",
    "    if trigger_gate and drop_from_high_gate:\n",
    "        is_candidate = True\n",
    "    else:\n",
    "        is_candidate = False\n",
    "\n",
    "\n",
    "    return is_candidate"
   ]
  },
  {
   "cell_type": "code",
   "execution_count": 13,
   "id": "8f7f8623",
   "metadata": {},
   "outputs": [],
   "source": [
    "def find_percentage_increase_or_decrease(focused_kline_array):\n",
    "    percentage_value = []\n",
    "    for kline in focused_kline_array:\n",
    "        diff = kline[4] - kline[1]\n",
    "        perc_diff = diff/kline[1]\n",
    "        percentage_value.append(perc_diff*100)\n",
    "    return percentage_value "
   ]
  },
  {
   "cell_type": "code",
   "execution_count": 14,
   "id": "fd700829",
   "metadata": {},
   "outputs": [
    {
     "name": "stdout",
     "output_type": "stream",
     "text": [
      "Analyzing Hourly Started \n",
      "FETUSDT\n",
      "Analyzing Hourly Started \n",
      "MBLUSDT\n",
      "Analyzing Hourly Started \n",
      "STPTUSDT\n",
      "Analyzing Hourly Started \n",
      "ANTUSDT\n",
      "Analyzing Hourly Started \n",
      "SUNUSDT\n",
      "Analyzing Hourly Started \n",
      "UTKUSDT\n",
      "Analyzing Hourly Started \n",
      "XVSUSDT\n",
      "Analyzing Hourly Started \n",
      "ALPHAUSDT\n",
      "Analyzing Hourly Started \n",
      "CTKUSDT\n",
      "Analyzing Hourly Started \n",
      "REEFUSDT\n",
      "Analyzing Hourly Started \n",
      "ALICEUSDT\n",
      "Analyzing Hourly Started \n",
      "PERPUSDT\n",
      "Analyzing Hourly Started \n",
      "TLMUSDT\n",
      "Analyzing Hourly Started \n",
      "BAKEUSDT\n",
      "Analyzing Hourly Started \n",
      "POLSUSDT\n",
      "Analyzing Hourly Started \n",
      "XVGUSDT\n",
      "Analyzing Hourly Started \n",
      "GHSTUSDT\n",
      "Analyzing Hourly Started \n",
      "TRIBEUSDT\n",
      "Analyzing Hourly Started \n",
      "DARUSDT\n",
      "Analyzing Hourly Started \n",
      "RGTUSDT\n",
      "Analyzing Hourly Started \n",
      "MOVRUSDT\n",
      "Analyzing Hourly Started \n",
      "ACHUSDT\n"
     ]
    }
   ],
   "source": [
    "trade_list = []\n",
    "for target_ticker in target_ticker_list:\n",
    "    \n",
    "    print('Analyzing Hourly Started ')\n",
    "    print(target_ticker)\n",
    "\n",
    "    klines = client.get_historical_klines(target_ticker, Client.KLINE_INTERVAL_1HOUR, \"30 day ago UTC\") \n",
    "    length = int(len(klines))\n",
    "    if(length < 24):\n",
    "        continue\n",
    "    \n",
    "    array = np.array(klines, dtype=np.float64)\n",
    "    focused_kline_array = np.delete(array, [6, 7, 8, 9, 10, 11], 1)\n",
    "    percentage_value = find_percentage_increase_or_decrease(focused_kline_array)\n",
    "    percentage_value = np.reshape(percentage_value, (length, 1))\n",
    "    focused_kline_array = np.append(focused_kline_array, percentage_value, 1)\n",
    "\n",
    "    for x in range(0, length):\n",
    "        \n",
    "        hit_ticker_dictionary = {}\n",
    "        filtered_klines_info = focused_kline_array[x:x+24]\n",
    "        if(len(filtered_klines_info) == 10):\n",
    "            context_klines_info = filtered_klines_info[:len(filtered_klines_info) -1]\n",
    "            average_volume = np.mean(context_klines_info[:,5])\n",
    "            tolerable_volume = average_volume\n",
    "        \n",
    "        \n",
    "            buy_kline_info = filtered_klines_info[-1]\n",
    "\n",
    "\n",
    "            if(is_candidate(filtered_klines_info, tolerable_volume)):\n",
    "\n",
    "                hit_ticker_dictionary = {}\n",
    "                buy_price = buy_kline_info[4]\n",
    "                hit_ticker_dictionary['ticker'] = target_ticker\n",
    "                hit_ticker_dictionary['buy_price'] = buy_kline_info[4]\n",
    "\n",
    "                buy_timesstamp = buy_kline_info[0]\n",
    "                hit_ticker_dictionary['buy_datetime'] = str(datetime.fromtimestamp(buy_timesstamp // 1000))\n",
    "                \n",
    "                proft_percentage = 1.10\n",
    "                loss_percentage = 0.75\n",
    "                profit_sell_price = buy_price * proft_percentage\n",
    "                loss_sell_price = buy_price * loss_percentage\n",
    "                \n",
    "                \n",
    "                usdt = 100\n",
    "                \n",
    "                for y in range(x+11, length):\n",
    "                    high_price = focused_kline_array[y-1:y][0][2]\n",
    "                    low_price = focused_kline_array[y-1:y][0][3]\n",
    "                    \n",
    "                    sell_timesstamp = focused_kline_array[y-1:y][0][0]\n",
    "                    sell_datetime = str(datetime.fromtimestamp(sell_timesstamp // 1000))\n",
    "\n",
    "\n",
    "                    if high_price >= profit_sell_price:\n",
    "                        hit_ticker_dictionary['sell_price'] = profit_sell_price\n",
    "                        sell_timesstamp = focused_kline_array[y-1:y][0][0]\n",
    "\n",
    "                        hit_ticker_dictionary['sell_datetime'] = str(datetime.fromtimestamp(sell_timesstamp // 1000))\n",
    "                        difference = focused_kline_array[y-1:y][0][0] - buy_kline_info[0]\n",
    "                        \n",
    "                        hit_ticker_dictionary['days_to_gain_loss'] = round(difference/(1000 * 60 * 24 * 60))\n",
    "                        price_difference = profit_sell_price - buy_price\n",
    "                        hit_ticker_dictionary['price_diff'] = price_difference\n",
    "                        hit_ticker_dictionary['proft_loss'] = usdt * proft_percentage - usdt\n",
    "                        \n",
    "                        break\n",
    "                        \n",
    "                    elif low_price <= loss_sell_price and True:\n",
    "                        hit_ticker_dictionary['sell_price'] = loss_sell_price\n",
    "                        sell_timesstamp = focused_kline_array[y-1:y][0][0]\n",
    "\n",
    "                        hit_ticker_dictionary['sell_datetime'] = str(datetime.fromtimestamp(sell_timesstamp // 1000))\n",
    "                        difference = focused_kline_array[y-1:y][0][0] - buy_kline_info[0]\n",
    "                        \n",
    "                        hit_ticker_dictionary['days_to_gain_loss'] = round(difference/(1000 * 60 * 24 * 60))\n",
    "                        price_difference = loss_sell_price - buy_price\n",
    "                        hit_ticker_dictionary['price_diff'] = price_difference\n",
    "                        hit_ticker_dictionary['proft_loss'] = usdt * loss_percentage - usdt\n",
    "                        break\n",
    "                        \n",
    "                        \n",
    "                trade_list.append(hit_ticker_dictionary)\n",
    "                \n",
    "                busd = 10\n",
    "\n",
    "                quantity = busd/ buy_kline_info[4]\n",
    "                quantity_str = \"{:0.0{}f}\".format(quantity, 2)\n",
    "\n",
    "                \"\"\"\n",
    "                order = client.create_test_order(symbol=target_ticker, side=SIDE_BUY, type='MARKET', quoteOrderQty=busd)\n",
    "                time.sleep(5)\n",
    "                order_id = order['orderId'] \n",
    "                '''order_id = client.get_all_orders(symbol=target_ticker)[0]['orderId'] '''\n",
    "\n",
    "                buy_price = order['fills'][0]['price']\n",
    "                buy_qty = order['executedQty']\n",
    "                sell_price = buy_price * 1.03\n",
    "\n",
    "\n",
    "\n",
    "                while client.get_order(symbol=target_ticker, orderId=order_id)['status'] != 'FILLED':\n",
    "                    time.sleep(10)\n",
    "\n",
    "                if client.get_order(symbol=target_ticker, orderId=order_id)['status'] == 'FILLED':\n",
    "                    asset = target_ticker.split(\"USDT\")[0]\n",
    "                    balance = client.get_asset_balance(asset=asset)\n",
    "                    free_to_trade = balance['free']\n",
    "                    sell_price_str = \"{:0.0{}f}\".format(sell_price, 2)\n",
    "\n",
    "                    order = client.create_test_order(symbol=target_ticker, side=SIDE_SELL, type='LIMIT', quantity=float(balance['free']), price=sell_price_str, timeInForce=TIME_IN_FORCE_GTC)\n",
    "                    print('********** SELL ORDER SET ************************')\n",
    "\n",
    "                    \"\"\"\n"
   ]
  },
  {
   "cell_type": "code",
   "execution_count": 15,
   "id": "7a36df04",
   "metadata": {},
   "outputs": [
    {
     "data": {
      "text/plain": [
       "[]"
      ]
     },
     "execution_count": 15,
     "metadata": {},
     "output_type": "execute_result"
    }
   ],
   "source": [
    "trade_list"
   ]
  },
  {
   "cell_type": "code",
   "execution_count": 16,
   "id": "30321ea3",
   "metadata": {},
   "outputs": [
    {
     "data": {
      "text/plain": [
       "0"
      ]
     },
     "execution_count": 16,
     "metadata": {},
     "output_type": "execute_result"
    }
   ],
   "source": [
    "len(trade_list)"
   ]
  },
  {
   "cell_type": "code",
   "execution_count": 17,
   "id": "70516f6a",
   "metadata": {},
   "outputs": [],
   "source": [
    "df = pd.DataFrame.from_dict(trade_list)"
   ]
  },
  {
   "cell_type": "code",
   "execution_count": 18,
   "id": "a642283b",
   "metadata": {},
   "outputs": [
    {
     "ename": "KeyError",
     "evalue": "'price_diff'",
     "output_type": "error",
     "traceback": [
      "\u001b[0;31m---------------------------------------------------------------------------\u001b[0m",
      "\u001b[0;31mKeyError\u001b[0m                                  Traceback (most recent call last)",
      "\u001b[0;32m/opt/anaconda3/lib/python3.7/site-packages/pandas/core/indexes/base.py\u001b[0m in \u001b[0;36mget_loc\u001b[0;34m(self, key, method, tolerance)\u001b[0m\n\u001b[1;32m   3360\u001b[0m             \u001b[0;32mtry\u001b[0m\u001b[0;34m:\u001b[0m\u001b[0;34m\u001b[0m\u001b[0;34m\u001b[0m\u001b[0m\n\u001b[0;32m-> 3361\u001b[0;31m                 \u001b[0;32mreturn\u001b[0m \u001b[0mself\u001b[0m\u001b[0;34m.\u001b[0m\u001b[0m_engine\u001b[0m\u001b[0;34m.\u001b[0m\u001b[0mget_loc\u001b[0m\u001b[0;34m(\u001b[0m\u001b[0mcasted_key\u001b[0m\u001b[0;34m)\u001b[0m\u001b[0;34m\u001b[0m\u001b[0;34m\u001b[0m\u001b[0m\n\u001b[0m\u001b[1;32m   3362\u001b[0m             \u001b[0;32mexcept\u001b[0m \u001b[0mKeyError\u001b[0m \u001b[0;32mas\u001b[0m \u001b[0merr\u001b[0m\u001b[0;34m:\u001b[0m\u001b[0;34m\u001b[0m\u001b[0;34m\u001b[0m\u001b[0m\n",
      "\u001b[0;32m/opt/anaconda3/lib/python3.7/site-packages/pandas/_libs/index.pyx\u001b[0m in \u001b[0;36mpandas._libs.index.IndexEngine.get_loc\u001b[0;34m()\u001b[0m\n",
      "\u001b[0;32m/opt/anaconda3/lib/python3.7/site-packages/pandas/_libs/index.pyx\u001b[0m in \u001b[0;36mpandas._libs.index.IndexEngine.get_loc\u001b[0;34m()\u001b[0m\n",
      "\u001b[0;32mpandas/_libs/hashtable_class_helper.pxi\u001b[0m in \u001b[0;36mpandas._libs.hashtable.PyObjectHashTable.get_item\u001b[0;34m()\u001b[0m\n",
      "\u001b[0;32mpandas/_libs/hashtable_class_helper.pxi\u001b[0m in \u001b[0;36mpandas._libs.hashtable.PyObjectHashTable.get_item\u001b[0;34m()\u001b[0m\n",
      "\u001b[0;31mKeyError\u001b[0m: 'price_diff'",
      "\nThe above exception was the direct cause of the following exception:\n",
      "\u001b[0;31mKeyError\u001b[0m                                  Traceback (most recent call last)",
      "\u001b[0;32m/var/folders/1p/r_ctn6054p567yvtb2gkp1240000gn/T/ipykernel_31651/3869487963.py\u001b[0m in \u001b[0;36m<module>\u001b[0;34m\u001b[0m\n\u001b[1;32m      1\u001b[0m \u001b[0;32mwith\u001b[0m \u001b[0mpd\u001b[0m\u001b[0;34m.\u001b[0m\u001b[0moption_context\u001b[0m\u001b[0;34m(\u001b[0m\u001b[0;34m'display.max_rows'\u001b[0m\u001b[0;34m,\u001b[0m \u001b[0;32mNone\u001b[0m\u001b[0;34m)\u001b[0m\u001b[0;34m:\u001b[0m\u001b[0;34m\u001b[0m\u001b[0;34m\u001b[0m\u001b[0m\n\u001b[0;32m----> 2\u001b[0;31m     \u001b[0mdisplay\u001b[0m\u001b[0;34m(\u001b[0m\u001b[0mdf\u001b[0m\u001b[0;34m[\u001b[0m\u001b[0mdf\u001b[0m\u001b[0;34m[\u001b[0m\u001b[0;34m'price_diff'\u001b[0m\u001b[0;34m]\u001b[0m \u001b[0;34m>\u001b[0m \u001b[0;36m0\u001b[0m\u001b[0;34m]\u001b[0m\u001b[0;34m)\u001b[0m\u001b[0;34m\u001b[0m\u001b[0;34m\u001b[0m\u001b[0m\n\u001b[0m",
      "\u001b[0;32m/opt/anaconda3/lib/python3.7/site-packages/pandas/core/frame.py\u001b[0m in \u001b[0;36m__getitem__\u001b[0;34m(self, key)\u001b[0m\n\u001b[1;32m   3456\u001b[0m             \u001b[0;32mif\u001b[0m \u001b[0mself\u001b[0m\u001b[0;34m.\u001b[0m\u001b[0mcolumns\u001b[0m\u001b[0;34m.\u001b[0m\u001b[0mnlevels\u001b[0m \u001b[0;34m>\u001b[0m \u001b[0;36m1\u001b[0m\u001b[0;34m:\u001b[0m\u001b[0;34m\u001b[0m\u001b[0;34m\u001b[0m\u001b[0m\n\u001b[1;32m   3457\u001b[0m                 \u001b[0;32mreturn\u001b[0m \u001b[0mself\u001b[0m\u001b[0;34m.\u001b[0m\u001b[0m_getitem_multilevel\u001b[0m\u001b[0;34m(\u001b[0m\u001b[0mkey\u001b[0m\u001b[0;34m)\u001b[0m\u001b[0;34m\u001b[0m\u001b[0;34m\u001b[0m\u001b[0m\n\u001b[0;32m-> 3458\u001b[0;31m             \u001b[0mindexer\u001b[0m \u001b[0;34m=\u001b[0m \u001b[0mself\u001b[0m\u001b[0;34m.\u001b[0m\u001b[0mcolumns\u001b[0m\u001b[0;34m.\u001b[0m\u001b[0mget_loc\u001b[0m\u001b[0;34m(\u001b[0m\u001b[0mkey\u001b[0m\u001b[0;34m)\u001b[0m\u001b[0;34m\u001b[0m\u001b[0;34m\u001b[0m\u001b[0m\n\u001b[0m\u001b[1;32m   3459\u001b[0m             \u001b[0;32mif\u001b[0m \u001b[0mis_integer\u001b[0m\u001b[0;34m(\u001b[0m\u001b[0mindexer\u001b[0m\u001b[0;34m)\u001b[0m\u001b[0;34m:\u001b[0m\u001b[0;34m\u001b[0m\u001b[0;34m\u001b[0m\u001b[0m\n\u001b[1;32m   3460\u001b[0m                 \u001b[0mindexer\u001b[0m \u001b[0;34m=\u001b[0m \u001b[0;34m[\u001b[0m\u001b[0mindexer\u001b[0m\u001b[0;34m]\u001b[0m\u001b[0;34m\u001b[0m\u001b[0;34m\u001b[0m\u001b[0m\n",
      "\u001b[0;32m/opt/anaconda3/lib/python3.7/site-packages/pandas/core/indexes/base.py\u001b[0m in \u001b[0;36mget_loc\u001b[0;34m(self, key, method, tolerance)\u001b[0m\n\u001b[1;32m   3361\u001b[0m                 \u001b[0;32mreturn\u001b[0m \u001b[0mself\u001b[0m\u001b[0;34m.\u001b[0m\u001b[0m_engine\u001b[0m\u001b[0;34m.\u001b[0m\u001b[0mget_loc\u001b[0m\u001b[0;34m(\u001b[0m\u001b[0mcasted_key\u001b[0m\u001b[0;34m)\u001b[0m\u001b[0;34m\u001b[0m\u001b[0;34m\u001b[0m\u001b[0m\n\u001b[1;32m   3362\u001b[0m             \u001b[0;32mexcept\u001b[0m \u001b[0mKeyError\u001b[0m \u001b[0;32mas\u001b[0m \u001b[0merr\u001b[0m\u001b[0;34m:\u001b[0m\u001b[0;34m\u001b[0m\u001b[0;34m\u001b[0m\u001b[0m\n\u001b[0;32m-> 3363\u001b[0;31m                 \u001b[0;32mraise\u001b[0m \u001b[0mKeyError\u001b[0m\u001b[0;34m(\u001b[0m\u001b[0mkey\u001b[0m\u001b[0;34m)\u001b[0m \u001b[0;32mfrom\u001b[0m \u001b[0merr\u001b[0m\u001b[0;34m\u001b[0m\u001b[0;34m\u001b[0m\u001b[0m\n\u001b[0m\u001b[1;32m   3364\u001b[0m \u001b[0;34m\u001b[0m\u001b[0m\n\u001b[1;32m   3365\u001b[0m         \u001b[0;32mif\u001b[0m \u001b[0mis_scalar\u001b[0m\u001b[0;34m(\u001b[0m\u001b[0mkey\u001b[0m\u001b[0;34m)\u001b[0m \u001b[0;32mand\u001b[0m \u001b[0misna\u001b[0m\u001b[0;34m(\u001b[0m\u001b[0mkey\u001b[0m\u001b[0;34m)\u001b[0m \u001b[0;32mand\u001b[0m \u001b[0;32mnot\u001b[0m \u001b[0mself\u001b[0m\u001b[0;34m.\u001b[0m\u001b[0mhasnans\u001b[0m\u001b[0;34m:\u001b[0m\u001b[0;34m\u001b[0m\u001b[0;34m\u001b[0m\u001b[0m\n",
      "\u001b[0;31mKeyError\u001b[0m: 'price_diff'"
     ]
    }
   ],
   "source": [
    "with pd.option_context('display.max_rows', None):\n",
    "    display(df[df['price_diff'] > 0])"
   ]
  },
  {
   "cell_type": "code",
   "execution_count": null,
   "id": "dae9bc56",
   "metadata": {},
   "outputs": [],
   "source": [
    "with pd.option_context('display.max_rows', None):\n",
    "    display(df[df['price_diff'] < 0])"
   ]
  },
  {
   "cell_type": "code",
   "execution_count": null,
   "id": "beca9e9e",
   "metadata": {},
   "outputs": [],
   "source": [
    "with pd.option_context('display.max_rows', None):\n",
    "    display(df[pd.isna(df['sell_price'])])"
   ]
  },
  {
   "cell_type": "code",
   "execution_count": null,
   "id": "0dc1fbb4",
   "metadata": {},
   "outputs": [],
   "source": [
    "df['proft_loss'].sum()"
   ]
  },
  {
   "cell_type": "code",
   "execution_count": null,
   "id": "e37bfc1d",
   "metadata": {},
   "outputs": [],
   "source": [
    "with pd.option_context('display.max_rows', None):\n",
    "    display(df[np.invert(pd.isna(df['sell_price']))])"
   ]
  }
 ],
 "metadata": {
  "kernelspec": {
   "display_name": "Python 3 (ipykernel)",
   "language": "python",
   "name": "python3"
  },
  "language_info": {
   "codemirror_mode": {
    "name": "ipython",
    "version": 3
   },
   "file_extension": ".py",
   "mimetype": "text/x-python",
   "name": "python",
   "nbconvert_exporter": "python",
   "pygments_lexer": "ipython3",
   "version": "3.7.13"
  }
 },
 "nbformat": 4,
 "nbformat_minor": 5
}
