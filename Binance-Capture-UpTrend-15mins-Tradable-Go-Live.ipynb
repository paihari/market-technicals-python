{
 "cells": [
  {
   "cell_type": "code",
   "execution_count": 1,
   "id": "21c6af51",
   "metadata": {},
   "outputs": [],
   "source": [
    "from datetime import datetime\n",
    "\n",
    "from binance.client import Client\n",
    "from binance.enums import *\n",
    "\n",
    "from coinmarketcapapi import CoinMarketCapAPI, CoinMarketCapAPIError\n",
    "\n",
    "from binance.exceptions import BinanceAPIException\n",
    "\n",
    "import numpy as np\n",
    "import pandas as pd\n",
    "import json\n",
    "import time\n",
    "import schedule"
   ]
  },
  {
   "cell_type": "code",
   "execution_count": 2,
   "id": "4e37b7c0",
   "metadata": {},
   "outputs": [],
   "source": [
    "client = Client('   ', '  ')"
   ]
  },
  {
   "cell_type": "code",
   "execution_count": 3,
   "id": "c9592b81",
   "metadata": {},
   "outputs": [],
   "source": [
    "cmc = CoinMarketCapAPI('  ')"
   ]
  },
  {
   "cell_type": "code",
   "execution_count": 4,
   "id": "4e5da0ed",
   "metadata": {},
   "outputs": [],
   "source": [
    "info = client.get_all_tickers()"
   ]
  },
  {
   "cell_type": "code",
   "execution_count": 5,
   "id": "ae951263",
   "metadata": {},
   "outputs": [],
   "source": [
    "quote_ccy = 'USDT'"
   ]
  },
  {
   "cell_type": "code",
   "execution_count": 6,
   "id": "f229a5ed",
   "metadata": {},
   "outputs": [],
   "source": [
    "ticker_list = [d['symbol'] for d in info if d['symbol'].endswith(quote_ccy)]"
   ]
  },
  {
   "cell_type": "code",
   "execution_count": 7,
   "id": "39299cba",
   "metadata": {},
   "outputs": [],
   "source": [
    "rank_info = cmc.cryptocurrency_map(sort='cmc_rank').data"
   ]
  },
  {
   "cell_type": "code",
   "execution_count": 8,
   "id": "7da870b7",
   "metadata": {},
   "outputs": [],
   "source": [
    "target_rank_info = [d['symbol']+quote_ccy for d in rank_info if d['rank'] >= 300 and d['rank'] <= 500]"
   ]
  },
  {
   "cell_type": "code",
   "execution_count": 9,
   "id": "1a23e1d9",
   "metadata": {},
   "outputs": [],
   "source": [
    "target_ticker_list = [d for d in ticker_list if d in target_rank_info]"
   ]
  },
  {
   "cell_type": "code",
   "execution_count": 10,
   "id": "ef4e3caa",
   "metadata": {},
   "outputs": [],
   "source": [
    "def is_candidate(filtered_klines_info, tolerable_volume):\n",
    "    context_klines_info = filtered_klines_info[:len(filtered_klines_info) -1]\n",
    "    is_candidate = False\n",
    "    \n",
    "    trigger_kline = filtered_klines_info[-1]\n",
    "    \n",
    "    for context_kline in context_klines_info:\n",
    "        \n",
    "        volume_gate = float(context_kline[3])  <  tolerable_volume * 2.5\n",
    "        if volume_gate :\n",
    "            is_candidate = True\n",
    "        else:\n",
    "            return False\n",
    "\n",
    "\n",
    "    trigger_gate = float(trigger_kline[3]  > tolerable_volume * 10) and (trigger_kline[-1] < 9 ) and (trigger_kline[-1] > 3 ) \n",
    "\n",
    "\n",
    "    if trigger_gate:\n",
    "        is_candidate = True\n",
    "    else:\n",
    "        is_candidate = False\n",
    "\n",
    "    return is_candidate"
   ]
  },
  {
   "cell_type": "code",
   "execution_count": 11,
   "id": "8f7f8623",
   "metadata": {},
   "outputs": [],
   "source": [
    "def find_percentage_increase_or_decrease(focused_kline_array):\n",
    "    percentage_value = []\n",
    "    for kline in focused_kline_array:\n",
    "        diff = kline[2] - kline[1]\n",
    "        perc_diff = diff/kline[1]\n",
    "        percentage_value.append(perc_diff*100)\n",
    "    return percentage_value "
   ]
  },
  {
   "cell_type": "code",
   "execution_count": 12,
   "id": "fd700829",
   "metadata": {},
   "outputs": [],
   "source": [
    "def job(): \n",
    "    \n",
    "    try:\n",
    "        \n",
    "        for target_ticker in target_ticker_list:\n",
    "            print('Analyzing Hourly Started ')\n",
    "            print(target_ticker)\n",
    "            klines = client.get_historical_klines(target_ticker, Client.KLINE_INTERVAL_15MINUTE, \"1 day ago UTC\") \n",
    "            length = int(len(klines))\n",
    "            if(length < 96):\n",
    "                break\n",
    "\n",
    "            array = np.array(klines, dtype=np.float64)\n",
    "            focused_kline_array = np.delete(array, [2, 3, 6, 7, 8, 9, 10, 11], 1)\n",
    "            percentage_value = find_percentage_increase_or_decrease(focused_kline_array)\n",
    "            percentage_value = np.reshape(percentage_value, (length, 1))\n",
    "            focused_kline_array = np.append(focused_kline_array, percentage_value, 1)\n",
    "            average_volume = np.mean(focused_kline_array[:,3])\n",
    "            tolerable_volume = average_volume * 1.2\n",
    "\n",
    "            '''filtered_klines_info = focused_kline_array[x:x+24] '''\n",
    "            filtered_klines_info = focused_kline_array\n",
    "            buy_kline_info = filtered_klines_info[-1]\n",
    "            if(len(filtered_klines_info) == 96 and is_candidate(filtered_klines_info, tolerable_volume)):\n",
    "\n",
    "                print('********** SUCCESS ************************')\n",
    "                print(target_ticker)\n",
    "                print('Buy Price')\n",
    "                print(buy_kline_info[2])\n",
    "\n",
    "                busd = 10\n",
    "\n",
    "                quantity = busd/ buy_kline_info[2]\n",
    "                print('Quantity')\n",
    "                print(quantity)\n",
    "                quantity_str = \"{:0.0{}f}\".format(quantity, 2)\n",
    "                print(quantity_str)\n",
    "\n",
    "                order = client.create_test_order(symbol=target_ticker, side=SIDE_BUY, type='MARKET', quoteOrderQty=busd)\n",
    "                time.sleep(5)\n",
    "                order_id = order['orderId']\n",
    "                buy_price = order['fills'][0]['price']\n",
    "                buy_qty = order['executedQty']\n",
    "                sell_price = buy_price * 1.03\n",
    "\n",
    "\n",
    "\n",
    "                while client.get_order(symbol=target_ticker, orderId=order_id)['status'] != 'FILLED':\n",
    "                    time.sleep(10)\n",
    "                \n",
    "                if client.get_order(symbol=target_ticker, orderId=order_id)['status'] == 'FILLED':\n",
    "                    asset = target_ticker.split(\"USDT\")[0]\n",
    "                    balance = client.get_asset_balance(asset=asset)\n",
    "                    free_to_trade = balance['free']\n",
    "                    sell_price_str = \"{:0.0{}f}\".format(sell_price, 2)\n",
    "                \n",
    "                    order = client.create_order(symbol=target_ticker, side=SIDE_SELL, type='LIMIT', quantity=float(balance['free']), price=sell_price_str, timeInForce=TIME_IN_FORCE_GTC)\n",
    "                    print('********** SELL ORDER SET ************************')\n",
    "        print('**** Hourly Analyze Done ******')\n",
    "    except BinanceAPIException as e:\n",
    "        print(e.status_code)\n",
    "        print(e.message)"
   ]
  },
  {
   "cell_type": "code",
   "execution_count": 13,
   "id": "30321ea3",
   "metadata": {},
   "outputs": [
    {
     "data": {
      "text/plain": [
       "'schedule.every(15).minutes.do(job) '"
      ]
     },
     "execution_count": 13,
     "metadata": {},
     "output_type": "execute_result"
    }
   ],
   "source": [
    "'''schedule.every(15).minutes.do(job) '''"
   ]
  },
  {
   "cell_type": "code",
   "execution_count": 14,
   "id": "1bd1a95e",
   "metadata": {},
   "outputs": [
    {
     "data": {
      "text/plain": [
       "Every 1 hour at 00:13:00 do job() (last run: [never], next run: 2022-07-12 13:13:00)"
      ]
     },
     "execution_count": 14,
     "metadata": {},
     "output_type": "execute_result"
    }
   ],
   "source": [
    "schedule.every().hour.at(\":13\").do(job)"
   ]
  },
  {
   "cell_type": "code",
   "execution_count": 15,
   "id": "41fa8bbb",
   "metadata": {},
   "outputs": [
    {
     "data": {
      "text/plain": [
       "Every 1 hour at 00:28:00 do job() (last run: [never], next run: 2022-07-12 12:28:00)"
      ]
     },
     "execution_count": 15,
     "metadata": {},
     "output_type": "execute_result"
    }
   ],
   "source": [
    "schedule.every().hour.at(\":28\").do(job)"
   ]
  },
  {
   "cell_type": "code",
   "execution_count": 16,
   "id": "190e9de4",
   "metadata": {},
   "outputs": [
    {
     "data": {
      "text/plain": [
       "Every 1 hour at 00:43:00 do job() (last run: [never], next run: 2022-07-12 12:43:00)"
      ]
     },
     "execution_count": 16,
     "metadata": {},
     "output_type": "execute_result"
    }
   ],
   "source": [
    "schedule.every().hour.at(\":43\").do(job)"
   ]
  },
  {
   "cell_type": "code",
   "execution_count": 17,
   "id": "76c378db",
   "metadata": {},
   "outputs": [
    {
     "data": {
      "text/plain": [
       "Every 1 hour at 00:58:00 do job() (last run: [never], next run: 2022-07-12 12:58:00)"
      ]
     },
     "execution_count": 17,
     "metadata": {},
     "output_type": "execute_result"
    }
   ],
   "source": [
    "schedule.every().hour.at(\":58\").do(job)"
   ]
  },
  {
   "cell_type": "code",
   "execution_count": null,
   "id": "e7183241",
   "metadata": {},
   "outputs": [
    {
     "name": "stdout",
     "output_type": "stream",
     "text": [
      "Analyzing Hourly Started \n",
      "FETUSDT\n",
      "Analyzing Hourly Started \n",
      "DUSKUSDT\n",
      "Analyzing Hourly Started \n",
      "COCOSUSDT\n",
      "Analyzing Hourly Started \n",
      "TOMOUSDT\n",
      "Analyzing Hourly Started \n",
      "MFTUSDT\n",
      "Analyzing Hourly Started \n",
      "KEYUSDT\n",
      "Analyzing Hourly Started \n",
      "WANUSDT\n",
      "Analyzing Hourly Started \n",
      "BANDUSDT\n",
      "Analyzing Hourly Started \n",
      "NKNUSDT\n",
      "Analyzing Hourly Started \n",
      "ARPAUSDT\n",
      "Analyzing Hourly Started \n",
      "TROYUSDT\n",
      "Analyzing Hourly Started \n",
      "BTSUSDT\n",
      "Analyzing Hourly Started \n",
      "LTOUSDT\n",
      "Analyzing Hourly Started \n",
      "MBLUSDT\n",
      "Analyzing Hourly Started \n",
      "VTHOUSDT\n",
      "Analyzing Hourly Started \n",
      "BLZUSDT\n",
      "Analyzing Hourly Started \n",
      "ANTUSDT\n",
      "Analyzing Hourly Started \n",
      "YFIIUSDT\n",
      "Analyzing Hourly Started \n",
      "DIAUSDT\n",
      "Analyzing Hourly Started \n",
      "BELUSDT\n",
      "Analyzing Hourly Started \n",
      "SUNUSDT\n",
      "Analyzing Hourly Started \n",
      "FLMUSDT\n",
      "Analyzing Hourly Started \n",
      "ORNUSDT\n",
      "Analyzing Hourly Started \n",
      "UTKUSDT\n",
      "Analyzing Hourly Started \n",
      "XVSUSDT\n",
      "Analyzing Hourly Started \n",
      "ALPHAUSDT\n",
      "Analyzing Hourly Started \n",
      "CTKUSDT\n",
      "Analyzing Hourly Started \n",
      "DNTUSDT\n",
      "Analyzing Hourly Started \n",
      "UNFIUSDT\n",
      "Analyzing Hourly Started \n",
      "REEFUSDT\n",
      "Analyzing Hourly Started \n",
      "RIFUSDT\n",
      "Analyzing Hourly Started \n",
      "TRUUSDT\n",
      "Analyzing Hourly Started \n",
      "LITUSDT\n",
      "Analyzing Hourly Started \n",
      "SFPUSDT\n",
      "Analyzing Hourly Started \n",
      "BADGERUSDT\n",
      "Analyzing Hourly Started \n",
      "PONDUSDT\n",
      "Analyzing Hourly Started \n",
      "ALICEUSDT\n",
      "Analyzing Hourly Started \n",
      "LINAUSDT\n",
      "Analyzing Hourly Started \n",
      "PERPUSDT\n",
      "Analyzing Hourly Started \n",
      "SUPERUSDT\n",
      "Analyzing Hourly Started \n",
      "TKOUSDT\n",
      "Analyzing Hourly Started \n",
      "FORTHUSDT\n",
      "Analyzing Hourly Started \n",
      "BAKEUSDT\n",
      "Analyzing Hourly Started \n",
      "BURGERUSDT\n",
      "Analyzing Hourly Started \n",
      "POLSUSDT\n",
      "Analyzing Hourly Started \n",
      "MASKUSDT\n",
      "Analyzing Hourly Started \n",
      "XVGUSDT\n",
      "Analyzing Hourly Started \n",
      "GTCUSDT\n",
      "Analyzing Hourly Started \n",
      "MLNUSDT\n",
      "Analyzing Hourly Started \n",
      "CLVUSDT\n",
      "Analyzing Hourly Started \n",
      "TVKUSDT\n",
      "Analyzing Hourly Started \n",
      "FARMUSDT\n",
      "Analyzing Hourly Started \n",
      "ALPACAUSDT\n",
      "Analyzing Hourly Started \n",
      "MBOXUSDT\n",
      "Analyzing Hourly Started \n",
      "GHSTUSDT\n",
      "Analyzing Hourly Started \n",
      "IDEXUSDT\n",
      "Analyzing Hourly Started \n",
      "ILVUSDT\n",
      "Analyzing Hourly Started \n",
      "RADUSDT\n",
      "Analyzing Hourly Started \n",
      "BETAUSDT\n",
      "Analyzing Hourly Started \n",
      "DARUSDT\n",
      "Analyzing Hourly Started \n",
      "RGTUSDT\n",
      "**** Hourly Analyze Done ******\n",
      "Analyzing Hourly Started \n",
      "FETUSDT\n",
      "Analyzing Hourly Started \n",
      "DUSKUSDT\n",
      "Analyzing Hourly Started \n",
      "COCOSUSDT\n",
      "Analyzing Hourly Started \n",
      "TOMOUSDT\n",
      "Analyzing Hourly Started \n",
      "MFTUSDT\n",
      "Analyzing Hourly Started \n",
      "KEYUSDT\n",
      "Analyzing Hourly Started \n",
      "WANUSDT\n",
      "Analyzing Hourly Started \n",
      "BANDUSDT\n",
      "Analyzing Hourly Started \n",
      "NKNUSDT\n",
      "Analyzing Hourly Started \n",
      "ARPAUSDT\n",
      "Analyzing Hourly Started \n",
      "TROYUSDT\n",
      "Analyzing Hourly Started \n",
      "BTSUSDT\n",
      "Analyzing Hourly Started \n",
      "LTOUSDT\n",
      "Analyzing Hourly Started \n",
      "MBLUSDT\n",
      "Analyzing Hourly Started \n",
      "VTHOUSDT\n",
      "Analyzing Hourly Started \n",
      "BLZUSDT\n",
      "Analyzing Hourly Started \n",
      "ANTUSDT\n",
      "Analyzing Hourly Started \n",
      "YFIIUSDT\n",
      "Analyzing Hourly Started \n",
      "DIAUSDT\n",
      "Analyzing Hourly Started \n",
      "BELUSDT\n",
      "Analyzing Hourly Started \n",
      "SUNUSDT\n",
      "Analyzing Hourly Started \n",
      "FLMUSDT\n",
      "Analyzing Hourly Started \n",
      "ORNUSDT\n",
      "Analyzing Hourly Started \n",
      "UTKUSDT\n",
      "Analyzing Hourly Started \n",
      "XVSUSDT\n",
      "Analyzing Hourly Started \n",
      "ALPHAUSDT\n",
      "Analyzing Hourly Started \n",
      "CTKUSDT\n",
      "Analyzing Hourly Started \n",
      "DNTUSDT\n",
      "Analyzing Hourly Started \n",
      "UNFIUSDT\n",
      "Analyzing Hourly Started \n",
      "REEFUSDT\n",
      "Analyzing Hourly Started \n",
      "RIFUSDT\n",
      "Analyzing Hourly Started \n",
      "TRUUSDT\n",
      "Analyzing Hourly Started \n",
      "LITUSDT\n",
      "Analyzing Hourly Started \n",
      "SFPUSDT\n",
      "Analyzing Hourly Started \n",
      "BADGERUSDT\n",
      "Analyzing Hourly Started \n",
      "PONDUSDT\n",
      "Analyzing Hourly Started \n",
      "ALICEUSDT\n",
      "Analyzing Hourly Started \n",
      "LINAUSDT\n",
      "Analyzing Hourly Started \n",
      "PERPUSDT\n",
      "Analyzing Hourly Started \n",
      "SUPERUSDT\n",
      "Analyzing Hourly Started \n",
      "TKOUSDT\n",
      "Analyzing Hourly Started \n",
      "FORTHUSDT\n",
      "Analyzing Hourly Started \n",
      "BAKEUSDT\n",
      "Analyzing Hourly Started \n",
      "BURGERUSDT\n",
      "Analyzing Hourly Started \n",
      "POLSUSDT\n",
      "Analyzing Hourly Started \n",
      "MASKUSDT\n",
      "Analyzing Hourly Started \n",
      "XVGUSDT\n",
      "Analyzing Hourly Started \n",
      "GTCUSDT\n",
      "Analyzing Hourly Started \n",
      "MLNUSDT\n",
      "Analyzing Hourly Started \n",
      "CLVUSDT\n",
      "Analyzing Hourly Started \n",
      "TVKUSDT\n",
      "Analyzing Hourly Started \n",
      "FARMUSDT\n",
      "Analyzing Hourly Started \n",
      "ALPACAUSDT\n",
      "Analyzing Hourly Started \n",
      "MBOXUSDT\n",
      "Analyzing Hourly Started \n",
      "GHSTUSDT\n",
      "Analyzing Hourly Started \n",
      "IDEXUSDT\n",
      "Analyzing Hourly Started \n",
      "ILVUSDT\n",
      "Analyzing Hourly Started \n",
      "RADUSDT\n",
      "Analyzing Hourly Started \n",
      "BETAUSDT\n",
      "Analyzing Hourly Started \n",
      "DARUSDT\n",
      "Analyzing Hourly Started \n",
      "RGTUSDT\n",
      "**** Hourly Analyze Done ******\n"
     ]
    }
   ],
   "source": [
    "while True:\n",
    "    schedule.run_pending()\n",
    "    time.sleep(1)"
   ]
  }
 ],
 "metadata": {
  "kernelspec": {
   "display_name": "Python 3 (ipykernel)",
   "language": "python",
   "name": "python3"
  },
  "language_info": {
   "codemirror_mode": {
    "name": "ipython",
    "version": 3
   },
   "file_extension": ".py",
   "mimetype": "text/x-python",
   "name": "python",
   "nbconvert_exporter": "python",
   "pygments_lexer": "ipython3",
   "version": "3.7.13"
  }
 },
 "nbformat": 4,
 "nbformat_minor": 5
}
